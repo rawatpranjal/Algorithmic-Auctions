{
  "nbformat": 4,
  "nbformat_minor": 0,
  "metadata": {
    "colab": {
      "provenance": [],
      "authorship_tag": "ABX9TyOgRKuqI0jeJNVYupeQJRZn",
      "include_colab_link": true
    },
    "kernelspec": {
      "name": "python3",
      "display_name": "Python 3"
    },
    "language_info": {
      "name": "python"
    }
  },
  "cells": [
    {
      "cell_type": "markdown",
      "metadata": {
        "id": "view-in-github",
        "colab_type": "text"
      },
      "source": [
        "<a href=\"https://colab.research.google.com/github/rawatpranjal/AlgorithmicCollusion/blob/main/IPD.ipynb\" target=\"_parent\"><img src=\"https://colab.research.google.com/assets/colab-badge.svg\" alt=\"Open In Colab\"/></a>"
      ]
    },
    {
      "cell_type": "markdown",
      "source": [
        "**Iterated Prisioners' Dilemma**\n",
        "\n",
        "- single state which is what the opponent did last period\n",
        "- cooperation emerges"
      ],
      "metadata": {
        "id": "30K0KDKEcwSR"
      }
    },
    {
      "cell_type": "code",
      "source": [
        "# Payoffs\n",
        "T = 1.0  # temptation payoff\n",
        "R = 0.9  # reward payoff\n",
        "P = 0.1  # punishment payoff\n",
        "S = 0  # sucker's payoff\n",
        "\n",
        "reward = np.array([[P, T],\n",
        "                  [S, R]])\n",
        "\n",
        "reward[1,1],reward[1,0],reward[0,1],reward[0,0]"
      ],
      "metadata": {
        "colab": {
          "base_uri": "https://localhost:8080/"
        },
        "id": "sAA_gIH8cf-j",
        "outputId": "a4d594f5-1f85-4800-a7b0-565da9d46768"
      },
      "execution_count": 107,
      "outputs": [
        {
          "output_type": "execute_result",
          "data": {
            "text/plain": [
              "(0.9, 0.0, 1.0, 0.1)"
            ]
          },
          "metadata": {},
          "execution_count": 107
        }
      ]
    },
    {
      "cell_type": "code",
      "source": [
        "import random\n",
        "import numpy as np\n",
        "\n",
        "# initialize parameters\n",
        "gamma = 0.9\n",
        "alpha = 0.1\n",
        "initial_temperature = 10.0\n",
        "temperature_decay = 0.9999\n",
        "min_temperature = 0.0001\n",
        "temperature = initial_temperature\n",
        "initial_eps = 1.0\n",
        "eps_decay = 0.9999\n",
        "min_eps = 0.0001\n",
        "eps = initial_eps\n",
        "\n",
        "# define the Boltzmann action selection function\n",
        "def boltzmann_action_selection(Q, state, temperature):\n",
        "    # compute the modified probabilities of each action using the Boltzmann distribution\n",
        "    max_Q = np.max(Q[state])\n",
        "    logits = (Q[state] - max_Q) / temperature\n",
        "    exp_logits = np.exp(logits)\n",
        "    probs = exp_logits / np.sum(exp_logits)\n",
        "    # select an action using the computed probabilities\n",
        "    action = np.random.choice(range(len(probs)), p=probs)\n",
        "    return action\n",
        "\n",
        "# initialize the Q-table\n",
        "num_states = 2\n",
        "num_actions = 2\n",
        "Q1 = np.ones((num_states, num_actions))\n",
        "Q2 = np.ones((num_states, num_actions))\n",
        "agent1_history = []\n",
        "agent2_history = []"
      ],
      "metadata": {
        "id": "rMMFE6vweCrl"
      },
      "execution_count": 108,
      "outputs": []
    },
    {
      "cell_type": "code",
      "source": [
        "# run Boltzmann Q-learning for a fixed number of episodes\n",
        "# initialize the state\n",
        "state1 = 1\n",
        "state2 = 1\n",
        "num_episodes = 100000\n",
        "for episode in range(num_episodes):\n",
        "\n",
        "    # take the exploratory action\n",
        "    if np.random.uniform()>eps:\n",
        "        # select an action using Boltzmann action selection\n",
        "        action1 = boltzmann_action_selection(Q1, state1,temperature)\n",
        "    else:\n",
        "        action1 = np.random.choice(range(num_actions))\n",
        "\n",
        "    if np.random.uniform()>eps:\n",
        "        # select an action using Boltzmann action selection\n",
        "        action2 = boltzmann_action_selection(Q2, state2,temperature)\n",
        "    else:\n",
        "        action2 = np.random.choice(range(num_actions))\n",
        "\n",
        "    # collect rewards\n",
        "    reward1 = reward[action1,action2]\n",
        "    reward2 = reward[action2,action1]\n",
        "\n",
        "    # observe the next state\n",
        "    next_state1 = action2\n",
        "    next_state2 = action1\n",
        "\n",
        "    # update the Q-value for the selected action in the current state\n",
        "    Q1[state1][action1] =  (1-alpha)*Q1[state1][action1] + alpha * (reward1 + gamma * np.max(Q1[next_state1]))\n",
        "    Q2[state2][action2] =  (1-alpha)*Q2[state2][action2] + alpha * (reward2 + gamma * np.max(Q2[next_state2]))\n",
        "\n",
        "    # move to the next state\n",
        "    state1 = next_state1\n",
        "    state2 = next_state2\n",
        "\n",
        "    # update temperature\n",
        "    temperature = max(min_temperature, temperature * temperature_decay)\n",
        "    eps = max(min_eps, eps * eps_decay)\n",
        "\n",
        "    if episode%10000==0:\n",
        "      print('\\n',episode, temperature, eps)\n",
        "      print(np.mean([boltzmann_action_selection(Q1, 1,temperature) for i in range(100)]), np.mean([boltzmann_action_selection(Q2, 1,temperature) for i in range(100)]))\n",
        "      print(np.mean([boltzmann_action_selection(Q1, 0,temperature) for i in range(100)]), np.mean([boltzmann_action_selection(Q2, 0,temperature) for i in range(100)]))\n",
        "      print(Q1)\n",
        "      print(Q2)\n",
        "    \n",
        "    agent1_history.append(action1)\n",
        "    agent2_history.append(action2)"
      ],
      "metadata": {
        "colab": {
          "base_uri": "https://localhost:8080/"
        },
        "id": "N1hJwYcueDkj",
        "outputId": "b94d6276-488d-4aa2-b1c6-b0236ddacf90"
      },
      "execution_count": 109,
      "outputs": [
        {
          "output_type": "stream",
          "name": "stdout",
          "text": [
            "\n",
            " 0 9.999 0.9999\n",
            "0.5 0.44\n",
            "0.49 0.5\n",
            "[[1.   1.  ]\n",
            " [1.09 1.  ]]\n",
            "[[1.   1.  ]\n",
            " [1.   0.99]]\n",
            "\n",
            " 10000 3.6782426032832705 0.3678242603283259\n",
            "0.56 0.55\n",
            "0.46 0.42\n",
            "[[5.57793725 5.22951702]\n",
            " [5.614626   5.58104954]]\n",
            "[[5.41939559 5.27946491]\n",
            " [5.51576814 5.43194785]]\n",
            "\n",
            " 20000 1.3530821730781113 0.13530821730781062\n",
            "0.42 0.53\n",
            "0.49 0.5\n",
            "[[5.46420437 5.41917949]\n",
            " [5.48696664 5.35713033]]\n",
            "[[5.43612529 5.33398786]\n",
            " [5.35533284 5.22703016]]\n",
            "\n",
            " 30000 0.497746224098313 0.049774622409830716\n",
            "0.3 0.4\n",
            "0.44 0.45\n",
            "[[5.14865386 5.01445685]\n",
            " [5.21092603 4.97166288]]\n",
            "[[5.31865463 5.20186607]\n",
            " [5.3760323  5.15079082]]\n",
            "\n",
            " 40000 0.1831014468548652 0.01831014468548625\n",
            "0.35 0.56\n",
            "0.38 0.51\n",
            "[[4.53769476 4.45285004]\n",
            " [4.55686238 4.47404235]]\n",
            "[[4.13131015 4.06277994]\n",
            " [4.36470941 4.39462074]]\n",
            "\n",
            " 50000 0.06735588984342127 0.006735588984342076\n",
            "0.0 1.0\n",
            "1.0 0.0\n",
            "[[4.14844429 4.98058604]\n",
            " [5.03093044 4.00876115]]\n",
            "[[5.05657428 3.30199602]\n",
            " [4.34732442 4.95657295]]\n",
            "\n",
            " 60000 0.024777608121224735 0.002477760812122453\n",
            "1.0 1.0\n",
            "1.0 0.0\n",
            "[[1.27629669 7.63224464]\n",
            " [7.01727289 8.88250639]]\n",
            "[[6.72162112 1.07132217]\n",
            " [5.77821266 8.83616529]]\n",
            "\n",
            " 70000 0.009114716851579779 0.0009114716851579683\n",
            "1.0 1.0\n",
            "1.0 0.0\n",
            "[[1.27629669 8.40551698]\n",
            " [7.72243145 9.        ]]\n",
            "[[7.44048386 1.07132217]\n",
            " [7.33373127 9.        ]]\n",
            "\n",
            " 80000 0.003352949278962375 0.0003352949278962337\n",
            "1.0 1.0\n",
            "1.0 0.0\n",
            "[[1.27629669 8.67763611]\n",
            " [7.98406307 8.99998708]]\n",
            "[[7.71757725 1.07132217]\n",
            " [8.16133017 9.        ]]\n",
            "\n",
            " 90000 0.0012334194303957732 0.00012334194303957526\n",
            "1.0 1.0\n",
            "1.0 0.0\n",
            "[[1.27629669 8.75256301]\n",
            " [8.09563611 9.        ]]\n",
            "[[7.8373319  1.07132217]\n",
            " [8.41570932 9.        ]]\n"
          ]
        }
      ]
    },
    {
      "cell_type": "code",
      "source": [
        "  import matplotlib.pyplot as plt\n",
        "  plt.rcParams[\"figure.figsize\"] = (10, 5)\n",
        "  plt.rcParams['font.size']=10\n",
        "  def moving_average(x, w):\n",
        "        return np.convolve(x, np.ones(w), 'valid') / w\n",
        "  plt.plot(moving_average(np.array(agent1_history),100), label = 'Agent 1 Actions', marker = 'o', c = 'b')\n",
        "  plt.plot(moving_average(np.array(agent2_history),100), label = 'Agent 2 Actions', marker = 'x', c = 'r')\n",
        "  #plt.title('Fraction of Co-operations in 100 games') \n",
        "  plt.show()"
      ],
      "metadata": {
        "colab": {
          "base_uri": "https://localhost:8080/",
          "height": 445
        },
        "id": "QlwwtvyJrG1P",
        "outputId": "3d3295b1-49e8-42e6-c799-1bcce8e1842b"
      },
      "execution_count": 117,
      "outputs": [
        {
          "output_type": "display_data",
          "data": {
            "text/plain": [
              "<Figure size 1000x500 with 1 Axes>"
            ],
            "image/png": "[encoded data removed]"
          },
          "metadata": {}
        }
      ]
    },
    {
      "cell_type": "code",
      "source": [
        "Q1"
      ],
      "metadata": {
        "colab": {
          "base_uri": "https://localhost:8080/"
        },
        "id": "epZiktiqjk74",
        "outputId": "efb39b9d-59b8-404f-f472-dfb4f6f01c3b"
      },
      "execution_count": 118,
      "outputs": [
        {
          "output_type": "execute_result",
          "data": {
            "text/plain": [
              "array([[1.27629669, 8.79256888],\n",
              "       [8.1960725 , 9.        ]])"
            ]
          },
          "metadata": {},
          "execution_count": 118
        }
      ]
    },
    {
      "cell_type": "code",
      "source": [
        "Q2"
      ],
      "metadata": {
        "colab": {
          "base_uri": "https://localhost:8080/"
        },
        "id": "nioHksPLsph_",
        "outputId": "c3b0bf18-0aa4-448b-a901-ad649e37c6f8"
      },
      "execution_count": 119,
      "outputs": [
        {
          "output_type": "execute_result",
          "data": {
            "text/plain": [
              "array([[7.9460811 , 1.07132217],\n",
              "       [8.54572446, 9.        ]])"
            ]
          },
          "metadata": {},
          "execution_count": 119
        }
      ]
    },
    {
      "cell_type": "code",
      "source": [],
      "metadata": {
        "id": "KpLYDji1sqS-"
      },
      "execution_count": null,
      "outputs": []
    }
  ]
}