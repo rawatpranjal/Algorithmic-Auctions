{
 "cells": [
  {
   "cell_type": "markdown",
   "id": "2166cefe",
   "metadata": {},
   "source": [
    "### Model\n",
    "\n",
    "$p = u - v \\sum_i q_i$ \n",
    "\n",
    "Walrasian \n",
    "- $\\pi_w = \\max_{q_i}{(p - w) q_i}$ \n",
    "- $w = u - v Q$\n",
    "- $Q_w = \\frac{u-w}{v}$\n",
    "- $P_w = w$\n",
    "- $q_w \\in [0,Q_w], \\pi_w = 0, \\Pi_w = 0$\n",
    "\n",
    "Nash\n",
    "- $\\pi_c = \\max_{q_i}{(p(Q) - w) q_i}$ \n",
    "- $p(Q) - w - v q_i = 0$\n",
    "- $n p(Q) = n w + v Q = n u - n v Q$\n",
    "- $Q_c = \\frac{n(u-w)}{v(n+1)}$\n",
    "- $P_c = u - v Q$\n",
    "- $q_c = Q_c/n$\n",
    "\n",
    "Monopoly\n",
    "- $\\pi_m = \\max_{Q}{(p(Q) - w) Q}$ \n",
    "- $p(Q)=w+vQ=u-vQ$ \n",
    "- $Q_m =\\frac{u-w}{2v}$ \n",
    "- $P_m =\\frac{u-w}{2v}$\n"
   ]
  },
  {
   "cell_type": "code",
   "execution_count": 13,
   "id": "1fe133b4",
   "metadata": {},
   "outputs": [],
   "source": [
    "u = 40\n",
    "v = 1\n",
    "w = 4"
   ]
  },
  {
   "cell_type": "code",
   "execution_count": 34,
   "id": "18d2dd46",
   "metadata": {},
   "outputs": [],
   "source": [
    "# Nash / Competition - with market power\n",
    "\n",
    "def price(Q,u,v):\n",
    "    return u-v*Q\n",
    "\n",
    "def profit(P,Q):\n",
    "    return\n",
    "           \n",
    "class cournot:\n",
    "    def __init__(self,u,v,w,n):\n",
    "        self.u=u\n",
    "        self.v=v\n",
    "        self.w=w\n",
    "        self.n=n\n",
    "        self.Qw=(u-w)/v\n",
    "        self.Qc=n*(u-w)/v/(n+1)\n",
    "        self.Qm=(u-w)/2*v\n",
    "        self.Pw = price(self.Qw,u,v)\n",
    "        self.Pc = price(self.Qc,u,v)\n",
    "        self.Pm = price(self.Qm,u,v)\n",
    "        self.Πw = 0\n",
    "        self.Πc = (self.Pc-w)*self.Qc\n",
    "        self.Πm = (self.Pm-w)*self.Qm\n",
    "        self.qw = self.Qw/n\n",
    "        self.qc = self.Qc/n\n",
    "        self.qm = self.Qm/n\n",
    "        self.πw = 0\n",
    "        self.πw = self.Πc/n\n",
    "        self.πw = self.Πm/n\n",
    "        \n",
    "game1 = cournot(40,1,4,2)\n",
    "game2 = cournot(40,1,4,3)\n",
    "game3 = cournot(40,1,4,4)\n",
    "game4 = cournot(40,1,4,5)"
   ]
  },
  {
   "cell_type": "code",
   "execution_count": 52,
   "id": "034c339f",
   "metadata": {},
   "outputs": [
    {
     "name": "stdout",
     "output_type": "stream",
     "text": [
      "324.0\n",
      "324.0\n",
      "324.0\n",
      "324.0\n",
      "324.0\n"
     ]
    },
    {
     "data": {
      "text/plain": [
       "(0.31, 0.33, 0.38, 0.34, 0.24)"
      ]
     },
     "execution_count": 52,
     "metadata": {},
     "output_type": "execute_result"
    }
   ],
   "source": [
    "def compare(game1, value):\n",
    "    return round((value-game1.Πc)/(game1.Πm-game1.Πc),2)\n",
    "\n",
    "compare(game1, 299), compare(game2, 270), compare(game3, 252),  compare(game4, 229), compare(game4, 215)"
   ]
  },
  {
   "cell_type": "code",
   "execution_count": 51,
   "id": "3cb0791a",
   "metadata": {},
   "outputs": [
    {
     "data": {
      "text/plain": [
       "(0.83, 0.75, 0.6, 0.63, 0.75)"
      ]
     },
     "execution_count": 51,
     "metadata": {},
     "output_type": "execute_result"
    }
   ],
   "source": [
    "compare(game1, 318), compare(game2, 304), compare(game3, 277.5),  compare(game4, 271), compare(game4, 288)"
   ]
  },
  {
   "cell_type": "code",
   "execution_count": null,
   "id": "589b8617",
   "metadata": {},
   "outputs": [],
   "source": []
  }
 ],
 "metadata": {
  "kernelspec": {
   "display_name": "Python 3 (ipykernel)",
   "language": "python",
   "name": "python3"
  },
  "language_info": {
   "codemirror_mode": {
    "name": "ipython",
    "version": 3
   },
   "file_extension": ".py",
   "mimetype": "text/x-python",
   "name": "python",
   "nbconvert_exporter": "python",
   "pygments_lexer": "ipython3",
   "version": "3.10.9"
  }
 },
 "nbformat": 4,
 "nbformat_minor": 5
}
