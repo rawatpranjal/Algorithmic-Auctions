{
 "cells": [
  {
   "cell_type": "markdown",
   "id": "d0a9b733",
   "metadata": {},
   "source": [
    "## Cournot Duopoly with Dynamic Demand"
   ]
  },
  {
   "cell_type": "markdown",
   "id": "9412d457",
   "metadata": {},
   "source": [
    "### Packages"
   ]
  },
  {
   "cell_type": "code",
   "execution_count": 20,
   "id": "0f3829f3",
   "metadata": {},
   "outputs": [],
   "source": [
    "import numpy as np\n",
    "np.set_printoptions(precision=2)\n",
    "import scipy.stats as stats\n",
    "import matplotlib.pyplot as plt"
   ]
  },
  {
   "cell_type": "markdown",
   "id": "e1d30fba",
   "metadata": {},
   "source": [
    "### Cournot\n",
    "\n",
    "Dynamic Demand:\n",
    "- $p_t = u_t - v \\sum_i q_{it} + x_t$ \n",
    "- $x_t = \\rho x_{t-1} + e_t, e_t \\sim N(0,\\sigma)$\n",
    "\n",
    "Walrasian \n",
    "- $\\pi_w = \\max_{q_i}{(p - w) q_i}$ \n",
    "- $w = u - v Q$\n",
    "- $Q_w = \\frac{u-w}{v}$\n",
    "- $P_w = w$\n",
    "- $q_w \\in [0,Q_w], \\pi_w = 0, \\Pi_w = 0$\n",
    "\n",
    "Nash\n",
    "- $\\pi_c = \\max_{q_i}{(p(Q) - w) q_i}$ \n",
    "- $p(Q) - w - v q_i = 0$\n",
    "- $n p(Q) = n w + v Q = n u - n v Q$\n",
    "- $Q_c = \\frac{n(u-w)}{v(n+1)}$\n",
    "- $P_c = u - v Q$\n",
    "- $q_c = Q_c/n$\n",
    "\n",
    "Monopoly\n",
    "- $\\pi_m = \\max_{Q}{(p(Q) - w) Q}$ \n",
    "- $p(Q)=w+vQ=u-vQ$ \n",
    "- $Q_m =\\frac{u-w}{2v}$ \n",
    "- $P_m =\\frac{u-w}{2v}$\n"
   ]
  },
  {
   "cell_type": "code",
   "execution_count": 21,
   "id": "ed1bfb4a",
   "metadata": {},
   "outputs": [],
   "source": [
    "# parameters of model\n",
    "gamma = 0.9\n",
    "u = 40\n",
    "v = 1\n",
    "w = 4\n",
    "n = 2\n",
    "sigma = 0.05\n",
    "rho = 0.1"
   ]
  },
  {
   "cell_type": "code",
   "execution_count": 22,
   "id": "7b9781f7",
   "metadata": {},
   "outputs": [],
   "source": [
    "def price(Q,u,v):\n",
    "    return u-v*Q\n",
    "\n",
    "def profit(P,Q):\n",
    "    return\n",
    "           \n",
    "class cournot:\n",
    "    def __init__(self,u,v,w,n):\n",
    "        self.u=u\n",
    "        self.v=v\n",
    "        self.w=w\n",
    "        self.n=n\n",
    "        self.Qw=(u-w)/v\n",
    "        self.Qc=n*(u-w)/v/(n+1)\n",
    "        self.Qm=(u-w)/2*v\n",
    "        self.Pw = price(self.Qw,u,v)\n",
    "        self.Pc = price(self.Qc,u,v)\n",
    "        self.Pm = price(self.Qm,u,v)\n",
    "        self.Πw = 0\n",
    "        self.Πc = (self.Pc-w)*self.Qc\n",
    "        self.Πm = (self.Pm-w)*self.Qm\n",
    "        self.qw = self.Qw/n\n",
    "        self.qc = self.Qc/n\n",
    "        self.qm = self.Qm/n\n",
    "        self.πw = 0\n",
    "        self.πc = self.Πc/n\n",
    "        self.πm = self.Πm/n\n",
    "    \n",
    "    def mprice(self,Q):\n",
    "        return self.u-v*(Q)\n",
    "    \n",
    "    def mprofit(self,Q):\n",
    "        return (self.mprice(Q)-w)*Q\n",
    "    \n",
    "    def cprice(self,q,q_):\n",
    "        return self.u-v*(q+q_)\n",
    "    \n",
    "    def cprofit(self,q,q_):\n",
    "        return (self.cprice(q,q_)-w)*q\n",
    "        \n",
    "def whichidx(value, array):\n",
    "    return np.argmin(np.abs(array-value))\n",
    "\n",
    "game1 = cournot(40,1,4,2)"
   ]
  },
  {
   "cell_type": "code",
   "execution_count": 23,
   "id": "4edf36c1",
   "metadata": {},
   "outputs": [
    {
     "data": {
      "text/plain": [
       "(24.0, 12.0, 16.0, 4, 288.0, 324.0, 324.0)"
      ]
     },
     "execution_count": 23,
     "metadata": {},
     "output_type": "execute_result"
    }
   ],
   "source": [
    "game1.Qc, game1.qc, game1.Pc, game1.w, game1.Πc, game1.Πm, game1.mprofit(game1.Qm)"
   ]
  },
  {
   "cell_type": "code",
   "execution_count": 24,
   "id": "bde3a92b",
   "metadata": {},
   "outputs": [
    {
     "data": {
      "text/plain": [
       "(243, 162)"
      ]
     },
     "execution_count": 24,
     "metadata": {},
     "output_type": "execute_result"
    }
   ],
   "source": [
    "game1.mprofit(9), game1.cprofit(9,9)"
   ]
  },
  {
   "cell_type": "markdown",
   "id": "1a9d31cb",
   "metadata": {},
   "source": [
    "### Shocks"
   ]
  },
  {
   "cell_type": "code",
   "execution_count": 162,
   "id": "ffc5ba60",
   "metadata": {},
   "outputs": [
    {
     "ename": "IndexError",
     "evalue": "index 1 is out of bounds for axis 0 with size 1",
     "output_type": "error",
     "traceback": [
      "\u001b[0;31m---------------------------------------------------------------------------\u001b[0m",
      "\u001b[0;31mIndexError\u001b[0m                                Traceback (most recent call last)",
      "Cell \u001b[0;32mIn [162], line 14\u001b[0m\n\u001b[1;32m     11\u001b[0m pm_history\u001b[38;5;241m=\u001b[39m[]\n\u001b[1;32m     13\u001b[0m uidx \u001b[38;5;241m=\u001b[39m \u001b[38;5;241m1\u001b[39m\n\u001b[0;32m---> 14\u001b[0m u \u001b[38;5;241m=\u001b[39m \u001b[38;5;241m40\u001b[39m \u001b[38;5;241m+\u001b[39m \u001b[43mZ\u001b[49m\u001b[43m[\u001b[49m\u001b[43muidx\u001b[49m\u001b[43m]\u001b[49m\n\u001b[1;32m     15\u001b[0m \u001b[38;5;28;01mfor\u001b[39;00m t \u001b[38;5;129;01min\u001b[39;00m \u001b[38;5;28mrange\u001b[39m(\u001b[38;5;241m100\u001b[39m):\n\u001b[1;32m     16\u001b[0m     \u001b[38;5;66;03m# evaluate market \u001b[39;00m\n\u001b[1;32m     17\u001b[0m     qc_history\u001b[38;5;241m.\u001b[39mappend(cournot(u,v,w,n)\u001b[38;5;241m.\u001b[39mqc)\n",
      "\u001b[0;31mIndexError\u001b[0m: index 1 is out of bounds for axis 0 with size 1"
     ]
    }
   ],
   "source": [
    "import numpy as np\n",
    "\n",
    "P = np.array([1])\n",
    "Z = np.array([0])\n",
    "\n",
    "u_history=[]\n",
    "qc_history=[]\n",
    "qm_history=[]\n",
    "pc_history=[]\n",
    "pm_history=[]\n",
    "\n",
    "uidx = 1\n",
    "u = 40 + Z[uidx]\n",
    "for t in range(100):\n",
    "    # evaluate market \n",
    "    qc_history.append(cournot(u,v,w,n).qc)\n",
    "    qm_history.append(cournot(u,v,w,n).qm)\n",
    "    pc_history.append(cournot(u,v,w,n).πc)\n",
    "    pm_history.append(cournot(u,v,w,n).πm)\n",
    "\n",
    "    # generate next shock\n",
    "    uidx = whichidx(np.random.choice(Z,p=P[uidx]), Z)\n",
    "    u = 40 + Z[uidx]\n",
    "    u_history.append(u)\n",
    "    \n",
    "plt.plot(u_history)\n",
    "plt.show()\n",
    "\n",
    "plt.plot(pc_history, label = 'Profits Competition')\n",
    "plt.plot(pm_history, label = 'Profits Monopoly')\n",
    "plt.legend()\n",
    "plt.show()\n",
    "\n",
    "plt.plot(qc_history, label = 'Quantity Competition')\n",
    "plt.plot(qm_history, label = 'Quantity Monopoly')\n",
    "plt.legend()\n",
    "plt.show()"
   ]
  },
  {
   "cell_type": "markdown",
   "id": "f28a8912",
   "metadata": {},
   "source": [
    "### Q-Learning"
   ]
  },
  {
   "cell_type": "code",
   "execution_count": 179,
   "id": "e2ad6821",
   "metadata": {},
   "outputs": [
    {
     "name": "stdout",
     "output_type": "stream",
     "text": [
      "9.0 12.0\n"
     ]
    },
    {
     "data": {
      "text/plain": [
       "array([ 9.  ,  9.75, 10.5 , 11.25, 12.  ])"
      ]
     },
     "execution_count": 179,
     "metadata": {},
     "output_type": "execute_result"
    }
   ],
   "source": [
    "import random\n",
    "import numpy as np\n",
    "\n",
    "# initialize the Q-table\n",
    "game = game1\n",
    "num_states1 = 5\n",
    "num_states2 = 1\n",
    "num_actions = 5\n",
    "P = np.array([[1]])\n",
    "Z = np.array([0])\n",
    "\n",
    "# initialize the states\n",
    "state1 = 0\n",
    "state2 = 0\n",
    "uidx = int(round(num_states2/2))\n",
    "u = 40 + Z[uidx]\n",
    "\n",
    "# parameters of model\n",
    "gamma = 0.9\n",
    "u = 40\n",
    "v = 1\n",
    "w = 4\n",
    "n = 2\n",
    "\n",
    "# Define Q matrices\n",
    "Q1 = np.random.uniform(cournot(u,v,w,n).Πc,cournot(u,v,w,n).Πm,(num_states1, num_states2, num_actions))\n",
    "Q2 = np.random.uniform(cournot(u,v,w,n).Πc,cournot(u,v,w,n).Πm,(num_states1, num_states2, num_actions))\n",
    "\n",
    "# histories\n",
    "u_history = []\n",
    "q1_history = []\n",
    "q2_history = []\n",
    "qc_history=[]\n",
    "qm_history=[]\n",
    "pc_history=[]\n",
    "pm_history=[]\n",
    "\n",
    "\n",
    "print(cournot(u+Z[0],v,w,n).qm,cournot(u+Z[-1],v,w,n).qc)\n",
    "\n",
    "action2quantity = np.linspace(9,12,num_actions)\n",
    "action2quantity"
   ]
  },
  {
   "cell_type": "code",
   "execution_count": 181,
   "id": "18017d1f",
   "metadata": {},
   "outputs": [],
   "source": [
    "# define the Boltzmann action selection function\n",
    "def boltzmann_action_selection(Q, state1, state2, temperature):\n",
    "    # compute the modified probabilities of each action using the Boltzmann distribution\n",
    "    max_Q = np.max(Q[state1, state2,:])\n",
    "    logits = (Q[state1, state2,:] - max_Q) / temperature\n",
    "    exp_logits = np.exp(logits)\n",
    "    probs = exp_logits / np.sum(exp_logits)\n",
    "    # select an action using the computed probabilities\n",
    "    action = np.random.choice(range(len(probs)), p=probs)\n",
    "    return action"
   ]
  },
  {
   "cell_type": "code",
   "execution_count": 182,
   "id": "fc3b07ae",
   "metadata": {},
   "outputs": [],
   "source": [
    "# initialize Boltzmann Q-learning parameters\n",
    "alpha = 0.7\n",
    "initial_temperature = 1.0\n",
    "temperature_decay = 0.999999\n",
    "min_temperature = 0.01\n",
    "temperature = initial_temperature\n",
    "initial_eps = 1.0\n",
    "eps_decay = 0.999999\n",
    "min_eps = 0.01\n",
    "eps = initial_eps\n",
    "errors = []\n",
    "num_episodes = 2000000"
   ]
  },
  {
   "cell_type": "code",
   "execution_count": 229,
   "id": "49c28e11",
   "metadata": {},
   "outputs": [],
   "source": [
    "# initialize Boltzmann Q-learning parameters\n",
    "alpha = 0.7\n",
    "initial_temperature = 1.0\n",
    "temperature_decay = 0.99999\n",
    "min_temperature = 0.01\n",
    "temperature = initial_temperature\n",
    "initial_eps = 1.0\n",
    "eps_decay = 0.99999\n",
    "min_eps = 0.01\n",
    "eps = initial_eps\n",
    "errors = []\n",
    "num_episodes = 100000"
   ]
  },
  {
   "cell_type": "code",
   "execution_count": 230,
   "id": "bf2c19e6",
   "metadata": {},
   "outputs": [
    {
     "name": "stdout",
     "output_type": "stream",
     "text": [
      "0,1.77,0.00, 4.00, 153.00,  1.00, 1.00\n",
      "10000,0.70,0.00, 1.00, 160.88,  0.90, 0.90\n",
      "20000,0.96,0.00, 2.00, 173.25,  0.82, 0.82\n",
      "30000,1.77,0.00, 3.00, 177.19,  0.74, 0.74\n",
      "40000,2.26,0.00, 3.00, 160.31,  0.67, 0.67\n",
      "50000,2.53,0.00, 1.00, 138.94,  0.61, 0.61\n",
      "60000,3.13,0.00, 1.00, 160.88,  0.55, 0.55\n",
      "70000,3.60,0.00, 3.00, 168.75,  0.50, 0.50\n",
      "80000,4.23,0.00, 4.00, 171.00,  0.45, 0.45\n",
      "90000,4.50,0.00, 4.00, 144.00,  0.41, 0.41\n"
     ]
    }
   ],
   "source": [
    "# run Boltzmann Q-learning for a fixed number of episodes\n",
    "for episode in range(num_episodes):\n",
    "    \n",
    "    # Act according to exploratory policy\n",
    "    if np.random.uniform()>eps:\n",
    "        # Boltzmann action selection\n",
    "        action1 = boltzmann_action_selection(Q1, state1, uidx, temperature)\n",
    "    else:\n",
    "        action1 = np.random.choice(range(num_actions))\n",
    "\n",
    "    if np.random.uniform()>eps:\n",
    "        # Boltzmann action selection\n",
    "        action2 = boltzmann_action_selection(Q2, state2, uidx, temperature)\n",
    "    else:\n",
    "        action2 = np.random.choice(range(num_actions))\n",
    "        \n",
    "    quantity1 = action2quantity[action1]\n",
    "    quantity2 = action2quantity[action2]\n",
    "\n",
    "    # Get rewards\n",
    "    reward1 = cournot(u,v,w,n).cprofit(quantity1,quantity2)\n",
    "    reward2 = cournot(u,v,w,n).cprofit(quantity2,quantity1)\n",
    "\n",
    "    # update the Q-value for the selected action in the current state\n",
    "    Q1[state1][uidx][action1] =  (1-alpha)*Q1[state1][uidx][action1] + alpha * (reward1 + gamma * np.max(np.average(Q1[state1],axis=0,weights=P[uidx])))\n",
    "    Q2[state2][uidx][action2] =  (1-alpha)*Q2[state2][uidx][action2] + alpha * (reward2 + gamma * np.max(np.average(Q2[state2],axis=0,weights=P[uidx])))\n",
    "\n",
    "    # update states\n",
    "    state1 = action2\n",
    "    state2 = action1\n",
    "    \n",
    "    # generate shock\n",
    "    uidx = whichidx(np.random.choice(Z,p=P[uidx]), Z)\n",
    "    u = 40 + Z[uidx]\n",
    "    \n",
    "    # update temperature\n",
    "    temperature = max(min_temperature, temperature * temperature_decay)\n",
    "    \n",
    "    # print output\n",
    "    eps = max(min_eps, eps * eps_decay)\n",
    "    error = reward1 + gamma * np.max(np.average(Q1[state1],axis=0,weights=P[uidx]))-Q1[state1][uidx][action1] \n",
    "    errors.append(error)\n",
    "    if episode%10000 == 0:  \n",
    "        print(f'{episode},{np.mean(errors[-10000:]):0.2f},{uidx:0.2f}, {action1:0.2f}, {reward1:0.2f},  {temperature:0.2f}, {eps:0.2f}')\n",
    "    \n",
    "    # record history\n",
    "    u_history.append(u)\n",
    "    q1_history.append(quantity1)\n",
    "    q2_history.append(quantity2)\n",
    "    qc_history.append(cournot(u,v,w,n).qc)\n",
    "    qm_history.append(cournot(u,v,w,n).qm)"
   ]
  },
  {
   "cell_type": "markdown",
   "id": "c8cc79cc",
   "metadata": {},
   "source": [
    "### Response Functions"
   ]
  },
  {
   "cell_type": "code",
   "execution_count": 231,
   "id": "922096cb",
   "metadata": {
    "scrolled": true
   },
   "outputs": [
    {
     "name": "stdout",
     "output_type": "stream",
     "text": [
      "(0, 0) 4\n",
      "(1, 0) 3\n",
      "(2, 0) 2\n",
      "(3, 0) 3\n",
      "(4, 0) 3\n"
     ]
    }
   ],
   "source": [
    "for state1 in range(num_states1):\n",
    "    for uidx in range(num_states2):\n",
    "        action1 = boltzmann_action_selection(Q1, state1, uidx, 0.0001)\n",
    "        print((state1,uidx), action1)"
   ]
  },
  {
   "cell_type": "code",
   "execution_count": 232,
   "id": "07aa32a9",
   "metadata": {},
   "outputs": [
    {
     "name": "stdout",
     "output_type": "stream",
     "text": [
      "(0, 0) 3\n",
      "(1, 0) 3\n",
      "(2, 0) 4\n",
      "(3, 0) 3\n",
      "(4, 0) 4\n"
     ]
    }
   ],
   "source": [
    "for state1 in range(num_states1):\n",
    "    for uidx in range(num_states2):\n",
    "        action2 = boltzmann_action_selection(Q2, state1, uidx, 0.0001)\n",
    "        print((state1,uidx), action2)"
   ]
  },
  {
   "cell_type": "markdown",
   "id": "a6e9a3b3",
   "metadata": {},
   "source": [
    "### Check Probs "
   ]
  },
  {
   "cell_type": "code",
   "execution_count": 233,
   "id": "5713f27d",
   "metadata": {},
   "outputs": [],
   "source": [
    "# define the Boltzmann action selection function\n",
    "def boltzmann_action_probs(Q, state1, state2, temperature=0.001):\n",
    "    # compute the modified probabilities of each action using the Boltzmann distribution\n",
    "    max_Q = np.max(Q[state1, state2,:])\n",
    "    logits = (Q[state1, state2,:] - max_Q) / temperature\n",
    "    exp_logits = np.exp(logits)\n",
    "    probs = exp_logits / np.sum(exp_logits)\n",
    "    return probs"
   ]
  },
  {
   "cell_type": "code",
   "execution_count": 234,
   "id": "928d66dc",
   "metadata": {},
   "outputs": [
    {
     "name": "stdout",
     "output_type": "stream",
     "text": [
      "0 [0. 0. 0. 1. 0.]\n"
     ]
    }
   ],
   "source": [
    "# Average Response\n",
    "for uidx in range(num_states2):\n",
    "        print(uidx,np.round(boltzmann_action_probs(Q1,state1, uidx),2))"
   ]
  },
  {
   "cell_type": "markdown",
   "id": "c7886c03",
   "metadata": {},
   "source": [
    "### Plot"
   ]
  },
  {
   "cell_type": "code",
   "execution_count": 235,
   "id": "e321d655",
   "metadata": {},
   "outputs": [
    {
     "data": {
      "image/png": "[encoded data removed]",
      "text/plain": [
       "<Figure size 640x480 with 1 Axes>"
      ]
     },
     "metadata": {},
     "output_type": "display_data"
    },
    {
     "data": {
      "image/png": "[encoded data removed]",
      "text/plain": [
       "<Figure size 640x480 with 1 Axes>"
      ]
     },
     "metadata": {},
     "output_type": "display_data"
    }
   ],
   "source": [
    "import matplotlib.pyplot as plt\n",
    "k = 100\n",
    "plt.plot(u_history[-k:])\n",
    "plt.show()\n",
    "\n",
    "plt.plot(qc_history[-k:])\n",
    "plt.plot(qm_history[-k:])\n",
    "plt.plot(q1_history[-k:])\n",
    "plt.show()"
   ]
  },
  {
   "cell_type": "markdown",
   "id": "a6e0c882",
   "metadata": {},
   "source": [
    "### Correlations with shocks"
   ]
  },
  {
   "cell_type": "code",
   "execution_count": 236,
   "id": "0c90c174",
   "metadata": {},
   "outputs": [
    {
     "data": {
      "text/plain": [
       "array([[nan, nan],\n",
       "       [nan,  1.]])"
      ]
     },
     "execution_count": 236,
     "metadata": {},
     "output_type": "execute_result"
    }
   ],
   "source": [
    "k = 1000\n",
    "np.corrcoef(u_history[-k:], q1_history[-k:])"
   ]
  },
  {
   "cell_type": "markdown",
   "id": "403c4160",
   "metadata": {},
   "source": [
    "### Impulse Response"
   ]
  },
  {
   "cell_type": "code",
   "execution_count": 251,
   "id": "b7a66828",
   "metadata": {},
   "outputs": [],
   "source": [
    "uidx = 0\n",
    "u = 40 + Z[uidx]\n",
    "u_impulse=[]\n",
    "q1_impulse=[]\n",
    "q2_impulse=[]\n",
    "qm_impulse = []\n",
    "qc_impulse = []\n",
    "temperature_impulse=0.0001\n",
    "state1 = 3\n",
    "state2 = 3\n",
    "# run Boltzmann Q-learning for a fixed number of episodes\n",
    "num_episodes = 20\n",
    "for episode in range(num_episodes):\n",
    "    \n",
    "    if episode==5:\n",
    "        state1=0\n",
    "    \n",
    "    # Act greedily\n",
    "    action1 = boltzmann_action_selection(Q1, state1, uidx, temperature_impulse)\n",
    "    action2 = boltzmann_action_selection(Q2, state2, uidx, temperature_impulse)\n",
    "  \n",
    "    quantity1 = action2quantity[action1]\n",
    "    quantity2 = action2quantity[action2]\n",
    "\n",
    "    # Get rewards\n",
    "    reward1 = cournot(u,v,w,n).cprofit(quantity1,quantity2)\n",
    "    reward2 = cournot(u,v,w,n).cprofit(quantity2,quantity1)\n",
    "\n",
    "    # update states\n",
    "    state1 = action2\n",
    "    state2 = action1\n",
    "    \n",
    "    # generate shock\n",
    "    #uidx = whichidx(np.random.choice(Z,p=P[uidx]), Z)\n",
    "    #u = 40 + Z[uidx]\n",
    "\n",
    "    # record history\n",
    "    u_impulse.append(u)\n",
    "    q1_impulse.append(quantity1)\n",
    "    q2_impulse.append(quantity2)\n",
    "    qc_impulse.append(cournot(u,v,w,n).qc)\n",
    "    qm_impulse.append(cournot(u,v,w,n).qm)"
   ]
  },
  {
   "cell_type": "code",
   "execution_count": 252,
   "id": "df3fe09f",
   "metadata": {},
   "outputs": [
    {
     "data": {
      "image/png": "[encoded data removed]",
      "text/plain": [
       "<Figure size 640x480 with 1 Axes>"
      ]
     },
     "metadata": {},
     "output_type": "display_data"
    }
   ],
   "source": [
    "import matplotlib.pyplot as plt\n",
    "plt.plot(q1_impulse, '-o', label = 'q1')\n",
    "plt.plot(q2_impulse, '-x', label = 'q2')\n",
    "plt.plot(qm_impulse, 'b', label = 'Monopoly Q')\n",
    "plt.plot(qc_impulse, 'r', label = 'Competition Q')\n",
    "plt.legend()\n",
    "plt.show()"
   ]
  }
 ],
 "metadata": {
  "kernelspec": {
   "display_name": "Python 3 (ipykernel)",
   "language": "python",
   "name": "python3"
  },
  "language_info": {
   "codemirror_mode": {
    "name": "ipython",
    "version": 3
   },
   "file_extension": ".py",
   "mimetype": "text/x-python",
   "name": "python",
   "nbconvert_exporter": "python",
   "pygments_lexer": "ipython3",
   "version": "3.10.9"
  }
 },
 "nbformat": 4,
 "nbformat_minor": 5
}
