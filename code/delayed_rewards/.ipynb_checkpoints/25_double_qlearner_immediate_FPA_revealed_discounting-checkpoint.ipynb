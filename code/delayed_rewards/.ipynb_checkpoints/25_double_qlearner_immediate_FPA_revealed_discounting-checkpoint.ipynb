{
 "cells": [
  {
   "cell_type": "code",
   "execution_count": 1,
   "id": "5074689f",
   "metadata": {},
   "outputs": [
    {
     "data": {
      "image/png": "[encoded data removed]",
      "text/plain": [
       "<Figure size 640x480 with 2 Axes>"
      ]
     },
     "metadata": {},
     "output_type": "display_data"
    }
   ],
   "source": [
    "# initialize the reward matrix\n",
    "import matplotlib.pyplot as plt\n",
    "import numpy as np\n",
    "np.set_printoptions(precision=2)\n",
    "num_states = 5\n",
    "num_actions = 5 # producing highest quantity\n",
    "action2bid = np.linspace(0,1,num_actions)\n",
    "reward = np.zeros((num_actions, num_actions))\n",
    "for i in range(reward.shape[0]):\n",
    "    for j in range(reward.shape[1]):\n",
    "      if i>j: \n",
    "        reward[i, j] += 1-action2bid[j]\n",
    "      elif i==j:\n",
    "        reward[i, j] += (1-action2bid[i])/2\n",
    "      else:\n",
    "        reward[i, j] += 0\n",
    "\n",
    "# Plot heatmap\n",
    "plt.imshow(reward, cmap='YlGnBu', interpolation='nearest')\n",
    "plt.colorbar()\n",
    "plt.show()"
   ]
  },
  {
   "cell_type": "code",
   "execution_count": 2,
   "id": "9c2c6d30",
   "metadata": {},
   "outputs": [],
   "source": [
    "import random\n",
    "import numpy as np\n",
    "\n",
    "# initialize parameters\n",
    "gamma = 0.95\n",
    "alpha = 0.1\n",
    "initial_eps = 1.0\n",
    "eps_decay = 0.99999\n",
    "min_eps = 0.001\n",
    "eps = initial_eps\n",
    "\n",
    "# initialize the Q-table\n",
    "Q1_period1 = np.ones((num_actions,num_actions))\n",
    "Q2_period1 = np.ones((num_actions,num_actions))\n",
    "agent1_period1_history = []\n",
    "agent2_period1_history = []\n",
    "winning_bid_history = []\n",
    "agent1_total_reward = []\n",
    "agent2_total_reward = []"
   ]
  },
  {
   "cell_type": "code",
   "execution_count": null,
   "id": "10174c0d",
   "metadata": {},
   "outputs": [
    {
     "name": "stdout",
     "output_type": "stream",
     "text": [
      "\n",
      " 0 0.99999\n",
      "\n",
      " 100000 0.36787392299223054\n",
      "\n",
      " 200000 0.13533257654345696\n",
      "\n",
      " 300000 0.0497858236999252\n"
     ]
    }
   ],
   "source": [
    "# initialize the state\n",
    "num_episodes = 1000000\n",
    "winning_bid = 0\n",
    "for episode in range(num_episodes):\n",
    "\n",
    "    # ------ Period 1 ------\n",
    "    # take the action according to exploratory policy\n",
    "    if np.random.uniform()>eps:\n",
    "        agent1_action1 = np.argmax(Q1_period1[winning_bid])\n",
    "    else:\n",
    "        agent1_action1 = np.random.choice(range(num_actions))\n",
    "        \n",
    "    # take the action according to exploratory policy\n",
    "    if np.random.uniform()>eps:\n",
    "        agent2_action1 = np.argmax(Q2_period1[winning_bid])\n",
    "    else:\n",
    "        agent2_action1 = np.random.choice(range(num_actions))\n",
    " \n",
    "    # collect rewards\n",
    "    agent1_final_reward = reward[agent1_action1,agent2_action1]\n",
    "    agent2_final_reward = reward[agent2_action1,agent1_action1]\n",
    "\n",
    "     # ------ Update Step ------\n",
    "   \n",
    "    # agent 1 Q-values\n",
    "    Q1_period1[winning_bid,agent1_action1] =  (1-alpha)*Q1_period1[winning_bid,agent1_action1] + alpha * (agent1_final_reward + gamma * np.max(Q1_period1[winning_bid]))\n",
    "\n",
    "    # agent 2 Q-values\n",
    "    Q2_period1[winning_bid,agent2_action1] =  (1-alpha)*Q2_period1[winning_bid,agent2_action1] + alpha * (agent2_final_reward + gamma * np.max(Q2_period1[winning_bid]))\n",
    "\n",
    "    # update epsilon\n",
    "    eps = max(min_eps, eps * eps_decay)\n",
    "\n",
    "    # winning bid\n",
    "    winning_bid = max(agent1_action1,agent2_action1)\n",
    "    \n",
    "    # print results\n",
    "    if episode%100000==0:\n",
    "      print('\\n',episode, eps)\n",
    "\n",
    "    # store history\n",
    "    agent1_period1_history.append(agent1_action1)\n",
    "    agent2_period1_history.append(agent2_action1)\n",
    "    winning_bid_history.append(winning_bid)\n",
    "    agent1_total_reward.append(agent1_final_reward)\n",
    "    agent2_total_reward.append(agent2_final_reward)"
   ]
  },
  {
   "cell_type": "code",
   "execution_count": null,
   "id": "e7dd4c88",
   "metadata": {},
   "outputs": [],
   "source": [
    "import matplotlib.pyplot as plt\n",
    "plt.rcParams[\"figure.figsize\"] = (10, 5)\n",
    "plt.rcParams['font.size']=10\n",
    "def moving_average(x, w):\n",
    "    return np.convolve(x, np.ones(w), 'valid') / w\n",
    "plt.plot(moving_average(np.array(winning_bid_history),1000), label = 'Agent 1 Period 1', c = 'b')\n",
    "plt.title('Avg Winning Bid') \n",
    "plt.legend()\n",
    "plt.show()"
   ]
  },
  {
   "cell_type": "code",
   "execution_count": null,
   "id": "2634d5cc",
   "metadata": {},
   "outputs": [],
   "source": []
  },
  {
   "cell_type": "code",
   "execution_count": null,
   "id": "dee7df6d",
   "metadata": {},
   "outputs": [],
   "source": []
  }
 ],
 "metadata": {
  "kernelspec": {
   "display_name": "Python 3 (ipykernel)",
   "language": "python",
   "name": "python3"
  },
  "language_info": {
   "codemirror_mode": {
    "name": "ipython",
    "version": 3
   },
   "file_extension": ".py",
   "mimetype": "text/x-python",
   "name": "python",
   "nbconvert_exporter": "python",
   "pygments_lexer": "ipython3",
   "version": "3.10.9"
  }
 },
 "nbformat": 4,
 "nbformat_minor": 5
}
