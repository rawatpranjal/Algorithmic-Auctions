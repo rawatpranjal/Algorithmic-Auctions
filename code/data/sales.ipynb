{
 "cells": [
  {
   "cell_type": "code",
   "execution_count": 12,
   "id": "cf2c1e93",
   "metadata": {},
   "outputs": [],
   "source": [
    "import pandas as pd\n",
    "PATH = '/Users/pranjal/Desktop/AlgorithmicCollusion/data/sales'\n",
    "df = pd.read_csv(PATH + '/1_target_ts.csv')"
   ]
  },
  {
   "cell_type": "code",
   "execution_count": 24,
   "id": "80c9d9e2",
   "metadata": {},
   "outputs": [
    {
     "data": {
      "text/html": [
       "<div>\n",
       "<style scoped>\n",
       "    .dataframe tbody tr th:only-of-type {\n",
       "        vertical-align: middle;\n",
       "    }\n",
       "\n",
       "    .dataframe tbody tr th {\n",
       "        vertical-align: top;\n",
       "    }\n",
       "\n",
       "    .dataframe thead th {\n",
       "        text-align: right;\n",
       "    }\n",
       "</style>\n",
       "<table border=\"1\" class=\"dataframe\">\n",
       "  <thead>\n",
       "    <tr style=\"text-align: right;\">\n",
       "      <th></th>\n",
       "      <th>item</th>\n",
       "      <th>org</th>\n",
       "      <th>date</th>\n",
       "      <th>quantity</th>\n",
       "    </tr>\n",
       "  </thead>\n",
       "  <tbody>\n",
       "    <tr>\n",
       "      <th>0</th>\n",
       "      <td>3959294</td>\n",
       "      <td>1617388</td>\n",
       "      <td>2014-03-01</td>\n",
       "      <td>6375.0</td>\n",
       "    </tr>\n",
       "    <tr>\n",
       "      <th>1</th>\n",
       "      <td>3959294</td>\n",
       "      <td>1617388</td>\n",
       "      <td>2014-04-01</td>\n",
       "      <td>6797.0</td>\n",
       "    </tr>\n",
       "    <tr>\n",
       "      <th>2</th>\n",
       "      <td>3959294</td>\n",
       "      <td>1617388</td>\n",
       "      <td>2014-05-01</td>\n",
       "      <td>7091.0</td>\n",
       "    </tr>\n",
       "    <tr>\n",
       "      <th>3</th>\n",
       "      <td>3959294</td>\n",
       "      <td>1617388</td>\n",
       "      <td>2014-06-01</td>\n",
       "      <td>7499.0</td>\n",
       "    </tr>\n",
       "    <tr>\n",
       "      <th>4</th>\n",
       "      <td>3959294</td>\n",
       "      <td>1617388</td>\n",
       "      <td>2014-07-01</td>\n",
       "      <td>7603.0</td>\n",
       "    </tr>\n",
       "  </tbody>\n",
       "</table>\n",
       "</div>"
      ],
      "text/plain": [
       "      item      org        date  quantity\n",
       "0  3959294  1617388  2014-03-01    6375.0\n",
       "1  3959294  1617388  2014-04-01    6797.0\n",
       "2  3959294  1617388  2014-05-01    7091.0\n",
       "3  3959294  1617388  2014-06-01    7499.0\n",
       "4  3959294  1617388  2014-07-01    7603.0"
      ]
     },
     "execution_count": 24,
     "metadata": {},
     "output_type": "execute_result"
    }
   ],
   "source": [
    "df.head()"
   ]
  },
  {
   "cell_type": "code",
   "execution_count": 23,
   "id": "36affa0c",
   "metadata": {},
   "outputs": [
    {
     "data": {
      "text/plain": [
       "(9491, 4)"
      ]
     },
     "execution_count": 23,
     "metadata": {},
     "output_type": "execute_result"
    }
   ],
   "source": [
    "df.shape"
   ]
  },
  {
   "cell_type": "code",
   "execution_count": 14,
   "id": "2d9732f7",
   "metadata": {
    "scrolled": true
   },
   "outputs": [
    {
     "data": {
      "text/plain": [
       "3959294      336\n",
       "3959530      336\n",
       "6609938      336\n",
       "3959313      336\n",
       "3959509      336\n",
       "3959506      336\n",
       "28065487     331\n",
       "51472179     305\n",
       "5160016      304\n",
       "60715830     287\n",
       "62793347     284\n",
       "62922352     283\n",
       "3994423      256\n",
       "69058316     256\n",
       "102201027    220\n",
       "103264090    212\n",
       "103264133    212\n",
       "103766415    208\n",
       "107428334    196\n",
       "108204834    194\n",
       "116549191    161\n",
       "116844834    161\n",
       "116549238    161\n",
       "116549229    161\n",
       "116549156    161\n",
       "116549031    161\n",
       "116549016    161\n",
       "116549126    160\n",
       "117855880    157\n",
       "116549631    148\n",
       "116549737    148\n",
       "120363084    148\n",
       "121127559    148\n",
       "121128611    148\n",
       "121129359    148\n",
       "125309489    132\n",
       "125309293    131\n",
       "127929968    127\n",
       "128814473    124\n",
       "130569415    120\n",
       "130962471    117\n",
       "133513224    108\n",
       "133513294    108\n",
       "133980049    107\n",
       "137410407    100\n",
       "140462971     88\n",
       "140475926     88\n",
       "140534345     88\n",
       "140535880     88\n",
       "149440644     69\n",
       "Name: item, dtype: int64"
      ]
     },
     "execution_count": 14,
     "metadata": {},
     "output_type": "execute_result"
    }
   ],
   "source": [
    "df.item.value_counts()"
   ]
  },
  {
   "cell_type": "code",
   "execution_count": 16,
   "id": "8338d025",
   "metadata": {},
   "outputs": [
    {
     "data": {
      "text/plain": [
       "2021-02-01    200\n",
       "2020-06-01    200\n",
       "2019-10-01    200\n",
       "2019-11-01    200\n",
       "2019-12-01    200\n",
       "             ... \n",
       "2014-08-01     28\n",
       "2014-07-01     28\n",
       "2014-06-01     28\n",
       "2014-04-01     27\n",
       "2014-03-01     24\n",
       "Name: date, Length: 84, dtype: int64"
      ]
     },
     "execution_count": 16,
     "metadata": {},
     "output_type": "execute_result"
    }
   ],
   "source": [
    "df.date.value_counts()"
   ]
  },
  {
   "cell_type": "code",
   "execution_count": 22,
   "id": "a0fae5a1",
   "metadata": {},
   "outputs": [
    {
     "data": {
      "text/plain": [
       "<AxesSubplot: >"
      ]
     },
     "execution_count": 22,
     "metadata": {},
     "output_type": "execute_result"
    },
    {
     "data": {
      "image/png": "[encoded data removed]",
      "text/plain": [
       "<Figure size 640x480 with 1 Axes>"
      ]
     },
     "metadata": {},
     "output_type": "display_data"
    }
   ],
   "source": [
    "df.quantity.hist(bins = 30)"
   ]
  },
  {
   "cell_type": "code",
   "execution_count": 25,
   "id": "1c53aadf",
   "metadata": {},
   "outputs": [
    {
     "data": {
      "text/plain": [
       "42023714    2380\n",
       "1617388     2373\n",
       "1619228     2372\n",
       "40022636    2366\n",
       "Name: org, dtype: int64"
      ]
     },
     "execution_count": 25,
     "metadata": {},
     "output_type": "execute_result"
    }
   ],
   "source": [
    "df.org.value_counts()"
   ]
  },
  {
   "cell_type": "code",
   "execution_count": null,
   "id": "de0bdf60",
   "metadata": {},
   "outputs": [],
   "source": []
  }
 ],
 "metadata": {
  "kernelspec": {
   "display_name": "Python 3 (ipykernel)",
   "language": "python",
   "name": "python3"
  },
  "language_info": {
   "codemirror_mode": {
    "name": "ipython",
    "version": 3
   },
   "file_extension": ".py",
   "mimetype": "text/x-python",
   "name": "python",
   "nbconvert_exporter": "python",
   "pygments_lexer": "ipython3",
   "version": "3.10.9"
  }
 },
 "nbformat": 4,
 "nbformat_minor": 5
}
