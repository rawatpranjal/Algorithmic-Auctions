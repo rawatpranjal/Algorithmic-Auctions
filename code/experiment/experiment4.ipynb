{
 "cells": [
  {
   "cell_type": "markdown",
   "id": "92f44f22",
   "metadata": {},
   "source": [
    "-->initialization-->exploration-->rewards-->updating-->transition--->"
   ]
  },
  {
   "cell_type": "markdown",
   "id": "15563c1a",
   "metadata": {},
   "source": [
    "### Functions and Packages"
   ]
  },
  {
   "cell_type": "code",
   "execution_count": 3,
   "id": "cf3efe9d",
   "metadata": {},
   "outputs": [],
   "source": [
    "import numpy as np\n",
    "np.set_printoptions(precision = 4, suppress = True)\n"
   ]
  },
  {
   "cell_type": "code",
   "execution_count": 4,
   "id": "14193f69",
   "metadata": {},
   "outputs": [],
   "source": [
    "def initialize_qtable(N, num_actions, feedback):\n",
    "    if feedback == 1:\n",
    "        Q = np.random.uniform(0,1,(N, num_actions,num_actions))\n",
    "    else:\n",
    "        Q = np.random.uniform(0,1,(N, num_actions))   \n",
    "        #Q = np.zeros((N, num_actions))   \n",
    "    return Q"
   ]
  },
  {
   "cell_type": "code",
   "execution_count": 5,
   "id": "382d63ba",
   "metadata": {},
   "outputs": [
    {
     "data": {
      "text/plain": [
       "array([[0.7035, 0.6918, 0.6024, 0.2576, 0.5412, 0.9727],\n",
       "       [0.5269, 0.9413, 0.086 , 0.0619, 0.2774, 0.7348]])"
      ]
     },
     "execution_count": 5,
     "metadata": {},
     "output_type": "execute_result"
    }
   ],
   "source": [
    "N = 2\n",
    "num_actions = 6\n",
    "feedback = 0\n",
    "Q = initialize_qtable(N, num_actions, feedback)\n",
    "Q"
   ]
  },
  {
   "cell_type": "code",
   "execution_count": 6,
   "id": "1131b235",
   "metadata": {},
   "outputs": [
    {
     "data": {
      "text/plain": [
       "array([[[0.076 , 0.9694, 0.0233, 0.4818, 0.055 , 0.4915],\n",
       "        [0.4455, 0.9666, 0.8147, 0.3697, 0.6292, 0.1396],\n",
       "        [0.6377, 0.9283, 0.8861, 0.6024, 0.784 , 0.6384],\n",
       "        [0.0162, 0.9055, 0.7219, 0.7433, 0.6285, 0.8428],\n",
       "        [0.0382, 0.8637, 0.0466, 0.9525, 0.2435, 0.2408],\n",
       "        [0.9148, 0.7413, 0.1421, 0.8367, 0.0884, 0.936 ]],\n",
       "\n",
       "       [[0.6231, 0.2575, 0.3311, 0.7845, 0.7575, 0.5576],\n",
       "        [0.2004, 0.9299, 0.8988, 0.2832, 0.3521, 0.4889],\n",
       "        [0.4404, 0.3906, 0.5208, 0.9315, 0.9179, 0.4018],\n",
       "        [0.7385, 0.2957, 0.8755, 0.3858, 0.539 , 0.0188],\n",
       "        [0.4165, 0.5998, 0.1172, 0.9348, 0.4425, 0.6577],\n",
       "        [0.7874, 0.4477, 0.4031, 0.7826, 0.6677, 0.9786]]])"
      ]
     },
     "execution_count": 6,
     "metadata": {},
     "output_type": "execute_result"
    }
   ],
   "source": [
    "N = 2\n",
    "num_actions = 6\n",
    "feedback = 1\n",
    "Q = initialize_qtable(N, num_actions, feedback)\n",
    "Q"
   ]
  },
  {
   "cell_type": "code",
   "execution_count": 7,
   "id": "f1ba0dcb",
   "metadata": {},
   "outputs": [],
   "source": [
    "def exploratory_strategy(Q, N, egreedy, num_actions,past_win,winning_bid,eps,beta):\n",
    "    # Input: Master Q table, agent index, past winning action\n",
    "    # Output: actions taken by all agents\n",
    "    actions = np.ones(N,dtype=int)\n",
    "    for agent_idx in range(N):\n",
    "        if egreedy == 1:\n",
    "            if past_win == 1:\n",
    "                if np.random.uniform()>eps:\n",
    "                    actions[agent_idx] = np.argmax(Q[agent_idx,winning_bid])\n",
    "                else:\n",
    "                    actions[agent_idx] = np.random.choice(range(num_actions))\n",
    "            else:\n",
    "                if np.random.uniform()>eps:\n",
    "                    actions[agent_idx] = np.argmax(Q[agent_idx])\n",
    "                else:\n",
    "                    actions[agent_idx] = np.random.choice(range(num_actions))\n",
    "        else: \n",
    "            if past_win == 1:\n",
    "                max_Q = np.max(Q[agent_idx,winning_bid])\n",
    "                logits = (Q[agent_idx,winning_bid] - max_Q) / beta\n",
    "                exp_logits = np.exp(logits)\n",
    "                probs = exp_logits / np.sum(exp_logits)\n",
    "                actions[agent_idx] = np.random.choice(range(len(probs)), p=probs)\n",
    "            else:\n",
    "                max_Q = np.max(Q[agent_idx])\n",
    "                logits = (Q[agent_idx] - max_Q) / beta\n",
    "                exp_logits = np.exp(logits)\n",
    "                probs = exp_logits / np.sum(exp_logits)\n",
    "                actions[agent_idx] = np.random.choice(range(len(probs)), p=probs)    \n",
    "    return actions"
   ]
  },
  {
   "cell_type": "code",
   "execution_count": 8,
   "id": "32dceb37",
   "metadata": {},
   "outputs": [
    {
     "data": {
      "text/plain": [
       "array([1, 3])"
      ]
     },
     "execution_count": 8,
     "metadata": {},
     "output_type": "execute_result"
    }
   ],
   "source": [
    "egreedy = 1\n",
    "past_win = 0\n",
    "winning_bid = 0\n",
    "eps = 0.99\n",
    "beta = 0.99\n",
    "actions = exploratory_strategy(Q, N, egreedy, num_actions,past_win,winning_bid,eps,beta)\n",
    "actions"
   ]
  },
  {
   "cell_type": "code",
   "execution_count": 9,
   "id": "51bd7ed3",
   "metadata": {},
   "outputs": [
    {
     "ename": "ValueError",
     "evalue": "'p' must be 1-dimensional",
     "output_type": "error",
     "traceback": [
      "\u001b[0;31m---------------------------------------------------------------------------\u001b[0m",
      "\u001b[0;31mValueError\u001b[0m                                Traceback (most recent call last)",
      "Cell \u001b[0;32mIn [9], line 3\u001b[0m\n\u001b[1;32m      1\u001b[0m egreedy \u001b[38;5;241m=\u001b[39m \u001b[38;5;241m0\u001b[39m\n\u001b[1;32m      2\u001b[0m beta \u001b[38;5;241m=\u001b[39m \u001b[38;5;241m4.0\u001b[39m\n\u001b[0;32m----> 3\u001b[0m actions \u001b[38;5;241m=\u001b[39m \u001b[43mexploratory_strategy\u001b[49m\u001b[43m(\u001b[49m\u001b[43mQ\u001b[49m\u001b[43m,\u001b[49m\u001b[43m \u001b[49m\u001b[43mN\u001b[49m\u001b[43m,\u001b[49m\u001b[43m \u001b[49m\u001b[43megreedy\u001b[49m\u001b[43m,\u001b[49m\u001b[43m \u001b[49m\u001b[43mnum_actions\u001b[49m\u001b[43m,\u001b[49m\u001b[43mpast_win\u001b[49m\u001b[43m,\u001b[49m\u001b[43mwinning_bid\u001b[49m\u001b[43m,\u001b[49m\u001b[43meps\u001b[49m\u001b[43m,\u001b[49m\u001b[43mbeta\u001b[49m\u001b[43m)\u001b[49m\n\u001b[1;32m      4\u001b[0m \u001b[38;5;28mprint\u001b[39m(Q)\n\u001b[1;32m      5\u001b[0m actions\n",
      "Cell \u001b[0;32mIn [7], line 29\u001b[0m, in \u001b[0;36mexploratory_strategy\u001b[0;34m(Q, N, egreedy, num_actions, past_win, winning_bid, eps, beta)\u001b[0m\n\u001b[1;32m     27\u001b[0m             exp_logits \u001b[38;5;241m=\u001b[39m np\u001b[38;5;241m.\u001b[39mexp(logits)\n\u001b[1;32m     28\u001b[0m             probs \u001b[38;5;241m=\u001b[39m exp_logits \u001b[38;5;241m/\u001b[39m np\u001b[38;5;241m.\u001b[39msum(exp_logits)\n\u001b[0;32m---> 29\u001b[0m             actions[agent_idx] \u001b[38;5;241m=\u001b[39m \u001b[43mnp\u001b[49m\u001b[38;5;241;43m.\u001b[39;49m\u001b[43mrandom\u001b[49m\u001b[38;5;241;43m.\u001b[39;49m\u001b[43mchoice\u001b[49m\u001b[43m(\u001b[49m\u001b[38;5;28;43mrange\u001b[39;49m\u001b[43m(\u001b[49m\u001b[38;5;28;43mlen\u001b[39;49m\u001b[43m(\u001b[49m\u001b[43mprobs\u001b[49m\u001b[43m)\u001b[49m\u001b[43m)\u001b[49m\u001b[43m,\u001b[49m\u001b[43m \u001b[49m\u001b[43mp\u001b[49m\u001b[38;5;241;43m=\u001b[39;49m\u001b[43mprobs\u001b[49m\u001b[43m)\u001b[49m    \n\u001b[1;32m     30\u001b[0m \u001b[38;5;28;01mreturn\u001b[39;00m actions\n",
      "File \u001b[0;32mmtrand.pyx:930\u001b[0m, in \u001b[0;36mnumpy.random.mtrand.RandomState.choice\u001b[0;34m()\u001b[0m\n",
      "\u001b[0;31mValueError\u001b[0m: 'p' must be 1-dimensional"
     ]
    }
   ],
   "source": [
    "egreedy = 0\n",
    "beta = 4.0\n",
    "actions = exploratory_strategy(Q, N, egreedy, num_actions,past_win,winning_bid,eps,beta)\n",
    "print(Q)\n",
    "actions"
   ]
  },
  {
   "cell_type": "code",
   "execution_count": 10,
   "id": "b6e26429",
   "metadata": {},
   "outputs": [],
   "source": [
    "def actions2rewards(actions, valuations, design, action2bid, method=0):\n",
    "    # compute winners and winning payments\n",
    "    bids = action2bid[actions]\n",
    "    unique_values_sorted = np.sort(np.unique(bids))[::-1]\n",
    "    first_highest_value = unique_values_sorted[0]\n",
    "    if len(unique_values_sorted) > 1:\n",
    "        second_highest_value = unique_values_sorted[1]\n",
    "    else:\n",
    "        second_highest_value = first_highest_value\n",
    "    winners_payment = design * first_highest_value + (1-design) * second_highest_value\n",
    "    winners_idx = np.where(bids == first_highest_value)[0]\n",
    "    # compute reward vector\n",
    "    if method==0:\n",
    "        winner_idx = np.random.choice(winners_idx)\n",
    "        rewards = bids * 0.0\n",
    "        rewards[winner_idx] = valuations[winner_idx] - winners_payment\n",
    "    else:\n",
    "        winning_bid_idx = np.where(bids==first_highest_value,1,0)\n",
    "        no_of_winners = np.sum(winning_bid_idx)\n",
    "        rewards = (1/no_of_winners) * (valuations - winners_payment) * winning_bid_idx \n",
    "    return rewards"
   ]
  },
  {
   "cell_type": "code",
   "execution_count": 11,
   "id": "44338392",
   "metadata": {},
   "outputs": [
    {
     "name": "stdout",
     "output_type": "stream",
     "text": [
      "bids [0.2 0.6]\n",
      "rewards [0.  0.4]\n"
     ]
    }
   ],
   "source": [
    "valuations = np.array([1,1])\n",
    "design = 1\n",
    "common_valuation = 1\n",
    "action2bid = np.linspace(0,common_valuation,num_actions)\n",
    "print('bids',action2bid[actions])\n",
    "rewards = actions2rewards(actions, valuations, design, action2bid, method=0)\n",
    "print('rewards',rewards)"
   ]
  },
  {
   "cell_type": "code",
   "execution_count": 12,
   "id": "e33bd0e5",
   "metadata": {},
   "outputs": [],
   "source": [
    "def counterfactual_reward(agent_idx,actions,valuations,design,num_actions,action2bid):\n",
    "    action_copy = actions.copy()\n",
    "    cf_rewards = np.zeros(num_actions)\n",
    "    for agent_action in range(num_actions):\n",
    "        action_copy[agent_idx] = agent_action\n",
    "        cf_rewards[agent_action] = actions2rewards(action_copy,valuations,design,action2bid,method=1)[agent_idx]\n",
    "    return np.array(cf_rewards)"
   ]
  },
  {
   "cell_type": "code",
   "execution_count": 13,
   "id": "1d859ab2",
   "metadata": {},
   "outputs": [
    {
     "data": {
      "text/plain": [
       "array([1, 3])"
      ]
     },
     "execution_count": 13,
     "metadata": {},
     "output_type": "execute_result"
    }
   ],
   "source": [
    "actions"
   ]
  },
  {
   "cell_type": "code",
   "execution_count": 14,
   "id": "409e2081",
   "metadata": {},
   "outputs": [
    {
     "data": {
      "text/plain": [
       "array([0. , 0. , 0. , 0.2, 0.2, 0. ])"
      ]
     },
     "execution_count": 14,
     "metadata": {},
     "output_type": "execute_result"
    }
   ],
   "source": [
    "counterfactual_reward(0,actions,valuations,design,num_actions,action2bid)"
   ]
  },
  {
   "cell_type": "code",
   "execution_count": 15,
   "id": "03085b8d",
   "metadata": {
    "scrolled": true
   },
   "outputs": [
    {
     "ename": "NameError",
     "evalue": "name 'bids2rewards' is not defined",
     "output_type": "error",
     "traceback": [
      "\u001b[0;31m---------------------------------------------------------------------------\u001b[0m",
      "\u001b[0;31mNameError\u001b[0m                                 Traceback (most recent call last)",
      "Cell \u001b[0;32mIn [15], line 2\u001b[0m\n\u001b[1;32m      1\u001b[0m bids \u001b[38;5;241m=\u001b[39m np\u001b[38;5;241m.\u001b[39marray([\u001b[38;5;241m0.2\u001b[39m,\u001b[38;5;241m0.2\u001b[39m,\u001b[38;5;241m0.2\u001b[39m,\u001b[38;5;241m0.2\u001b[39m])\n\u001b[0;32m----> 2\u001b[0m \u001b[43mbids2rewards\u001b[49m(bids,np\u001b[38;5;241m.\u001b[39marray([\u001b[38;5;241m1\u001b[39m,\u001b[38;5;241m1\u001b[39m,\u001b[38;5;241m1\u001b[39m,\u001b[38;5;241m1\u001b[39m]),\u001b[38;5;241m0\u001b[39m)\n",
      "\u001b[0;31mNameError\u001b[0m: name 'bids2rewards' is not defined"
     ]
    }
   ],
   "source": [
    "bids = np.array([0.2,0.2,0.2,0.2])\n",
    "bids2rewards(bids,np.array([1,1,1,1]),0)"
   ]
  },
  {
   "cell_type": "code",
   "execution_count": 16,
   "id": "aa8d27d1",
   "metadata": {},
   "outputs": [
    {
     "data": {
      "text/plain": [
       "0.2"
      ]
     },
     "execution_count": 16,
     "metadata": {},
     "output_type": "execute_result"
    }
   ],
   "source": [
    "np.partition(bids.flatten(), -2)[-2]"
   ]
  },
  {
   "cell_type": "code",
   "execution_count": 17,
   "id": "ae0d7556",
   "metadata": {},
   "outputs": [],
   "source": [
    "def update_qvalues(rewards, actions, Q, feedback, asynchronous, winning_bid, alpha, gamma, valuations,design,action2bid):\n",
    "    N = Q.shape[0]\n",
    "    num_actions = Q.shape[1]\n",
    "    for agent_idx in range(N):\n",
    "        action = actions[agent_idx]\n",
    "        reward = rewards[agent_idx]\n",
    "        if asynchronous == 1:\n",
    "            if feedback == 1:\n",
    "                Q[agent_idx,winning_bid,action] =  (1-alpha)*Q[agent_idx,winning_bid,action] + alpha * (reward + gamma * np.max(Q[agent_idx,winning_bid]))\n",
    "            else:\n",
    "                Q[agent_idx,action] =  (1-alpha)*Q[agent_idx,action] + alpha * (reward + gamma * np.max(Q[agent_idx]))\n",
    "        else: \n",
    "            reward_vec = counterfactual_reward(agent_idx,actions,valuations,design,num_actions,action2bid)\n",
    "            if feedback == 1:\n",
    "                Q[agent_idx,winning_bid,:] =  (1-alpha)*Q[agent_idx,winning_bid,:] + alpha * (reward_vec + gamma * np.max(Q[agent_idx,winning_bid]))\n",
    "            else:\n",
    "                Q[agent_idx] =  (1-alpha)*Q[agent_idx] + alpha * (reward_vec + gamma * np.max(Q[agent_idx]))\n",
    "    return Q"
   ]
  },
  {
   "cell_type": "code",
   "execution_count": 18,
   "id": "d63e080c",
   "metadata": {},
   "outputs": [
    {
     "name": "stdout",
     "output_type": "stream",
     "text": [
      "[[[0.076  0.9694 0.0233 0.4818 0.055  0.4915]\n",
      "  [0.4455 0.9666 0.8147 0.3697 0.6292 0.1396]\n",
      "  [0.6377 0.9283 0.8861 0.6024 0.784  0.6384]\n",
      "  [0.0162 0.9055 0.7219 0.7433 0.6285 0.8428]\n",
      "  [0.0382 0.8637 0.0466 0.9525 0.2435 0.2408]\n",
      "  [0.9148 0.7413 0.1421 0.8367 0.0884 0.936 ]]\n",
      "\n",
      " [[0.6231 0.2575 0.3311 0.7845 0.7575 0.5576]\n",
      "  [0.2004 0.9299 0.8988 0.2832 0.3521 0.4889]\n",
      "  [0.4404 0.3906 0.5208 0.9315 0.9179 0.4018]\n",
      "  [0.7385 0.2957 0.8755 0.3858 0.539  0.0188]\n",
      "  [0.4165 0.5998 0.1172 0.9348 0.4425 0.6577]\n",
      "  [0.7874 0.4477 0.4031 0.7826 0.6677 0.9786]]]\n",
      "[0.  0.  0.  0.2 0.2 0. ]\n",
      "[0.  0.4 0.6 0.4 0.2 0. ]\n",
      "[[[0.0684 0.8724 0.021  0.4536 0.0695 0.4423]\n",
      "  [0.4455 0.9666 0.8147 0.3697 0.6292 0.1396]\n",
      "  [0.6377 0.9283 0.8861 0.6024 0.784  0.6384]\n",
      "  [0.0162 0.9055 0.7219 0.7433 0.6285 0.8428]\n",
      "  [0.0382 0.8637 0.0466 0.9525 0.2435 0.2408]\n",
      "  [0.9148 0.7413 0.1421 0.8367 0.0884 0.936 ]]\n",
      "\n",
      " [[0.5608 0.2717 0.3579 0.7461 0.7018 0.5019]\n",
      "  [0.2004 0.9299 0.8988 0.2832 0.3521 0.4889]\n",
      "  [0.4404 0.3906 0.5208 0.9315 0.9179 0.4018]\n",
      "  [0.7385 0.2957 0.8755 0.3858 0.539  0.0188]\n",
      "  [0.4165 0.5998 0.1172 0.9348 0.4425 0.6577]\n",
      "  [0.7874 0.4477 0.4031 0.7826 0.6677 0.9786]]]\n"
     ]
    }
   ],
   "source": [
    "alpha = 0.1\n",
    "gamma = 0.0\n",
    "asynchronous = 0\n",
    "\n",
    "Q_old = Q.copy()\n",
    "Q_new = update_qvalues(rewards, actions, Q, feedback, asynchronous, winning_bid, alpha, gamma, valuations,design,action2bid)\n",
    "\n",
    "print(Q_old)\n",
    "print(counterfactual_reward(0,actions,valuations,design,num_actions,action2bid))\n",
    "print(counterfactual_reward(1,actions,valuations,design,num_actions,action2bid))\n",
    "print(Q_new)"
   ]
  },
  {
   "cell_type": "code",
   "execution_count": 44,
   "id": "51377e2d",
   "metadata": {},
   "outputs": [],
   "source": [
    "def experiment(N,alpha,gamma,egreedy,asynchronous,design,feedback,num_actions,decay,verbose=2):\n",
    "    Q = initialize_qtable(N, num_actions,feedback)\n",
    "    common_valuation = 1\n",
    "    valuations = np.ones(N)*common_valuation\n",
    "    action2bid = np.linspace(0,common_valuation,num_actions)\n",
    "    initial_eps = 1.0\n",
    "    eps_decay = decay\n",
    "    min_eps = 0.01\n",
    "    eps = initial_eps\n",
    "    initial_beta = 1.0\n",
    "    beta_decay = decay\n",
    "    min_beta = 0.01\n",
    "    beta = initial_beta\n",
    "    winning_bid_history = []\n",
    "    num_episodes = 250000\n",
    "    winning_action = 0\n",
    "    \n",
    "    print('Bidders:',N)\n",
    "    print('Learning rate:',alpha)\n",
    "    print('Discount factor:',gamma)\n",
    "    print('eGreedy',egreedy)\n",
    "    print('Asynchronous',asynchronous)\n",
    "    print('First price:',design)\n",
    "    print('Feedback:',feedback)\n",
    "    print('Bid space:',action2bid)\n",
    "    print('Q-table shape:',Q.shape)\n",
    "    print('Epsilon: initial, final and decay rate', initial_eps, min_eps, eps_decay)\n",
    "    print('Beta: initial, final and decay rate', initial_beta, min_beta, beta_decay)\n",
    "    print('Num episodes:', num_episodes)\n",
    "\n",
    "    # training loop\n",
    "    for episode in range(num_episodes):\n",
    "        \n",
    "        # act from exploratory strategy\n",
    "        actions = exploratory_strategy(Q, N, egreedy, num_actions,feedback,winning_action,eps,beta) \n",
    "\n",
    "        # collect rewards\n",
    "        rewards = actions2rewards(actions,valuations,design,action2bid)\n",
    "        \n",
    "        # update Q-values\n",
    "        Q = update_qvalues(rewards, actions, Q, feedback, asynchronous, winning_action, alpha, gamma, valuations,design,action2bid)\n",
    "\n",
    "        # update exploration params\n",
    "        eps = max(min_eps, eps * eps_decay)\n",
    "        beta = max(min_beta, beta * beta_decay)\n",
    "\n",
    "        # winning bid and action\n",
    "        bids = actions*common_valuation/(num_actions-1)\n",
    "        winning_bid = np.max(bids)\n",
    "        winning_action = np.max(actions)\n",
    "\n",
    "        # store history\n",
    "        winning_bid_history.append(winning_bid)\n",
    "        \n",
    "        if (verbose==1) & (episode%10000==0) & (episode>0):\n",
    "            print(episode,np.round(eps,2),np.round(beta,2),np.round(np.mean(winning_bid_history[-1000:]),2),np.round(np.std(winning_bid_history[-1000:]),2))\n",
    "\n",
    "        if (verbose==2) & (episode%10000==0) & (episode>0):\n",
    "            print('\\nEpisode:',episode,np.round(eps,3))\n",
    "            print('Bids:',action2bid[actions],', Rewards:',rewards)\n",
    "            #print(winning_bid_history[-20:])\n",
    "            print('Agent 0:',Q[0,:])\n",
    "            #print('Agent 0 Cf reward', counterfactual_reward(0,actions,valuations,design,num_actions,action2bid))\n",
    "            print('Agent 1:',Q[1,:])\n",
    "            #print('Agent 1 Cf reward', counterfactual_reward(1,actions,valuations,design,num_actions,action2bid))\n",
    "            print('Stdev of last 10000 bids:',np.std(winning_bid_history[-10000:]))\n",
    "            print('Avg of last 10000 bids:',np.mean(winning_bid_history[-10000:]))\n",
    "            \n",
    "        if (episode%10000==0) & (eps==min_eps or beta==min_beta) & (np.std(winning_bid_history[-1000:])<0.001):\n",
    "            break\n",
    "\n",
    "    Y = np.mean(winning_bid_history[-1000:])\n",
    "    Y_std = np.std(winning_bid_history[-1000:])\n",
    "    Y_min = np.min(winning_bid_history[-1000:])\n",
    "    Y_max = np.max(winning_bid_history[-1000:])\n",
    "    return (Y,episode,Y_std,Y_min,Y_max,N,alpha,gamma,egreedy,asynchronous,design,feedback,num_actions,decay,Q)\n"
   ]
  },
  {
   "cell_type": "markdown",
   "id": "94a5fa3b",
   "metadata": {},
   "source": [
    "### Test Cases"
   ]
  },
  {
   "cell_type": "code",
   "execution_count": 34,
   "id": "784547c4",
   "metadata": {
    "scrolled": true
   },
   "outputs": [
    {
     "name": "stdout",
     "output_type": "stream",
     "text": [
      "Bidders: 2\n",
      "Learning rate: 0.1\n",
      "Discount factor: 0.99\n",
      "eGreedy 0\n",
      "Asynchronous 1\n",
      "First price: 1\n",
      "Feedback: 1\n",
      "Bid space: [0.  0.1 0.2 0.3 0.4 0.5 0.6 0.7 0.8 0.9 1. ]\n",
      "Q-table shape: (2, 11, 11)\n",
      "Epsilon: initial, final and decay rate 1.0 0.01 0.99999\n",
      "Beta: initial, final and decay rate 1.0 0.01 0.99999\n",
      "Num episodes: 250000\n",
      "10000 0.9 0.9 0.68 0.24\n",
      "20000 0.82 0.82 0.66 0.24\n",
      "30000 0.74 0.74 0.67 0.24\n",
      "40000 0.67 0.67 0.66 0.24\n",
      "50000 0.61 0.61 0.65 0.24\n",
      "60000 0.55 0.55 0.66 0.23\n",
      "70000 0.5 0.5 0.65 0.22\n",
      "80000 0.45 0.45 0.66 0.22\n",
      "90000 0.41 0.41 0.66 0.22\n",
      "100000 0.37 0.37 0.66 0.22\n",
      "110000 0.33 0.33 0.65 0.21\n",
      "120000 0.3 0.3 0.65 0.21\n",
      "130000 0.27 0.27 0.68 0.2\n",
      "140000 0.25 0.25 0.67 0.21\n",
      "150000 0.22 0.22 0.67 0.2\n",
      "160000 0.2 0.2 0.67 0.2\n",
      "170000 0.18 0.18 0.67 0.2\n",
      "180000 0.17 0.17 0.66 0.2\n",
      "190000 0.15 0.15 0.67 0.18\n",
      "200000 0.14 0.14 0.68 0.19\n",
      "210000 0.12 0.12 0.68 0.18\n",
      "220000 0.11 0.11 0.67 0.18\n",
      "230000 0.1 0.1 0.69 0.17\n",
      "240000 0.09 0.09 0.68 0.18\n"
     ]
    },
    {
     "data": {
      "text/plain": [
       "(0.6981000000000002,\n",
       " 249999,\n",
       " 0.17800671335654733,\n",
       " 2,\n",
       " 0.1,\n",
       " 0.99,\n",
       " 0,\n",
       " 1,\n",
       " 1,\n",
       " 1,\n",
       " 11,\n",
       " 0.99999,\n",
       " array([[[ 1.8781,  1.9152,  2.3862,  2.0092,  2.0329,  3.2467,  3.9797,\n",
       "           6.2987,  1.9427,  1.2411,  1.9557],\n",
       "         [ 5.8439,  3.1173,  3.6664,  5.2893,  7.7842,  9.0569,  9.0476,\n",
       "          10.8827,  6.9729,  5.3673,  4.1656],\n",
       "         [ 8.9381, 10.0046,  8.0939, 12.7982, 13.6399, 14.394 , 14.4121,\n",
       "          14.4611, 14.4877, 10.4696,  8.1513],\n",
       "         [14.933 , 17.8455, 17.8049, 17.8151, 17.8179, 17.9237, 17.9333,\n",
       "          18.0548, 18.0787, 17.9556, 11.6644],\n",
       "         [22.0738, 23.8008, 23.7905, 23.961 , 22.8689, 23.9655, 23.9193,\n",
       "          23.8688, 23.9248, 23.8846, 15.046 ],\n",
       "         [24.5903, 24.6052, 24.6804, 24.8682, 24.6544, 24.7177, 24.6787,\n",
       "          24.7687, 24.7035, 24.6486, 19.6925],\n",
       "         [23.8064, 23.8124, 23.8792, 23.8472, 23.9289, 23.8824, 23.9471,\n",
       "          23.9474, 23.8974, 23.8589, 23.7913],\n",
       "         [23.6022, 23.7093, 23.623 , 23.6027, 23.6304, 23.6165, 23.715 ,\n",
       "          23.7531, 23.685 , 23.656 , 23.5971],\n",
       "         [23.7135, 23.7244, 23.768 , 23.7341, 23.7736, 23.8137, 23.8269,\n",
       "          23.8713, 23.8414, 23.7736, 23.7004],\n",
       "         [24.1997, 24.2248, 24.1885, 24.1959, 24.238 , 24.3332, 24.3212,\n",
       "          24.31  , 24.3148, 24.2434, 24.1646],\n",
       "         [23.771 , 23.7761, 23.8381, 23.7978, 23.8628, 23.9376, 23.927 ,\n",
       "          23.9161, 23.8968, 23.8408, 23.7669]],\n",
       " \n",
       "        [[ 1.9811,  2.3527,  1.3033,  2.8977,  2.9771,  2.9632,  3.5096,\n",
       "           4.3101,  2.3499,  2.6999,  1.102 ],\n",
       "         [ 6.4446,  5.2939,  5.0174,  7.0542,  6.1314,  7.1707,  7.7318,\n",
       "          13.7857, 11.6548,  4.6037,  3.9102],\n",
       "         [ 9.6803,  9.867 , 10.3954, 12.9458,  8.5879, 14.3959, 14.545 ,\n",
       "          14.6853, 14.8035,  5.7211,  6.2677],\n",
       "         [12.6853, 17.4932, 11.5057, 19.3937, 19.4829, 19.411 , 19.4691,\n",
       "          19.4793, 19.5026, 19.4629, 13.1008],\n",
       "         [22.066 , 22.1023, 22.0621, 22.1367, 22.1232, 22.1917, 22.184 ,\n",
       "          22.2369, 22.1727, 22.1338, 16.9049],\n",
       "         [24.8787, 24.8766, 24.8802, 24.95  , 24.9464, 24.9863, 24.9917,\n",
       "          24.9347, 24.9728, 24.9284, 23.8608],\n",
       "         [23.8561, 23.9023, 23.873 , 23.932 , 23.8929, 23.9005, 23.979 ,\n",
       "          23.9411, 23.9335, 23.8919, 23.8363],\n",
       "         [23.466 , 23.4698, 23.4553, 23.4542, 23.5305, 23.5052, 23.5163,\n",
       "          23.5536, 23.5683, 23.4951, 23.4254],\n",
       "         [23.6023, 23.7203, 23.586 , 23.5684, 23.6212, 23.6571, 23.6778,\n",
       "          23.7051, 23.643 , 23.6132, 23.566 ],\n",
       "         [24.0918, 24.1035, 24.2171, 24.1249, 24.2337, 24.258 , 24.2016,\n",
       "          24.2935, 24.2181, 24.155 , 24.1094],\n",
       "         [24.1692, 24.1726, 24.1612, 24.181 , 24.4819, 24.2727, 24.3191,\n",
       "          24.3711, 24.3185, 24.2527, 24.1506]]]))"
      ]
     },
     "execution_count": 34,
     "metadata": {},
     "output_type": "execute_result"
    }
   ],
   "source": [
    "params = {'N': 2, 'alpha': 0.1, 'gamma': 0.99, 'egreedy': 0, 'design': 1, \n",
    "          'asynchronous': 1, 'feedback': 1, 'num_actions': 11, 'decay':0.99999, 'verbose':1}\n",
    "experiment(**params)"
   ]
  },
  {
   "cell_type": "markdown",
   "id": "0cf26204",
   "metadata": {},
   "source": [
    "### Random Sampling"
   ]
  },
  {
   "cell_type": "code",
   "execution_count": null,
   "id": "4a372377",
   "metadata": {
    "scrolled": false
   },
   "outputs": [
    {
     "name": "stdout",
     "output_type": "stream",
     "text": [
      "{'N': 4, 'alpha': 0.01, 'gamma': 0.0, 'egreedy': 1, 'design': 0, 'asynchronous': 1, 'feedback': 0, 'num_actions': 6, 'decay': 0.9999, 'verbose': 1}\n",
      "Bidders: 4\n",
      "Learning rate: 0.01\n",
      "Discount factor: 0.0\n",
      "eGreedy 1\n",
      "Asynchronous 1\n",
      "First price: 0\n",
      "Feedback: 0\n",
      "Bid space: [0.  0.2 0.4 0.6 0.8 1. ]\n",
      "Q-table shape: (4, 6)\n",
      "Epsilon: initial, final and decay rate 1.0 0.01 0.9999\n",
      "Beta: initial, final and decay rate 1.0 0.01 0.9999\n",
      "Num episodes: 250000\n",
      "10000 0.37 0.37 1.0 0.05\n",
      "20000 0.14 0.14 1.0 0.0\n",
      "30000 0.05 0.05 1.0 0.0\n",
      "40000 0.02 0.02 1.0 0.0\n",
      "50000 0.01 0.01 1.0 0.0\n",
      "(0, 1.0, 50000, 0.0)\n",
      "--------------------\n",
      "{'N': 2, 'alpha': 0.1, 'gamma': 0.0, 'egreedy': 0, 'design': 0, 'asynchronous': 1, 'feedback': 1, 'num_actions': 11, 'decay': 0.9999, 'verbose': 1}\n",
      "Bidders: 2\n",
      "Learning rate: 0.1\n",
      "Discount factor: 0.0\n",
      "eGreedy 0\n",
      "Asynchronous 1\n",
      "First price: 0\n",
      "Feedback: 1\n",
      "Bid space: [0.  0.1 0.2 0.3 0.4 0.5 0.6 0.7 0.8 0.9 1. ]\n",
      "Q-table shape: (2, 11, 11)\n",
      "Epsilon: initial, final and decay rate 1.0 0.01 0.9999\n",
      "Beta: initial, final and decay rate 1.0 0.01 0.9999\n",
      "Num episodes: 250000\n",
      "10000 0.37 0.37 0.77 0.23\n",
      "20000 0.14 0.14 0.85 0.18\n",
      "30000 0.05 0.05 0.97 0.05\n",
      "40000 0.02 0.02 1.0 0.0\n",
      "50000 0.01 0.01 1.0 0.0\n",
      "(1, 1.0, 50000, 0.0)\n",
      "--------------------\n",
      "{'N': 2, 'alpha': 0.1, 'gamma': 0.0, 'egreedy': 0, 'design': 1, 'asynchronous': 0, 'feedback': 1, 'num_actions': 11, 'decay': 0.9999, 'verbose': 1}\n",
      "Bidders: 2\n",
      "Learning rate: 0.1\n",
      "Discount factor: 0.0\n",
      "eGreedy 0\n",
      "Asynchronous 0\n",
      "First price: 1\n",
      "Feedback: 1\n",
      "Bid space: [0.  0.1 0.2 0.3 0.4 0.5 0.6 0.7 0.8 0.9 1. ]\n",
      "Q-table shape: (2, 11, 11)\n",
      "Epsilon: initial, final and decay rate 1.0 0.01 0.9999\n",
      "Beta: initial, final and decay rate 1.0 0.01 0.9999\n",
      "Num episodes: 250000\n",
      "10000 0.37 0.37 0.65 0.23\n",
      "20000 0.14 0.14 0.68 0.19\n",
      "30000 0.05 0.05 0.74 0.13\n",
      "40000 0.02 0.02 0.82 0.11\n",
      "50000 0.01 0.01 0.84 0.1\n",
      "60000 0.01 0.01 0.83 0.11\n",
      "70000 0.01 0.01 0.83 0.12\n",
      "80000 0.01 0.01 0.83 0.12\n",
      "90000 0.01 0.01 0.83 0.11\n",
      "100000 0.01 0.01 0.83 0.12\n",
      "110000 0.01 0.01 0.83 0.12\n",
      "120000 0.01 0.01 0.85 0.1\n",
      "130000 0.01 0.01 0.84 0.11\n",
      "140000 0.01 0.01 0.84 0.11\n",
      "150000 0.01 0.01 0.83 0.11\n",
      "160000 0.01 0.01 0.84 0.11\n",
      "170000 0.01 0.01 0.84 0.11\n",
      "180000 0.01 0.01 0.84 0.11\n",
      "190000 0.01 0.01 0.85 0.1\n",
      "200000 0.01 0.01 0.83 0.12\n",
      "210000 0.01 0.01 0.84 0.11\n",
      "220000 0.01 0.01 0.83 0.1\n",
      "230000 0.01 0.01 0.84 0.1\n"
     ]
    }
   ],
   "source": [
    "import random\n",
    "\n",
    "parameters = {'N':[2,4],\n",
    "              'alpha':[0.01,0.1],\n",
    "              'gamma':[0.0,0.95],\n",
    "              'egreedy':[0,1],\n",
    "              'design':[0,1],\n",
    "              'asynchronous':[0,1],\n",
    "              'feedback':[0,1],\n",
    "              'num_actions':[6,11],\n",
    "              'decay':[0.9999,0.99995],\n",
    "              'verbose':[1]\n",
    "             }\n",
    "\n",
    "K = 500 # Number of times to sample\n",
    "data = []\n",
    "for _ in range(K):\n",
    "    sampled_params = {}\n",
    "    for key, value in parameters.items():\n",
    "        if isinstance(value, list):\n",
    "            sampled_params[key] = random.choice(value)\n",
    "        else:\n",
    "            sampled_params[key] = value\n",
    "    \n",
    "    print(sampled_params)\n",
    "    (Y,episode,Y_std,Y_min,Y_max,N,alpha,gamma,egreedy,asynchronous,design,feedback,num_actions,decay,Q) = experiment(**sampled_params)\n",
    "    data.append((Y,episode,Y_std,Y_min,Y_max,N,alpha,gamma,egreedy,asynchronous,design,feedback,num_actions,decay))\n",
    "    print((_,Y,episode,Y_std))\n",
    "    print(\"-\" * 20)"
   ]
  },
  {
   "cell_type": "markdown",
   "id": "f475a0b3",
   "metadata": {},
   "source": [
    "### Data Collection"
   ]
  },
  {
   "cell_type": "code",
   "execution_count": null,
   "id": "061e4553",
   "metadata": {},
   "outputs": [],
   "source": [
    "import pandas as pd\n",
    "df = pd.DataFrame(data, columns = ['bid2val','episode','Y_std','Y_min','Y_max','N','alpha','gamma','egreedy','asynchronous','design','feedback','num_actions','decay'])\n",
    "df.to_pickle('data_experiment2.pkl')"
   ]
  },
  {
   "cell_type": "code",
   "execution_count": 48,
   "id": "19895751",
   "metadata": {},
   "outputs": [
    {
     "data": {
      "text/html": [
       "<div>\n",
       "<style scoped>\n",
       "    .dataframe tbody tr th:only-of-type {\n",
       "        vertical-align: middle;\n",
       "    }\n",
       "\n",
       "    .dataframe tbody tr th {\n",
       "        vertical-align: top;\n",
       "    }\n",
       "\n",
       "    .dataframe thead th {\n",
       "        text-align: right;\n",
       "    }\n",
       "</style>\n",
       "<table border=\"1\" class=\"dataframe\">\n",
       "  <thead>\n",
       "    <tr style=\"text-align: right;\">\n",
       "      <th></th>\n",
       "      <th>bid2val</th>\n",
       "      <th>episode</th>\n",
       "      <th>Y_std</th>\n",
       "      <th>Y_min</th>\n",
       "      <th>Y_max</th>\n",
       "      <th>N</th>\n",
       "      <th>alpha</th>\n",
       "      <th>gamma</th>\n",
       "      <th>egreedy</th>\n",
       "      <th>asynchronous</th>\n",
       "      <th>design</th>\n",
       "      <th>feedback</th>\n",
       "      <th>num_actions</th>\n",
       "      <th>decay</th>\n",
       "    </tr>\n",
       "  </thead>\n",
       "  <tbody>\n",
       "    <tr>\n",
       "      <th>0</th>\n",
       "      <td>0.8</td>\n",
       "      <td>100000</td>\n",
       "      <td>1.110223e-16</td>\n",
       "      <td>0.8</td>\n",
       "      <td>0.8</td>\n",
       "      <td>2</td>\n",
       "      <td>0.01</td>\n",
       "      <td>0.0</td>\n",
       "      <td>0</td>\n",
       "      <td>1</td>\n",
       "      <td>1</td>\n",
       "      <td>1</td>\n",
       "      <td>6</td>\n",
       "      <td>0.99995</td>\n",
       "    </tr>\n",
       "  </tbody>\n",
       "</table>\n",
       "</div>"
      ],
      "text/plain": [
       "   bid2val  episode         Y_std  Y_min  Y_max  N  alpha  gamma  egreedy  \\\n",
       "0      0.8   100000  1.110223e-16    0.8    0.8  2   0.01    0.0        0   \n",
       "\n",
       "   asynchronous  design  feedback  num_actions    decay  \n",
       "0             1       1         1            6  0.99995  "
      ]
     },
     "execution_count": 48,
     "metadata": {},
     "output_type": "execute_result"
    }
   ],
   "source": [
    "df"
   ]
  },
  {
   "cell_type": "code",
   "execution_count": 37,
   "id": "9e8e35f7",
   "metadata": {},
   "outputs": [
    {
     "ename": "NameError",
     "evalue": "name 'df' is not defined",
     "output_type": "error",
     "traceback": [
      "\u001b[0;31m---------------------------------------------------------------------------\u001b[0m",
      "\u001b[0;31mNameError\u001b[0m                                 Traceback (most recent call last)",
      "Cell \u001b[0;32mIn [37], line 1\u001b[0m\n\u001b[0;32m----> 1\u001b[0m df3 \u001b[38;5;241m=\u001b[39m \u001b[43mdf\u001b[49m\u001b[38;5;241m.\u001b[39mcopy()\n",
      "\u001b[0;31mNameError\u001b[0m: name 'df' is not defined"
     ]
    }
   ],
   "source": [
    "df3 = df.copy()"
   ]
  },
  {
   "cell_type": "code",
   "execution_count": 38,
   "id": "fc7c6376",
   "metadata": {},
   "outputs": [],
   "source": [
    "import pandas as pd\n",
    "df3 = pd.read_pickle('data_experiment1.pkl')"
   ]
  },
  {
   "cell_type": "code",
   "execution_count": 39,
   "id": "076aa8bc",
   "metadata": {},
   "outputs": [
    {
     "data": {
      "text/plain": [
       "((18, 12), (18, 12))"
      ]
     },
     "execution_count": 39,
     "metadata": {},
     "output_type": "execute_result"
    }
   ],
   "source": [
    "df3.shape,  df3.shape"
   ]
  },
  {
   "cell_type": "code",
   "execution_count": 103,
   "id": "6576be5d",
   "metadata": {},
   "outputs": [],
   "source": [
    "df3 = pd.concat([df3,df],axis=0)"
   ]
  },
  {
   "cell_type": "code",
   "execution_count": 108,
   "id": "14ed7cfc",
   "metadata": {},
   "outputs": [],
   "source": [
    "df3=df"
   ]
  },
  {
   "cell_type": "code",
   "execution_count": 109,
   "id": "5e0e5fbc",
   "metadata": {},
   "outputs": [],
   "source": [
    "df3.to_pickle('data_main3.pkl')"
   ]
  },
  {
   "cell_type": "markdown",
   "id": "fb0b2b9a",
   "metadata": {},
   "source": [
    "### Analysis"
   ]
  },
  {
   "cell_type": "code",
   "execution_count": 40,
   "id": "0b04bd1b",
   "metadata": {},
   "outputs": [
    {
     "data": {
      "text/plain": [
       "<AxesSubplot: >"
      ]
     },
     "execution_count": 40,
     "metadata": {},
     "output_type": "execute_result"
    },
    {
     "data": {
      "image/png": "[encoded data removed]",
      "text/plain": [
       "<Figure size 640x480 with 1 Axes>"
      ]
     },
     "metadata": {},
     "output_type": "display_data"
    }
   ],
   "source": [
    "df3.bid2val.hist(bins=30)"
   ]
  },
  {
   "cell_type": "code",
   "execution_count": 41,
   "id": "20a4fdea",
   "metadata": {},
   "outputs": [
    {
     "data": {
      "text/plain": [
       "<AxesSubplot: >"
      ]
     },
     "execution_count": 41,
     "metadata": {},
     "output_type": "execute_result"
    },
    {
     "data": {
      "image/png": "[encoded data removed]",
      "text/plain": [
       "<Figure size 640x480 with 1 Axes>"
      ]
     },
     "metadata": {},
     "output_type": "display_data"
    }
   ],
   "source": [
    "df3.asynchronous.hist(bins=30)"
   ]
  },
  {
   "cell_type": "code",
   "execution_count": 42,
   "id": "aefc8f8e",
   "metadata": {},
   "outputs": [
    {
     "data": {
      "text/plain": [
       "<AxesSubplot: >"
      ]
     },
     "execution_count": 42,
     "metadata": {},
     "output_type": "execute_result"
    },
    {
     "data": {
      "image/png": "[encoded data removed]",
      "text/plain": [
       "<Figure size 640x480 with 1 Axes>"
      ]
     },
     "metadata": {},
     "output_type": "display_data"
    }
   ],
   "source": [
    "df3.design.hist(bins=30)"
   ]
  },
  {
   "cell_type": "code",
   "execution_count": 106,
   "id": "1423be54",
   "metadata": {},
   "outputs": [
    {
     "data": {
      "text/plain": [
       "<AxesSubplot: >"
      ]
     },
     "execution_count": 106,
     "metadata": {},
     "output_type": "execute_result"
    },
    {
     "data": {
      "image/png": "[encoded data removed]",
      "text/plain": [
       "<Figure size 640x480 with 1 Axes>"
      ]
     },
     "metadata": {},
     "output_type": "display_data"
    }
   ],
   "source": [
    "df3.asynchronous.hist(bins=30)"
   ]
  },
  {
   "cell_type": "code",
   "execution_count": 113,
   "id": "cad73860",
   "metadata": {},
   "outputs": [
    {
     "data": {
      "text/html": [
       "<div>\n",
       "<style scoped>\n",
       "    .dataframe tbody tr th:only-of-type {\n",
       "        vertical-align: middle;\n",
       "    }\n",
       "\n",
       "    .dataframe tbody tr th {\n",
       "        vertical-align: top;\n",
       "    }\n",
       "\n",
       "    .dataframe thead th {\n",
       "        text-align: right;\n",
       "    }\n",
       "</style>\n",
       "<table border=\"1\" class=\"dataframe\">\n",
       "  <thead>\n",
       "    <tr style=\"text-align: right;\">\n",
       "      <th></th>\n",
       "      <th>bid2val</th>\n",
       "      <th>episode</th>\n",
       "      <th>Y_std</th>\n",
       "      <th>N</th>\n",
       "      <th>alpha</th>\n",
       "      <th>gamma</th>\n",
       "      <th>egreedy</th>\n",
       "      <th>asynchronous</th>\n",
       "      <th>design</th>\n",
       "      <th>feedback</th>\n",
       "      <th>num_actions</th>\n",
       "    </tr>\n",
       "  </thead>\n",
       "  <tbody>\n",
       "    <tr>\n",
       "      <th>0</th>\n",
       "      <td>0.933333</td>\n",
       "      <td>317000</td>\n",
       "      <td>0.009129</td>\n",
       "      <td>2</td>\n",
       "      <td>0.050</td>\n",
       "      <td>0.99</td>\n",
       "      <td>0</td>\n",
       "      <td>0</td>\n",
       "      <td>0.50</td>\n",
       "      <td>0</td>\n",
       "      <td>16</td>\n",
       "    </tr>\n",
       "    <tr>\n",
       "      <th>1</th>\n",
       "      <td>0.933333</td>\n",
       "      <td>296000</td>\n",
       "      <td>0.009334</td>\n",
       "      <td>5</td>\n",
       "      <td>0.050</td>\n",
       "      <td>0.25</td>\n",
       "      <td>0</td>\n",
       "      <td>0</td>\n",
       "      <td>0.75</td>\n",
       "      <td>0</td>\n",
       "      <td>16</td>\n",
       "    </tr>\n",
       "    <tr>\n",
       "      <th>2</th>\n",
       "      <td>0.800000</td>\n",
       "      <td>466000</td>\n",
       "      <td>0.063822</td>\n",
       "      <td>7</td>\n",
       "      <td>0.005</td>\n",
       "      <td>0.25</td>\n",
       "      <td>1</td>\n",
       "      <td>0</td>\n",
       "      <td>0.50</td>\n",
       "      <td>1</td>\n",
       "      <td>6</td>\n",
       "    </tr>\n",
       "    <tr>\n",
       "      <th>3</th>\n",
       "      <td>0.933333</td>\n",
       "      <td>273000</td>\n",
       "      <td>0.009606</td>\n",
       "      <td>3</td>\n",
       "      <td>0.001</td>\n",
       "      <td>0.75</td>\n",
       "      <td>0</td>\n",
       "      <td>0</td>\n",
       "      <td>1.00</td>\n",
       "      <td>0</td>\n",
       "      <td>16</td>\n",
       "    </tr>\n",
       "    <tr>\n",
       "      <th>4</th>\n",
       "      <td>0.950000</td>\n",
       "      <td>273000</td>\n",
       "      <td>0.006386</td>\n",
       "      <td>7</td>\n",
       "      <td>0.010</td>\n",
       "      <td>0.00</td>\n",
       "      <td>0</td>\n",
       "      <td>0</td>\n",
       "      <td>0.25</td>\n",
       "      <td>1</td>\n",
       "      <td>21</td>\n",
       "    </tr>\n",
       "    <tr>\n",
       "      <th>5</th>\n",
       "      <td>0.900000</td>\n",
       "      <td>999999</td>\n",
       "      <td>0.118867</td>\n",
       "      <td>6</td>\n",
       "      <td>0.005</td>\n",
       "      <td>0.99</td>\n",
       "      <td>1</td>\n",
       "      <td>1</td>\n",
       "      <td>1.00</td>\n",
       "      <td>1</td>\n",
       "      <td>6</td>\n",
       "    </tr>\n",
       "    <tr>\n",
       "      <th>6</th>\n",
       "      <td>0.933333</td>\n",
       "      <td>725000</td>\n",
       "      <td>0.018275</td>\n",
       "      <td>7</td>\n",
       "      <td>0.005</td>\n",
       "      <td>0.50</td>\n",
       "      <td>1</td>\n",
       "      <td>0</td>\n",
       "      <td>0.75</td>\n",
       "      <td>1</td>\n",
       "      <td>16</td>\n",
       "    </tr>\n",
       "    <tr>\n",
       "      <th>7</th>\n",
       "      <td>0.800000</td>\n",
       "      <td>413000</td>\n",
       "      <td>0.039033</td>\n",
       "      <td>8</td>\n",
       "      <td>0.005</td>\n",
       "      <td>0.99</td>\n",
       "      <td>0</td>\n",
       "      <td>0</td>\n",
       "      <td>0.75</td>\n",
       "      <td>0</td>\n",
       "      <td>6</td>\n",
       "    </tr>\n",
       "    <tr>\n",
       "      <th>8</th>\n",
       "      <td>0.800000</td>\n",
       "      <td>439000</td>\n",
       "      <td>0.060954</td>\n",
       "      <td>2</td>\n",
       "      <td>0.005</td>\n",
       "      <td>0.00</td>\n",
       "      <td>1</td>\n",
       "      <td>0</td>\n",
       "      <td>0.50</td>\n",
       "      <td>0</td>\n",
       "      <td>6</td>\n",
       "    </tr>\n",
       "    <tr>\n",
       "      <th>9</th>\n",
       "      <td>0.800000</td>\n",
       "      <td>530000</td>\n",
       "      <td>0.073093</td>\n",
       "      <td>5</td>\n",
       "      <td>0.010</td>\n",
       "      <td>0.75</td>\n",
       "      <td>0</td>\n",
       "      <td>1</td>\n",
       "      <td>0.75</td>\n",
       "      <td>0</td>\n",
       "      <td>6</td>\n",
       "    </tr>\n",
       "    <tr>\n",
       "      <th>10</th>\n",
       "      <td>1.000000</td>\n",
       "      <td>495000</td>\n",
       "      <td>0.097381</td>\n",
       "      <td>2</td>\n",
       "      <td>0.100</td>\n",
       "      <td>0.25</td>\n",
       "      <td>1</td>\n",
       "      <td>0</td>\n",
       "      <td>0.50</td>\n",
       "      <td>1</td>\n",
       "      <td>6</td>\n",
       "    </tr>\n",
       "    <tr>\n",
       "      <th>11</th>\n",
       "      <td>0.900000</td>\n",
       "      <td>723000</td>\n",
       "      <td>0.108616</td>\n",
       "      <td>6</td>\n",
       "      <td>0.100</td>\n",
       "      <td>0.90</td>\n",
       "      <td>1</td>\n",
       "      <td>1</td>\n",
       "      <td>0.75</td>\n",
       "      <td>0</td>\n",
       "      <td>11</td>\n",
       "    </tr>\n",
       "    <tr>\n",
       "      <th>12</th>\n",
       "      <td>1.000000</td>\n",
       "      <td>492000</td>\n",
       "      <td>0.102760</td>\n",
       "      <td>8</td>\n",
       "      <td>0.050</td>\n",
       "      <td>0.99</td>\n",
       "      <td>1</td>\n",
       "      <td>1</td>\n",
       "      <td>0.00</td>\n",
       "      <td>0</td>\n",
       "      <td>11</td>\n",
       "    </tr>\n",
       "    <tr>\n",
       "      <th>13</th>\n",
       "      <td>1.000000</td>\n",
       "      <td>537000</td>\n",
       "      <td>0.158120</td>\n",
       "      <td>2</td>\n",
       "      <td>0.001</td>\n",
       "      <td>0.00</td>\n",
       "      <td>0</td>\n",
       "      <td>1</td>\n",
       "      <td>0.75</td>\n",
       "      <td>0</td>\n",
       "      <td>21</td>\n",
       "    </tr>\n",
       "  </tbody>\n",
       "</table>\n",
       "</div>"
      ],
      "text/plain": [
       "     bid2val  episode     Y_std  N  alpha  gamma  egreedy  asynchronous  \\\n",
       "0   0.933333   317000  0.009129  2  0.050   0.99        0             0   \n",
       "1   0.933333   296000  0.009334  5  0.050   0.25        0             0   \n",
       "2   0.800000   466000  0.063822  7  0.005   0.25        1             0   \n",
       "3   0.933333   273000  0.009606  3  0.001   0.75        0             0   \n",
       "4   0.950000   273000  0.006386  7  0.010   0.00        0             0   \n",
       "5   0.900000   999999  0.118867  6  0.005   0.99        1             1   \n",
       "6   0.933333   725000  0.018275  7  0.005   0.50        1             0   \n",
       "7   0.800000   413000  0.039033  8  0.005   0.99        0             0   \n",
       "8   0.800000   439000  0.060954  2  0.005   0.00        1             0   \n",
       "9   0.800000   530000  0.073093  5  0.010   0.75        0             1   \n",
       "10  1.000000   495000  0.097381  2  0.100   0.25        1             0   \n",
       "11  0.900000   723000  0.108616  6  0.100   0.90        1             1   \n",
       "12  1.000000   492000  0.102760  8  0.050   0.99        1             1   \n",
       "13  1.000000   537000  0.158120  2  0.001   0.00        0             1   \n",
       "\n",
       "    design  feedback  num_actions  \n",
       "0     0.50         0           16  \n",
       "1     0.75         0           16  \n",
       "2     0.50         1            6  \n",
       "3     1.00         0           16  \n",
       "4     0.25         1           21  \n",
       "5     1.00         1            6  \n",
       "6     0.75         1           16  \n",
       "7     0.75         0            6  \n",
       "8     0.50         0            6  \n",
       "9     0.75         0            6  \n",
       "10    0.50         1            6  \n",
       "11    0.75         0           11  \n",
       "12    0.00         0           11  \n",
       "13    0.75         0           21  "
      ]
     },
     "execution_count": 113,
     "metadata": {},
     "output_type": "execute_result"
    }
   ],
   "source": [
    "df3.head(20)"
   ]
  },
  {
   "cell_type": "markdown",
   "id": "9efadfde",
   "metadata": {},
   "source": [
    "### Box plots"
   ]
  },
  {
   "cell_type": "code",
   "execution_count": 57,
   "id": "0e497120",
   "metadata": {},
   "outputs": [
    {
     "data": {
      "text/plain": [
       "<AxesSubplot: xlabel='asynchronous', ylabel='bid2val'>"
      ]
     },
     "execution_count": 57,
     "metadata": {},
     "output_type": "execute_result"
    },
    {
     "data": {
      "image/png": "[encoded data removed]",
      "text/plain": [
       "<Figure size 640x480 with 1 Axes>"
      ]
     },
     "metadata": {},
     "output_type": "display_data"
    }
   ],
   "source": [
    "import seaborn as sns\n",
    "sns.boxplot(data=df3, x=\"asynchronous\", y=\"bid2val\")"
   ]
  },
  {
   "cell_type": "code",
   "execution_count": 58,
   "id": "e268e78a",
   "metadata": {},
   "outputs": [
    {
     "data": {
      "text/plain": [
       "<AxesSubplot: xlabel='design', ylabel='bid2val'>"
      ]
     },
     "execution_count": 58,
     "metadata": {},
     "output_type": "execute_result"
    },
    {
     "data": {
      "image/png": "[encoded data removed]",
      "text/plain": [
       "<Figure size 640x480 with 1 Axes>"
      ]
     },
     "metadata": {},
     "output_type": "display_data"
    }
   ],
   "source": [
    "import seaborn as sns\n",
    "sns.boxplot(data=df3, x=\"design\", y=\"bid2val\")"
   ]
  },
  {
   "cell_type": "code",
   "execution_count": 59,
   "id": "993a20f2",
   "metadata": {},
   "outputs": [
    {
     "data": {
      "text/plain": [
       "<AxesSubplot: xlabel='feedback', ylabel='bid2val'>"
      ]
     },
     "execution_count": 59,
     "metadata": {},
     "output_type": "execute_result"
    },
    {
     "data": {
      "image/png": "[encoded data removed]",
      "text/plain": [
       "<Figure size 640x480 with 1 Axes>"
      ]
     },
     "metadata": {},
     "output_type": "display_data"
    }
   ],
   "source": [
    "import seaborn as sns\n",
    "sns.boxplot(data=df3, x=\"feedback\", y=\"bid2val\")"
   ]
  },
  {
   "cell_type": "markdown",
   "id": "c003f07f",
   "metadata": {},
   "source": [
    "### Regression"
   ]
  },
  {
   "cell_type": "code",
   "execution_count": 114,
   "id": "d4dddfd8",
   "metadata": {
    "scrolled": false
   },
   "outputs": [
    {
     "name": "stdout",
     "output_type": "stream",
     "text": [
      "                            OLS Regression Results                            \n",
      "==============================================================================\n",
      "Dep. Variable:                bid2val   R-squared:                       0.770\n",
      "Model:                            OLS   Adj. R-squared:                  0.401\n",
      "Method:                 Least Squares   F-statistic:                     2.087\n",
      "Date:                Thu, 25 May 2023   Prob (F-statistic):              0.217\n",
      "Time:                        14:58:49   Log-Likelihood:                 26.879\n",
      "No. Observations:                  14   AIC:                            -35.76\n",
      "Df Residuals:                       5   BIC:                            -30.01\n",
      "Df Model:                           8                                         \n",
      "Covariance Type:            nonrobust                                         \n",
      "================================================================================\n",
      "                   coef    std err          t      P>|t|      [0.025      0.975]\n",
      "--------------------------------------------------------------------------------\n",
      "Intercept        0.7876      0.093      8.435      0.000       0.548       1.028\n",
      "N               -0.0104      0.009     -1.138      0.307      -0.034       0.013\n",
      "alpha            0.6842      0.550      1.243      0.269      -0.731       2.099\n",
      "gamma            0.0452      0.055      0.818      0.451      -0.097       0.187\n",
      "egreedy          0.0167      0.048      0.349      0.741      -0.106       0.139\n",
      "design          -0.0537      0.071     -0.753      0.486      -0.237       0.130\n",
      "asynchronous     0.0342      0.038      0.905      0.407      -0.063       0.131\n",
      "feedback         0.0532      0.045      1.182      0.290      -0.063       0.169\n",
      "num_actions      0.0103      0.004      2.871      0.035       0.001       0.019\n",
      "==============================================================================\n",
      "Omnibus:                        2.936   Durbin-Watson:                   3.064\n",
      "Prob(Omnibus):                  0.230   Jarque-Bera (JB):                1.110\n",
      "Skew:                          -0.119   Prob(JB):                        0.574\n",
      "Kurtosis:                       1.641   Cond. No.                         481.\n",
      "==============================================================================\n",
      "\n",
      "Notes:\n",
      "[1] Standard Errors assume that the covariance matrix of the errors is correctly specified.\n"
     ]
    },
    {
     "name": "stderr",
     "output_type": "stream",
     "text": [
      "kurtosistest only valid for n>=20 ... continuing anyway, n=14\n"
     ]
    }
   ],
   "source": [
    "import numpy as np\n",
    "import statsmodels.api as sm\n",
    "import statsmodels.formula.api as smf\n",
    "results = smf.ols('bid2val ~ N + alpha + gamma + egreedy + design + asynchronous + feedback + num_actions', data =df3).fit()\n",
    "print(results.summary())"
   ]
  },
  {
   "cell_type": "markdown",
   "id": "c9a7b67c",
   "metadata": {},
   "source": [
    "### Predictive performance"
   ]
  },
  {
   "cell_type": "code",
   "execution_count": 115,
   "id": "cad10468",
   "metadata": {},
   "outputs": [
    {
     "ename": "KeyError",
     "evalue": "\"['counterfactual'] not found in axis\"",
     "output_type": "error",
     "traceback": [
      "\u001b[0;31m---------------------------------------------------------------------------\u001b[0m",
      "\u001b[0;31mKeyError\u001b[0m                                  Traceback (most recent call last)",
      "Cell \u001b[0;32mIn [115], line 2\u001b[0m\n\u001b[1;32m      1\u001b[0m y \u001b[38;5;241m=\u001b[39m df3[\u001b[38;5;124m'\u001b[39m\u001b[38;5;124mbid2val\u001b[39m\u001b[38;5;124m'\u001b[39m]\n\u001b[0;32m----> 2\u001b[0m X \u001b[38;5;241m=\u001b[39m \u001b[43mdf3\u001b[49m\u001b[38;5;241;43m.\u001b[39;49m\u001b[43mdrop\u001b[49m\u001b[43m(\u001b[49m\u001b[43m[\u001b[49m\u001b[38;5;124;43m'\u001b[39;49m\u001b[38;5;124;43mbid2val\u001b[39;49m\u001b[38;5;124;43m'\u001b[39;49m\u001b[43m,\u001b[49m\u001b[38;5;124;43m'\u001b[39;49m\u001b[38;5;124;43mcounterfactual\u001b[39;49m\u001b[38;5;124;43m'\u001b[39;49m\u001b[43m]\u001b[49m\u001b[43m,\u001b[49m\u001b[43maxis\u001b[49m\u001b[38;5;241;43m=\u001b[39;49m\u001b[38;5;241;43m1\u001b[39;49m\u001b[43m)\u001b[49m\n\u001b[1;32m      3\u001b[0m \u001b[38;5;28;01mfrom\u001b[39;00m \u001b[38;5;21;01msklearn\u001b[39;00m\u001b[38;5;21;01m.\u001b[39;00m\u001b[38;5;21;01mensemble\u001b[39;00m \u001b[38;5;28;01mimport\u001b[39;00m RandomForestRegressor\n\u001b[1;32m      4\u001b[0m \u001b[38;5;28;01mfrom\u001b[39;00m \u001b[38;5;21;01msklearn\u001b[39;00m\u001b[38;5;21;01m.\u001b[39;00m\u001b[38;5;21;01mensemble\u001b[39;00m \u001b[38;5;28;01mimport\u001b[39;00m RandomForestRegressor\n",
      "File \u001b[0;32m/usr/local/lib/python3.10/site-packages/pandas/util/_decorators.py:331\u001b[0m, in \u001b[0;36mdeprecate_nonkeyword_arguments.<locals>.decorate.<locals>.wrapper\u001b[0;34m(*args, **kwargs)\u001b[0m\n\u001b[1;32m    325\u001b[0m \u001b[38;5;28;01mif\u001b[39;00m \u001b[38;5;28mlen\u001b[39m(args) \u001b[38;5;241m>\u001b[39m num_allow_args:\n\u001b[1;32m    326\u001b[0m     warnings\u001b[38;5;241m.\u001b[39mwarn(\n\u001b[1;32m    327\u001b[0m         msg\u001b[38;5;241m.\u001b[39mformat(arguments\u001b[38;5;241m=\u001b[39m_format_argument_list(allow_args)),\n\u001b[1;32m    328\u001b[0m         \u001b[38;5;167;01mFutureWarning\u001b[39;00m,\n\u001b[1;32m    329\u001b[0m         stacklevel\u001b[38;5;241m=\u001b[39mfind_stack_level(),\n\u001b[1;32m    330\u001b[0m     )\n\u001b[0;32m--> 331\u001b[0m \u001b[38;5;28;01mreturn\u001b[39;00m \u001b[43mfunc\u001b[49m\u001b[43m(\u001b[49m\u001b[38;5;241;43m*\u001b[39;49m\u001b[43margs\u001b[49m\u001b[43m,\u001b[49m\u001b[43m \u001b[49m\u001b[38;5;241;43m*\u001b[39;49m\u001b[38;5;241;43m*\u001b[39;49m\u001b[43mkwargs\u001b[49m\u001b[43m)\u001b[49m\n",
      "File \u001b[0;32m/usr/local/lib/python3.10/site-packages/pandas/core/frame.py:5388\u001b[0m, in \u001b[0;36mDataFrame.drop\u001b[0;34m(self, labels, axis, index, columns, level, inplace, errors)\u001b[0m\n\u001b[1;32m   5240\u001b[0m \u001b[38;5;129m@deprecate_nonkeyword_arguments\u001b[39m(version\u001b[38;5;241m=\u001b[39m\u001b[38;5;28;01mNone\u001b[39;00m, allowed_args\u001b[38;5;241m=\u001b[39m[\u001b[38;5;124m\"\u001b[39m\u001b[38;5;124mself\u001b[39m\u001b[38;5;124m\"\u001b[39m, \u001b[38;5;124m\"\u001b[39m\u001b[38;5;124mlabels\u001b[39m\u001b[38;5;124m\"\u001b[39m])\n\u001b[1;32m   5241\u001b[0m \u001b[38;5;28;01mdef\u001b[39;00m \u001b[38;5;21mdrop\u001b[39m(  \u001b[38;5;66;03m# type: ignore[override]\u001b[39;00m\n\u001b[1;32m   5242\u001b[0m     \u001b[38;5;28mself\u001b[39m,\n\u001b[0;32m   (...)\u001b[0m\n\u001b[1;32m   5249\u001b[0m     errors: IgnoreRaise \u001b[38;5;241m=\u001b[39m \u001b[38;5;124m\"\u001b[39m\u001b[38;5;124mraise\u001b[39m\u001b[38;5;124m\"\u001b[39m,\n\u001b[1;32m   5250\u001b[0m ) \u001b[38;5;241m-\u001b[39m\u001b[38;5;241m>\u001b[39m DataFrame \u001b[38;5;241m|\u001b[39m \u001b[38;5;28;01mNone\u001b[39;00m:\n\u001b[1;32m   5251\u001b[0m     \u001b[38;5;124;03m\"\"\"\u001b[39;00m\n\u001b[1;32m   5252\u001b[0m \u001b[38;5;124;03m    Drop specified labels from rows or columns.\u001b[39;00m\n\u001b[1;32m   5253\u001b[0m \n\u001b[0;32m   (...)\u001b[0m\n\u001b[1;32m   5386\u001b[0m \u001b[38;5;124;03m            weight  1.0     0.8\u001b[39;00m\n\u001b[1;32m   5387\u001b[0m \u001b[38;5;124;03m    \"\"\"\u001b[39;00m\n\u001b[0;32m-> 5388\u001b[0m     \u001b[38;5;28;01mreturn\u001b[39;00m \u001b[38;5;28;43msuper\u001b[39;49m\u001b[43m(\u001b[49m\u001b[43m)\u001b[49m\u001b[38;5;241;43m.\u001b[39;49m\u001b[43mdrop\u001b[49m\u001b[43m(\u001b[49m\n\u001b[1;32m   5389\u001b[0m \u001b[43m        \u001b[49m\u001b[43mlabels\u001b[49m\u001b[38;5;241;43m=\u001b[39;49m\u001b[43mlabels\u001b[49m\u001b[43m,\u001b[49m\n\u001b[1;32m   5390\u001b[0m \u001b[43m        \u001b[49m\u001b[43maxis\u001b[49m\u001b[38;5;241;43m=\u001b[39;49m\u001b[43maxis\u001b[49m\u001b[43m,\u001b[49m\n\u001b[1;32m   5391\u001b[0m \u001b[43m        \u001b[49m\u001b[43mindex\u001b[49m\u001b[38;5;241;43m=\u001b[39;49m\u001b[43mindex\u001b[49m\u001b[43m,\u001b[49m\n\u001b[1;32m   5392\u001b[0m \u001b[43m        \u001b[49m\u001b[43mcolumns\u001b[49m\u001b[38;5;241;43m=\u001b[39;49m\u001b[43mcolumns\u001b[49m\u001b[43m,\u001b[49m\n\u001b[1;32m   5393\u001b[0m \u001b[43m        \u001b[49m\u001b[43mlevel\u001b[49m\u001b[38;5;241;43m=\u001b[39;49m\u001b[43mlevel\u001b[49m\u001b[43m,\u001b[49m\n\u001b[1;32m   5394\u001b[0m \u001b[43m        \u001b[49m\u001b[43minplace\u001b[49m\u001b[38;5;241;43m=\u001b[39;49m\u001b[43minplace\u001b[49m\u001b[43m,\u001b[49m\n\u001b[1;32m   5395\u001b[0m \u001b[43m        \u001b[49m\u001b[43merrors\u001b[49m\u001b[38;5;241;43m=\u001b[39;49m\u001b[43merrors\u001b[49m\u001b[43m,\u001b[49m\n\u001b[1;32m   5396\u001b[0m \u001b[43m    \u001b[49m\u001b[43m)\u001b[49m\n",
      "File \u001b[0;32m/usr/local/lib/python3.10/site-packages/pandas/util/_decorators.py:331\u001b[0m, in \u001b[0;36mdeprecate_nonkeyword_arguments.<locals>.decorate.<locals>.wrapper\u001b[0;34m(*args, **kwargs)\u001b[0m\n\u001b[1;32m    325\u001b[0m \u001b[38;5;28;01mif\u001b[39;00m \u001b[38;5;28mlen\u001b[39m(args) \u001b[38;5;241m>\u001b[39m num_allow_args:\n\u001b[1;32m    326\u001b[0m     warnings\u001b[38;5;241m.\u001b[39mwarn(\n\u001b[1;32m    327\u001b[0m         msg\u001b[38;5;241m.\u001b[39mformat(arguments\u001b[38;5;241m=\u001b[39m_format_argument_list(allow_args)),\n\u001b[1;32m    328\u001b[0m         \u001b[38;5;167;01mFutureWarning\u001b[39;00m,\n\u001b[1;32m    329\u001b[0m         stacklevel\u001b[38;5;241m=\u001b[39mfind_stack_level(),\n\u001b[1;32m    330\u001b[0m     )\n\u001b[0;32m--> 331\u001b[0m \u001b[38;5;28;01mreturn\u001b[39;00m \u001b[43mfunc\u001b[49m\u001b[43m(\u001b[49m\u001b[38;5;241;43m*\u001b[39;49m\u001b[43margs\u001b[49m\u001b[43m,\u001b[49m\u001b[43m \u001b[49m\u001b[38;5;241;43m*\u001b[39;49m\u001b[38;5;241;43m*\u001b[39;49m\u001b[43mkwargs\u001b[49m\u001b[43m)\u001b[49m\n",
      "File \u001b[0;32m/usr/local/lib/python3.10/site-packages/pandas/core/generic.py:4505\u001b[0m, in \u001b[0;36mNDFrame.drop\u001b[0;34m(self, labels, axis, index, columns, level, inplace, errors)\u001b[0m\n\u001b[1;32m   4503\u001b[0m \u001b[38;5;28;01mfor\u001b[39;00m axis, labels \u001b[38;5;129;01min\u001b[39;00m axes\u001b[38;5;241m.\u001b[39mitems():\n\u001b[1;32m   4504\u001b[0m     \u001b[38;5;28;01mif\u001b[39;00m labels \u001b[38;5;129;01mis\u001b[39;00m \u001b[38;5;129;01mnot\u001b[39;00m \u001b[38;5;28;01mNone\u001b[39;00m:\n\u001b[0;32m-> 4505\u001b[0m         obj \u001b[38;5;241m=\u001b[39m \u001b[43mobj\u001b[49m\u001b[38;5;241;43m.\u001b[39;49m\u001b[43m_drop_axis\u001b[49m\u001b[43m(\u001b[49m\u001b[43mlabels\u001b[49m\u001b[43m,\u001b[49m\u001b[43m \u001b[49m\u001b[43maxis\u001b[49m\u001b[43m,\u001b[49m\u001b[43m \u001b[49m\u001b[43mlevel\u001b[49m\u001b[38;5;241;43m=\u001b[39;49m\u001b[43mlevel\u001b[49m\u001b[43m,\u001b[49m\u001b[43m \u001b[49m\u001b[43merrors\u001b[49m\u001b[38;5;241;43m=\u001b[39;49m\u001b[43merrors\u001b[49m\u001b[43m)\u001b[49m\n\u001b[1;32m   4507\u001b[0m \u001b[38;5;28;01mif\u001b[39;00m inplace:\n\u001b[1;32m   4508\u001b[0m     \u001b[38;5;28mself\u001b[39m\u001b[38;5;241m.\u001b[39m_update_inplace(obj)\n",
      "File \u001b[0;32m/usr/local/lib/python3.10/site-packages/pandas/core/generic.py:4546\u001b[0m, in \u001b[0;36mNDFrame._drop_axis\u001b[0;34m(self, labels, axis, level, errors, only_slice)\u001b[0m\n\u001b[1;32m   4544\u001b[0m         new_axis \u001b[38;5;241m=\u001b[39m axis\u001b[38;5;241m.\u001b[39mdrop(labels, level\u001b[38;5;241m=\u001b[39mlevel, errors\u001b[38;5;241m=\u001b[39merrors)\n\u001b[1;32m   4545\u001b[0m     \u001b[38;5;28;01melse\u001b[39;00m:\n\u001b[0;32m-> 4546\u001b[0m         new_axis \u001b[38;5;241m=\u001b[39m \u001b[43maxis\u001b[49m\u001b[38;5;241;43m.\u001b[39;49m\u001b[43mdrop\u001b[49m\u001b[43m(\u001b[49m\u001b[43mlabels\u001b[49m\u001b[43m,\u001b[49m\u001b[43m \u001b[49m\u001b[43merrors\u001b[49m\u001b[38;5;241;43m=\u001b[39;49m\u001b[43merrors\u001b[49m\u001b[43m)\u001b[49m\n\u001b[1;32m   4547\u001b[0m     indexer \u001b[38;5;241m=\u001b[39m axis\u001b[38;5;241m.\u001b[39mget_indexer(new_axis)\n\u001b[1;32m   4549\u001b[0m \u001b[38;5;66;03m# Case for non-unique axis\u001b[39;00m\n\u001b[1;32m   4550\u001b[0m \u001b[38;5;28;01melse\u001b[39;00m:\n",
      "File \u001b[0;32m/usr/local/lib/python3.10/site-packages/pandas/core/indexes/base.py:6975\u001b[0m, in \u001b[0;36mIndex.drop\u001b[0;34m(self, labels, errors)\u001b[0m\n\u001b[1;32m   6973\u001b[0m \u001b[38;5;28;01mif\u001b[39;00m mask\u001b[38;5;241m.\u001b[39many():\n\u001b[1;32m   6974\u001b[0m     \u001b[38;5;28;01mif\u001b[39;00m errors \u001b[38;5;241m!=\u001b[39m \u001b[38;5;124m\"\u001b[39m\u001b[38;5;124mignore\u001b[39m\u001b[38;5;124m\"\u001b[39m:\n\u001b[0;32m-> 6975\u001b[0m         \u001b[38;5;28;01mraise\u001b[39;00m \u001b[38;5;167;01mKeyError\u001b[39;00m(\u001b[38;5;124mf\u001b[39m\u001b[38;5;124m\"\u001b[39m\u001b[38;5;132;01m{\u001b[39;00m\u001b[38;5;28mlist\u001b[39m(labels[mask])\u001b[38;5;132;01m}\u001b[39;00m\u001b[38;5;124m not found in axis\u001b[39m\u001b[38;5;124m\"\u001b[39m)\n\u001b[1;32m   6976\u001b[0m     indexer \u001b[38;5;241m=\u001b[39m indexer[\u001b[38;5;241m~\u001b[39mmask]\n\u001b[1;32m   6977\u001b[0m \u001b[38;5;28;01mreturn\u001b[39;00m \u001b[38;5;28mself\u001b[39m\u001b[38;5;241m.\u001b[39mdelete(indexer)\n",
      "\u001b[0;31mKeyError\u001b[0m: \"['counterfactual'] not found in axis\""
     ]
    }
   ],
   "source": [
    "y = df3['bid2val']\n",
    "X = df3.drop(['bid2val','counterfactual'],axis=1)\n",
    "from sklearn.ensemble import RandomForestRegressor\n",
    "from sklearn.ensemble import RandomForestRegressor\n",
    "from sklearn.model_selection import cross_val_score, KFold\n",
    "# Create a Random Forest regressor\n",
    "rf_regressor = RandomForestRegressor(n_estimators=100,max_depth=3)\n",
    "# Define the number of folds for cross-validation\n",
    "k_folds = 5\n",
    "# Perform cross-validation\n",
    "kf = KFold(n_splits=k_folds, shuffle=True)\n",
    "cross_val_scores = cross_val_score(rf_regressor, X, y, cv=kf, scoring='r2')\n",
    "# Print the performance metrics\n",
    "print(\"Cross-validation scores:\", cross_val_scores)\n",
    "print(\"Average R-squared:\", cross_val_scores.mean())"
   ]
  },
  {
   "cell_type": "markdown",
   "id": "08b59b8c",
   "metadata": {},
   "source": [
    "### feature importance"
   ]
  },
  {
   "cell_type": "code",
   "execution_count": null,
   "id": "bc036947",
   "metadata": {},
   "outputs": [],
   "source": [
    "rf_regressor.fit(X, y)\n",
    "# Get feature importances\n",
    "importances = rf_regressor.feature_importances_\n",
    "\n",
    "# Get the indices that would sort the importances in descending order\n",
    "indices = np.argsort(importances)[::-1]\n",
    "\n",
    "# Print feature importance ranking\n",
    "print(\"Feature Importance Ranking:\")\n",
    "for i, idx in enumerate(indices):\n",
    "    print(f\"{i + 1}. Feature {idx + 1}: {importances[idx]}\")"
   ]
  },
  {
   "cell_type": "code",
   "execution_count": 54,
   "id": "4fa928e1",
   "metadata": {},
   "outputs": [
    {
     "name": "stderr",
     "output_type": "stream",
     "text": [
      "2023-05-25 11:45:35.143304: I tensorflow/core/platform/cpu_feature_guard.cc:193] This TensorFlow binary is optimized with oneAPI Deep Neural Network Library (oneDNN) to use the following CPU instructions in performance-critical operations:  AVX2 FMA\n",
      "To enable them in other operations, rebuild TensorFlow with the appropriate compiler flags.\n"
     ]
    },
    {
     "data": {
      "text/html": [
       "\n",
       "    <style>\n",
       "    table.eli5-weights tr:hover {\n",
       "        filter: brightness(85%);\n",
       "    }\n",
       "</style>\n",
       "\n",
       "\n",
       "\n",
       "    \n",
       "\n",
       "    \n",
       "\n",
       "    \n",
       "\n",
       "    \n",
       "\n",
       "    \n",
       "\n",
       "    \n",
       "\n",
       "\n",
       "    \n",
       "\n",
       "    \n",
       "\n",
       "    \n",
       "\n",
       "    \n",
       "\n",
       "    \n",
       "\n",
       "    \n",
       "\n",
       "\n",
       "    \n",
       "\n",
       "    \n",
       "\n",
       "    \n",
       "\n",
       "    \n",
       "\n",
       "    \n",
       "        <table class=\"eli5-weights eli5-feature-importances\" style=\"border-collapse: collapse; border: none; margin-top: 0em; table-layout: auto;\">\n",
       "    <thead>\n",
       "    <tr style=\"border: none;\">\n",
       "        <th style=\"padding: 0 1em 0 0.5em; text-align: right; border: none;\">Weight</th>\n",
       "        <th style=\"padding: 0 0.5em 0 0.5em; text-align: left; border: none;\">Feature</th>\n",
       "    </tr>\n",
       "    </thead>\n",
       "    <tbody>\n",
       "    \n",
       "        <tr style=\"background-color: hsl(120, 100.00%, 80.00%); border: none;\">\n",
       "            <td style=\"padding: 0 1em 0 0.5em; text-align: right; border: none;\">\n",
       "                0.6599\n",
       "                \n",
       "                    &plusmn; 0.1727\n",
       "                \n",
       "            </td>\n",
       "            <td style=\"padding: 0 0.5em 0 0.5em; text-align: left; border: none;\">\n",
       "                x4\n",
       "            </td>\n",
       "        </tr>\n",
       "    \n",
       "        <tr style=\"background-color: hsl(120, 100.00%, 81.46%); border: none;\">\n",
       "            <td style=\"padding: 0 1em 0 0.5em; text-align: right; border: none;\">\n",
       "                0.5920\n",
       "                \n",
       "                    &plusmn; 0.0796\n",
       "                \n",
       "            </td>\n",
       "            <td style=\"padding: 0 0.5em 0 0.5em; text-align: left; border: none;\">\n",
       "                x5\n",
       "            </td>\n",
       "        </tr>\n",
       "    \n",
       "        <tr style=\"background-color: hsl(120, 100.00%, 82.35%); border: none;\">\n",
       "            <td style=\"padding: 0 1em 0 0.5em; text-align: right; border: none;\">\n",
       "                0.5521\n",
       "                \n",
       "                    &plusmn; 0.0518\n",
       "                \n",
       "            </td>\n",
       "            <td style=\"padding: 0 0.5em 0 0.5em; text-align: left; border: none;\">\n",
       "                x0\n",
       "            </td>\n",
       "        </tr>\n",
       "    \n",
       "        <tr style=\"background-color: hsl(120, 100.00%, 90.10%); border: none;\">\n",
       "            <td style=\"padding: 0 1em 0 0.5em; text-align: right; border: none;\">\n",
       "                0.2416\n",
       "                \n",
       "                    &plusmn; 0.0453\n",
       "                \n",
       "            </td>\n",
       "            <td style=\"padding: 0 0.5em 0 0.5em; text-align: left; border: none;\">\n",
       "                x7\n",
       "            </td>\n",
       "        </tr>\n",
       "    \n",
       "        <tr style=\"background-color: hsl(120, 100.00%, 92.48%); border: none;\">\n",
       "            <td style=\"padding: 0 1em 0 0.5em; text-align: right; border: none;\">\n",
       "                0.1632\n",
       "                \n",
       "                    &plusmn; 0.0672\n",
       "                \n",
       "            </td>\n",
       "            <td style=\"padding: 0 0.5em 0 0.5em; text-align: left; border: none;\">\n",
       "                x2\n",
       "            </td>\n",
       "        </tr>\n",
       "    \n",
       "        <tr style=\"background-color: hsl(120, 100.00%, 92.69%); border: none;\">\n",
       "            <td style=\"padding: 0 1em 0 0.5em; text-align: right; border: none;\">\n",
       "                0.1566\n",
       "                \n",
       "                    &plusmn; 0.0182\n",
       "                \n",
       "            </td>\n",
       "            <td style=\"padding: 0 0.5em 0 0.5em; text-align: left; border: none;\">\n",
       "                x6\n",
       "            </td>\n",
       "        </tr>\n",
       "    \n",
       "        <tr style=\"background-color: hsl(120, 100.00%, 92.83%); border: none;\">\n",
       "            <td style=\"padding: 0 1em 0 0.5em; text-align: right; border: none;\">\n",
       "                0.1525\n",
       "                \n",
       "                    &plusmn; 0.0755\n",
       "                \n",
       "            </td>\n",
       "            <td style=\"padding: 0 0.5em 0 0.5em; text-align: left; border: none;\">\n",
       "                x3\n",
       "            </td>\n",
       "        </tr>\n",
       "    \n",
       "        <tr style=\"background-color: hsl(120, 100.00%, 94.72%); border: none;\">\n",
       "            <td style=\"padding: 0 1em 0 0.5em; text-align: right; border: none;\">\n",
       "                0.0986\n",
       "                \n",
       "                    &plusmn; 0.0527\n",
       "                \n",
       "            </td>\n",
       "            <td style=\"padding: 0 0.5em 0 0.5em; text-align: left; border: none;\">\n",
       "                x1\n",
       "            </td>\n",
       "        </tr>\n",
       "    \n",
       "    \n",
       "    </tbody>\n",
       "</table>\n",
       "    \n",
       "\n",
       "    \n",
       "\n",
       "\n",
       "    \n",
       "\n",
       "    \n",
       "\n",
       "    \n",
       "\n",
       "    \n",
       "\n",
       "    \n",
       "\n",
       "    \n",
       "\n",
       "\n",
       "\n"
      ],
      "text/plain": [
       "<IPython.core.display.HTML object>"
      ]
     },
     "execution_count": 54,
     "metadata": {},
     "output_type": "execute_result"
    }
   ],
   "source": [
    "from sklearn.ensemble import RandomForestRegressor\n",
    "import eli5\n",
    "from eli5.sklearn import PermutationImportance\n",
    "rf_regressor = RandomForestRegressor(n_estimators=100)\n",
    "rf_regressor.fit(X, y)\n",
    "perm_importance = PermutationImportance(rf_regressor).fit(X, y)\n",
    "eli5.show_weights(perm_importance)"
   ]
  },
  {
   "cell_type": "markdown",
   "id": "e3836d6a",
   "metadata": {},
   "source": [
    "### Propensity Score Treatment Effect"
   ]
  },
  {
   "cell_type": "code",
   "execution_count": 65,
   "id": "bb9376ee",
   "metadata": {},
   "outputs": [
    {
     "name": "stdout",
     "output_type": "stream",
     "text": [
      "Optimization terminated successfully.\n",
      "         Current function value: 0.689209\n",
      "         Iterations 4\n",
      "Average Treatment Effect (ATE): -0.14227335164835175\n"
     ]
    }
   ],
   "source": [
    "import numpy as np\n",
    "import pandas as pd\n",
    "import statsmodels.api as sm\n",
    "\n",
    "X = df3.drop(['bid2val','asynchronous','counterfactual'],axis=1)\n",
    "T  = df3['asynchronous']\n",
    "# Concatenate the treatment indicator and covariates\n",
    "data = pd.concat([T, X], axis=1)\n",
    "\n",
    "# Fit a logistic regression model to estimate propensity scores\n",
    "logit_model = sm.Logit(T, X)\n",
    "propensity_scores = logit_model.fit().predict(X)\n",
    "\n",
    "# Estimate the treatment effect using propensity scores\n",
    "treated_outcomes = y[T == 1]\n",
    "untreated_outcomes = y[T == 0]\n",
    "\n",
    "ATE = np.mean(treated_outcomes) - np.mean(untreated_outcomes)\n",
    "\n",
    "# Print the estimated treatment effect\n",
    "print(\"Average Treatment Effect (ATE):\", ATE)"
   ]
  },
  {
   "cell_type": "code",
   "execution_count": 67,
   "id": "08c03af5",
   "metadata": {},
   "outputs": [
    {
     "data": {
      "text/html": [
       "<table class=\"simpletable\">\n",
       "<caption>Coefficient Results</caption>\n",
       "<tr>\n",
       "       <td></td>       <th>point_estimate</th> <th>stderr</th>  <th>zstat</th> <th>pvalue</th> <th>ci_lower</th> <th>ci_upper</th>\n",
       "</tr>\n",
       "<tr>\n",
       "  <th>N</th>                <td>0.021</td>      <td>0.007</td>  <td>3.26</td>   <td>0.001</td>   <td>0.008</td>    <td>0.034</td> \n",
       "</tr>\n",
       "<tr>\n",
       "  <th>alpha</th>            <td>0.159</td>      <td>0.316</td>  <td>0.504</td>  <td>0.614</td>   <td>-0.46</td>    <td>0.778</td> \n",
       "</tr>\n",
       "<tr>\n",
       "  <th>gamma</th>            <td>0.032</td>      <td>0.029</td>  <td>1.101</td>  <td>0.271</td>  <td>-0.025</td>    <td>0.089</td> \n",
       "</tr>\n",
       "<tr>\n",
       "  <th>egreedy</th>          <td>-0.04</td>      <td>0.028</td> <td>-1.424</td>  <td>0.155</td>  <td>-0.096</td>    <td>0.015</td> \n",
       "</tr>\n",
       "<tr>\n",
       "  <th>design</th>           <td>-0.23</td>      <td>0.025</td> <td>-9.096</td>   <td>0.0</td>   <td>-0.279</td>    <td>-0.18</td> \n",
       "</tr>\n",
       "<tr>\n",
       "  <th>feedback</th>         <td>0.008</td>      <td>0.029</td>  <td>0.274</td>  <td>0.784</td>  <td>-0.049</td>    <td>0.065</td> \n",
       "</tr>\n",
       "<tr>\n",
       "  <th>num_actions</th>       <td>0.0</td>       <td>0.003</td>  <td>0.078</td>  <td>0.938</td>  <td>-0.006</td>    <td>0.006</td> \n",
       "</tr>\n",
       "</table>\n",
       "<table class=\"simpletable\">\n",
       "<caption>CATE Intercept Results</caption>\n",
       "<tr>\n",
       "         <td></td>        <th>point_estimate</th> <th>stderr</th>  <th>zstat</th> <th>pvalue</th> <th>ci_lower</th> <th>ci_upper</th>\n",
       "</tr>\n",
       "<tr>\n",
       "  <th>cate_intercept</th>     <td>-0.091</td>      <td>0.055</td> <td>-1.661</td>  <td>0.097</td>  <td>-0.199</td>    <td>0.016</td> \n",
       "</tr>\n",
       "</table><br/><br/><sub>A linear parametric conditional average treatment effect (CATE) model was fitted:<br/>$Y = \\Theta(X)\\cdot T + g(X, W) + \\epsilon$<br/>where for every outcome $i$ and treatment $j$ the CATE $\\Theta_{ij}(X)$ has the form:<br/>$\\Theta_{ij}(X) = X' coef_{ij} + cate\\_intercept_{ij}$<br/>Coefficient Results table portrays the $coef_{ij}$ parameter vector for each outcome $i$ and treatment $j$. Intercept Results table portrays the $cate\\_intercept_{ij}$ parameter.</sub>"
      ],
      "text/plain": [
       "<class 'econml.utilities.Summary'>\n",
       "\"\"\"\n",
       "                       Coefficient Results                       \n",
       "=================================================================\n",
       "            point_estimate stderr zstat  pvalue ci_lower ci_upper\n",
       "-----------------------------------------------------------------\n",
       "N                    0.021  0.007   3.26  0.001    0.008    0.034\n",
       "alpha                0.159  0.316  0.504  0.614    -0.46    0.778\n",
       "gamma                0.032  0.029  1.101  0.271   -0.025    0.089\n",
       "egreedy              -0.04  0.028 -1.424  0.155   -0.096    0.015\n",
       "design               -0.23  0.025 -9.096    0.0   -0.279    -0.18\n",
       "feedback             0.008  0.029  0.274  0.784   -0.049    0.065\n",
       "num_actions            0.0  0.003  0.078  0.938   -0.006    0.006\n",
       "                       CATE Intercept Results                       \n",
       "====================================================================\n",
       "               point_estimate stderr zstat  pvalue ci_lower ci_upper\n",
       "--------------------------------------------------------------------\n",
       "cate_intercept         -0.091  0.055 -1.661  0.097   -0.199    0.016\n",
       "--------------------------------------------------------------------\n",
       "\n",
       "<sub>A linear parametric conditional average treatment effect (CATE) model was fitted:\n",
       "$Y = \\Theta(X)\\cdot T + g(X, W) + \\epsilon$\n",
       "where for every outcome $i$ and treatment $j$ the CATE $\\Theta_{ij}(X)$ has the form:\n",
       "$\\Theta_{ij}(X) = X' coef_{ij} + cate\\_intercept_{ij}$\n",
       "Coefficient Results table portrays the $coef_{ij}$ parameter vector for each outcome $i$ and treatment $j$. Intercept Results table portrays the $cate\\_intercept_{ij}$ parameter.</sub>\n",
       "\"\"\""
      ]
     },
     "execution_count": 67,
     "metadata": {},
     "output_type": "execute_result"
    }
   ],
   "source": [
    "from econml.dml import LinearDML\n",
    "est = LinearDML()\n",
    "est.fit(y, T, X=X,W=X).summary()"
   ]
  },
  {
   "cell_type": "markdown",
   "id": "5e3d80cc",
   "metadata": {},
   "source": [
    "### Mean comparision"
   ]
  },
  {
   "cell_type": "code",
   "execution_count": 116,
   "id": "52a9642e",
   "metadata": {
    "scrolled": true
   },
   "outputs": [
    {
     "data": {
      "text/html": [
       "<div>\n",
       "<style scoped>\n",
       "    .dataframe tbody tr th:only-of-type {\n",
       "        vertical-align: middle;\n",
       "    }\n",
       "\n",
       "    .dataframe tbody tr th {\n",
       "        vertical-align: top;\n",
       "    }\n",
       "\n",
       "    .dataframe thead th {\n",
       "        text-align: right;\n",
       "    }\n",
       "</style>\n",
       "<table border=\"1\" class=\"dataframe\">\n",
       "  <thead>\n",
       "    <tr style=\"text-align: right;\">\n",
       "      <th></th>\n",
       "      <th>bid2val</th>\n",
       "      <th>episode</th>\n",
       "      <th>Y_std</th>\n",
       "      <th>alpha</th>\n",
       "      <th>gamma</th>\n",
       "      <th>egreedy</th>\n",
       "      <th>asynchronous</th>\n",
       "      <th>design</th>\n",
       "      <th>feedback</th>\n",
       "      <th>num_actions</th>\n",
       "    </tr>\n",
       "    <tr>\n",
       "      <th>N</th>\n",
       "      <th></th>\n",
       "      <th></th>\n",
       "      <th></th>\n",
       "      <th></th>\n",
       "      <th></th>\n",
       "      <th></th>\n",
       "      <th></th>\n",
       "      <th></th>\n",
       "      <th></th>\n",
       "      <th></th>\n",
       "    </tr>\n",
       "  </thead>\n",
       "  <tbody>\n",
       "    <tr>\n",
       "      <th>2</th>\n",
       "      <td>0.933333</td>\n",
       "      <td>447000.0</td>\n",
       "      <td>0.081396</td>\n",
       "      <td>0.039000</td>\n",
       "      <td>0.310</td>\n",
       "      <td>0.500000</td>\n",
       "      <td>0.25</td>\n",
       "      <td>0.5625</td>\n",
       "      <td>0.25</td>\n",
       "      <td>12.250000</td>\n",
       "    </tr>\n",
       "    <tr>\n",
       "      <th>3</th>\n",
       "      <td>0.933333</td>\n",
       "      <td>273000.0</td>\n",
       "      <td>0.009606</td>\n",
       "      <td>0.001000</td>\n",
       "      <td>0.750</td>\n",
       "      <td>0.000000</td>\n",
       "      <td>0.00</td>\n",
       "      <td>1.0000</td>\n",
       "      <td>0.00</td>\n",
       "      <td>16.000000</td>\n",
       "    </tr>\n",
       "    <tr>\n",
       "      <th>5</th>\n",
       "      <td>0.866667</td>\n",
       "      <td>413000.0</td>\n",
       "      <td>0.041214</td>\n",
       "      <td>0.030000</td>\n",
       "      <td>0.500</td>\n",
       "      <td>0.000000</td>\n",
       "      <td>0.50</td>\n",
       "      <td>0.7500</td>\n",
       "      <td>0.00</td>\n",
       "      <td>11.000000</td>\n",
       "    </tr>\n",
       "    <tr>\n",
       "      <th>6</th>\n",
       "      <td>0.900000</td>\n",
       "      <td>861499.5</td>\n",
       "      <td>0.113741</td>\n",
       "      <td>0.052500</td>\n",
       "      <td>0.945</td>\n",
       "      <td>1.000000</td>\n",
       "      <td>1.00</td>\n",
       "      <td>0.8750</td>\n",
       "      <td>0.50</td>\n",
       "      <td>8.500000</td>\n",
       "    </tr>\n",
       "    <tr>\n",
       "      <th>7</th>\n",
       "      <td>0.894444</td>\n",
       "      <td>488000.0</td>\n",
       "      <td>0.029494</td>\n",
       "      <td>0.006667</td>\n",
       "      <td>0.250</td>\n",
       "      <td>0.666667</td>\n",
       "      <td>0.00</td>\n",
       "      <td>0.5000</td>\n",
       "      <td>1.00</td>\n",
       "      <td>14.333333</td>\n",
       "    </tr>\n",
       "    <tr>\n",
       "      <th>8</th>\n",
       "      <td>0.900000</td>\n",
       "      <td>452500.0</td>\n",
       "      <td>0.070897</td>\n",
       "      <td>0.027500</td>\n",
       "      <td>0.990</td>\n",
       "      <td>0.500000</td>\n",
       "      <td>0.50</td>\n",
       "      <td>0.3750</td>\n",
       "      <td>0.00</td>\n",
       "      <td>8.500000</td>\n",
       "    </tr>\n",
       "  </tbody>\n",
       "</table>\n",
       "</div>"
      ],
      "text/plain": [
       "    bid2val   episode     Y_std     alpha  gamma   egreedy  asynchronous  \\\n",
       "N                                                                          \n",
       "2  0.933333  447000.0  0.081396  0.039000  0.310  0.500000          0.25   \n",
       "3  0.933333  273000.0  0.009606  0.001000  0.750  0.000000          0.00   \n",
       "5  0.866667  413000.0  0.041214  0.030000  0.500  0.000000          0.50   \n",
       "6  0.900000  861499.5  0.113741  0.052500  0.945  1.000000          1.00   \n",
       "7  0.894444  488000.0  0.029494  0.006667  0.250  0.666667          0.00   \n",
       "8  0.900000  452500.0  0.070897  0.027500  0.990  0.500000          0.50   \n",
       "\n",
       "   design  feedback  num_actions  \n",
       "N                                 \n",
       "2  0.5625      0.25    12.250000  \n",
       "3  1.0000      0.00    16.000000  \n",
       "5  0.7500      0.00    11.000000  \n",
       "6  0.8750      0.50     8.500000  \n",
       "7  0.5000      1.00    14.333333  \n",
       "8  0.3750      0.00     8.500000  "
      ]
     },
     "execution_count": 116,
     "metadata": {},
     "output_type": "execute_result"
    }
   ],
   "source": [
    "df3.groupby('N').mean()"
   ]
  },
  {
   "cell_type": "code",
   "execution_count": 117,
   "id": "a488d6fb",
   "metadata": {},
   "outputs": [
    {
     "data": {
      "text/html": [
       "<div>\n",
       "<style scoped>\n",
       "    .dataframe tbody tr th:only-of-type {\n",
       "        vertical-align: middle;\n",
       "    }\n",
       "\n",
       "    .dataframe tbody tr th {\n",
       "        vertical-align: top;\n",
       "    }\n",
       "\n",
       "    .dataframe thead th {\n",
       "        text-align: right;\n",
       "    }\n",
       "</style>\n",
       "<table border=\"1\" class=\"dataframe\">\n",
       "  <thead>\n",
       "    <tr style=\"text-align: right;\">\n",
       "      <th></th>\n",
       "      <th>bid2val</th>\n",
       "      <th>episode</th>\n",
       "      <th>Y_std</th>\n",
       "      <th>N</th>\n",
       "      <th>gamma</th>\n",
       "      <th>egreedy</th>\n",
       "      <th>asynchronous</th>\n",
       "      <th>design</th>\n",
       "      <th>feedback</th>\n",
       "      <th>num_actions</th>\n",
       "    </tr>\n",
       "    <tr>\n",
       "      <th>alpha</th>\n",
       "      <th></th>\n",
       "      <th></th>\n",
       "      <th></th>\n",
       "      <th></th>\n",
       "      <th></th>\n",
       "      <th></th>\n",
       "      <th></th>\n",
       "      <th></th>\n",
       "      <th></th>\n",
       "      <th></th>\n",
       "    </tr>\n",
       "  </thead>\n",
       "  <tbody>\n",
       "    <tr>\n",
       "      <th>0.001</th>\n",
       "      <td>0.966667</td>\n",
       "      <td>405000.000000</td>\n",
       "      <td>0.083863</td>\n",
       "      <td>2.5</td>\n",
       "      <td>0.375000</td>\n",
       "      <td>0.000000</td>\n",
       "      <td>0.500000</td>\n",
       "      <td>0.875000</td>\n",
       "      <td>0.0</td>\n",
       "      <td>18.500000</td>\n",
       "    </tr>\n",
       "    <tr>\n",
       "      <th>0.005</th>\n",
       "      <td>0.846667</td>\n",
       "      <td>608599.800000</td>\n",
       "      <td>0.060190</td>\n",
       "      <td>6.0</td>\n",
       "      <td>0.546000</td>\n",
       "      <td>0.800000</td>\n",
       "      <td>0.200000</td>\n",
       "      <td>0.700000</td>\n",
       "      <td>0.6</td>\n",
       "      <td>8.000000</td>\n",
       "    </tr>\n",
       "    <tr>\n",
       "      <th>0.010</th>\n",
       "      <td>0.875000</td>\n",
       "      <td>401500.000000</td>\n",
       "      <td>0.039739</td>\n",
       "      <td>6.0</td>\n",
       "      <td>0.375000</td>\n",
       "      <td>0.000000</td>\n",
       "      <td>0.500000</td>\n",
       "      <td>0.500000</td>\n",
       "      <td>0.5</td>\n",
       "      <td>13.500000</td>\n",
       "    </tr>\n",
       "    <tr>\n",
       "      <th>0.050</th>\n",
       "      <td>0.955556</td>\n",
       "      <td>368333.333333</td>\n",
       "      <td>0.040408</td>\n",
       "      <td>5.0</td>\n",
       "      <td>0.743333</td>\n",
       "      <td>0.333333</td>\n",
       "      <td>0.333333</td>\n",
       "      <td>0.416667</td>\n",
       "      <td>0.0</td>\n",
       "      <td>14.333333</td>\n",
       "    </tr>\n",
       "    <tr>\n",
       "      <th>0.100</th>\n",
       "      <td>0.950000</td>\n",
       "      <td>609000.000000</td>\n",
       "      <td>0.102998</td>\n",
       "      <td>4.0</td>\n",
       "      <td>0.575000</td>\n",
       "      <td>1.000000</td>\n",
       "      <td>0.500000</td>\n",
       "      <td>0.625000</td>\n",
       "      <td>0.5</td>\n",
       "      <td>8.500000</td>\n",
       "    </tr>\n",
       "  </tbody>\n",
       "</table>\n",
       "</div>"
      ],
      "text/plain": [
       "        bid2val        episode     Y_std    N     gamma   egreedy  \\\n",
       "alpha                                                               \n",
       "0.001  0.966667  405000.000000  0.083863  2.5  0.375000  0.000000   \n",
       "0.005  0.846667  608599.800000  0.060190  6.0  0.546000  0.800000   \n",
       "0.010  0.875000  401500.000000  0.039739  6.0  0.375000  0.000000   \n",
       "0.050  0.955556  368333.333333  0.040408  5.0  0.743333  0.333333   \n",
       "0.100  0.950000  609000.000000  0.102998  4.0  0.575000  1.000000   \n",
       "\n",
       "       asynchronous    design  feedback  num_actions  \n",
       "alpha                                                 \n",
       "0.001      0.500000  0.875000       0.0    18.500000  \n",
       "0.005      0.200000  0.700000       0.6     8.000000  \n",
       "0.010      0.500000  0.500000       0.5    13.500000  \n",
       "0.050      0.333333  0.416667       0.0    14.333333  \n",
       "0.100      0.500000  0.625000       0.5     8.500000  "
      ]
     },
     "execution_count": 117,
     "metadata": {},
     "output_type": "execute_result"
    }
   ],
   "source": [
    "df3.groupby('alpha').mean()"
   ]
  },
  {
   "cell_type": "code",
   "execution_count": 118,
   "id": "b0a21186",
   "metadata": {
    "scrolled": false
   },
   "outputs": [
    {
     "data": {
      "text/html": [
       "<div>\n",
       "<style scoped>\n",
       "    .dataframe tbody tr th:only-of-type {\n",
       "        vertical-align: middle;\n",
       "    }\n",
       "\n",
       "    .dataframe tbody tr th {\n",
       "        vertical-align: top;\n",
       "    }\n",
       "\n",
       "    .dataframe thead th {\n",
       "        text-align: right;\n",
       "    }\n",
       "</style>\n",
       "<table border=\"1\" class=\"dataframe\">\n",
       "  <thead>\n",
       "    <tr style=\"text-align: right;\">\n",
       "      <th></th>\n",
       "      <th>bid2val</th>\n",
       "      <th>episode</th>\n",
       "      <th>Y_std</th>\n",
       "      <th>N</th>\n",
       "      <th>alpha</th>\n",
       "      <th>egreedy</th>\n",
       "      <th>asynchronous</th>\n",
       "      <th>design</th>\n",
       "      <th>feedback</th>\n",
       "      <th>num_actions</th>\n",
       "    </tr>\n",
       "    <tr>\n",
       "      <th>gamma</th>\n",
       "      <th></th>\n",
       "      <th></th>\n",
       "      <th></th>\n",
       "      <th></th>\n",
       "      <th></th>\n",
       "      <th></th>\n",
       "      <th></th>\n",
       "      <th></th>\n",
       "      <th></th>\n",
       "      <th></th>\n",
       "    </tr>\n",
       "  </thead>\n",
       "  <tbody>\n",
       "    <tr>\n",
       "      <th>0.00</th>\n",
       "      <td>0.916667</td>\n",
       "      <td>416333.333333</td>\n",
       "      <td>0.075153</td>\n",
       "      <td>3.666667</td>\n",
       "      <td>0.005333</td>\n",
       "      <td>0.333333</td>\n",
       "      <td>0.333333</td>\n",
       "      <td>0.500000</td>\n",
       "      <td>0.333333</td>\n",
       "      <td>16.000000</td>\n",
       "    </tr>\n",
       "    <tr>\n",
       "      <th>0.25</th>\n",
       "      <td>0.911111</td>\n",
       "      <td>419000.000000</td>\n",
       "      <td>0.056846</td>\n",
       "      <td>4.666667</td>\n",
       "      <td>0.051667</td>\n",
       "      <td>0.666667</td>\n",
       "      <td>0.000000</td>\n",
       "      <td>0.583333</td>\n",
       "      <td>0.666667</td>\n",
       "      <td>9.333333</td>\n",
       "    </tr>\n",
       "    <tr>\n",
       "      <th>0.50</th>\n",
       "      <td>0.933333</td>\n",
       "      <td>725000.000000</td>\n",
       "      <td>0.018275</td>\n",
       "      <td>7.000000</td>\n",
       "      <td>0.005000</td>\n",
       "      <td>1.000000</td>\n",
       "      <td>0.000000</td>\n",
       "      <td>0.750000</td>\n",
       "      <td>1.000000</td>\n",
       "      <td>16.000000</td>\n",
       "    </tr>\n",
       "    <tr>\n",
       "      <th>0.75</th>\n",
       "      <td>0.866667</td>\n",
       "      <td>401500.000000</td>\n",
       "      <td>0.041350</td>\n",
       "      <td>4.000000</td>\n",
       "      <td>0.005500</td>\n",
       "      <td>0.000000</td>\n",
       "      <td>0.500000</td>\n",
       "      <td>0.875000</td>\n",
       "      <td>0.000000</td>\n",
       "      <td>11.000000</td>\n",
       "    </tr>\n",
       "    <tr>\n",
       "      <th>0.90</th>\n",
       "      <td>0.900000</td>\n",
       "      <td>723000.000000</td>\n",
       "      <td>0.108616</td>\n",
       "      <td>6.000000</td>\n",
       "      <td>0.100000</td>\n",
       "      <td>1.000000</td>\n",
       "      <td>1.000000</td>\n",
       "      <td>0.750000</td>\n",
       "      <td>0.000000</td>\n",
       "      <td>11.000000</td>\n",
       "    </tr>\n",
       "    <tr>\n",
       "      <th>0.99</th>\n",
       "      <td>0.908333</td>\n",
       "      <td>555499.750000</td>\n",
       "      <td>0.067447</td>\n",
       "      <td>6.000000</td>\n",
       "      <td>0.027500</td>\n",
       "      <td>0.500000</td>\n",
       "      <td>0.500000</td>\n",
       "      <td>0.562500</td>\n",
       "      <td>0.250000</td>\n",
       "      <td>9.750000</td>\n",
       "    </tr>\n",
       "  </tbody>\n",
       "</table>\n",
       "</div>"
      ],
      "text/plain": [
       "        bid2val        episode     Y_std         N     alpha   egreedy  \\\n",
       "gamma                                                                    \n",
       "0.00   0.916667  416333.333333  0.075153  3.666667  0.005333  0.333333   \n",
       "0.25   0.911111  419000.000000  0.056846  4.666667  0.051667  0.666667   \n",
       "0.50   0.933333  725000.000000  0.018275  7.000000  0.005000  1.000000   \n",
       "0.75   0.866667  401500.000000  0.041350  4.000000  0.005500  0.000000   \n",
       "0.90   0.900000  723000.000000  0.108616  6.000000  0.100000  1.000000   \n",
       "0.99   0.908333  555499.750000  0.067447  6.000000  0.027500  0.500000   \n",
       "\n",
       "       asynchronous    design  feedback  num_actions  \n",
       "gamma                                                 \n",
       "0.00       0.333333  0.500000  0.333333    16.000000  \n",
       "0.25       0.000000  0.583333  0.666667     9.333333  \n",
       "0.50       0.000000  0.750000  1.000000    16.000000  \n",
       "0.75       0.500000  0.875000  0.000000    11.000000  \n",
       "0.90       1.000000  0.750000  0.000000    11.000000  \n",
       "0.99       0.500000  0.562500  0.250000     9.750000  "
      ]
     },
     "execution_count": 118,
     "metadata": {},
     "output_type": "execute_result"
    }
   ],
   "source": [
    "df3.groupby('gamma').mean()"
   ]
  },
  {
   "cell_type": "code",
   "execution_count": 119,
   "id": "e1fe7e64",
   "metadata": {},
   "outputs": [
    {
     "data": {
      "text/html": [
       "<div>\n",
       "<style scoped>\n",
       "    .dataframe tbody tr th:only-of-type {\n",
       "        vertical-align: middle;\n",
       "    }\n",
       "\n",
       "    .dataframe tbody tr th {\n",
       "        vertical-align: top;\n",
       "    }\n",
       "\n",
       "    .dataframe thead th {\n",
       "        text-align: right;\n",
       "    }\n",
       "</style>\n",
       "<table border=\"1\" class=\"dataframe\">\n",
       "  <thead>\n",
       "    <tr style=\"text-align: right;\">\n",
       "      <th></th>\n",
       "      <th>bid2val</th>\n",
       "      <th>episode</th>\n",
       "      <th>Y_std</th>\n",
       "      <th>N</th>\n",
       "      <th>alpha</th>\n",
       "      <th>gamma</th>\n",
       "      <th>asynchronous</th>\n",
       "      <th>design</th>\n",
       "      <th>feedback</th>\n",
       "      <th>num_actions</th>\n",
       "    </tr>\n",
       "    <tr>\n",
       "      <th>egreedy</th>\n",
       "      <th></th>\n",
       "      <th></th>\n",
       "      <th></th>\n",
       "      <th></th>\n",
       "      <th></th>\n",
       "      <th></th>\n",
       "      <th></th>\n",
       "      <th></th>\n",
       "      <th></th>\n",
       "      <th></th>\n",
       "    </tr>\n",
       "  </thead>\n",
       "  <tbody>\n",
       "    <tr>\n",
       "      <th>0</th>\n",
       "      <td>0.907143</td>\n",
       "      <td>377000.000000</td>\n",
       "      <td>0.043529</td>\n",
       "      <td>4.571429</td>\n",
       "      <td>0.018143</td>\n",
       "      <td>0.532857</td>\n",
       "      <td>0.285714</td>\n",
       "      <td>0.678571</td>\n",
       "      <td>0.142857</td>\n",
       "      <td>14.571429</td>\n",
       "    </tr>\n",
       "    <tr>\n",
       "      <th>1</th>\n",
       "      <td>0.904762</td>\n",
       "      <td>619999.857143</td>\n",
       "      <td>0.081525</td>\n",
       "      <td>5.428571</td>\n",
       "      <td>0.038571</td>\n",
       "      <td>0.554286</td>\n",
       "      <td>0.428571</td>\n",
       "      <td>0.571429</td>\n",
       "      <td>0.571429</td>\n",
       "      <td>8.857143</td>\n",
       "    </tr>\n",
       "  </tbody>\n",
       "</table>\n",
       "</div>"
      ],
      "text/plain": [
       "          bid2val        episode     Y_std         N     alpha     gamma  \\\n",
       "egreedy                                                                    \n",
       "0        0.907143  377000.000000  0.043529  4.571429  0.018143  0.532857   \n",
       "1        0.904762  619999.857143  0.081525  5.428571  0.038571  0.554286   \n",
       "\n",
       "         asynchronous    design  feedback  num_actions  \n",
       "egreedy                                                 \n",
       "0            0.285714  0.678571  0.142857    14.571429  \n",
       "1            0.428571  0.571429  0.571429     8.857143  "
      ]
     },
     "execution_count": 119,
     "metadata": {},
     "output_type": "execute_result"
    }
   ],
   "source": [
    "df3.groupby('egreedy').mean()"
   ]
  },
  {
   "cell_type": "code",
   "execution_count": 120,
   "id": "9fec586e",
   "metadata": {},
   "outputs": [
    {
     "data": {
      "text/html": [
       "<div>\n",
       "<style scoped>\n",
       "    .dataframe tbody tr th:only-of-type {\n",
       "        vertical-align: middle;\n",
       "    }\n",
       "\n",
       "    .dataframe tbody tr th {\n",
       "        vertical-align: top;\n",
       "    }\n",
       "\n",
       "    .dataframe thead th {\n",
       "        text-align: right;\n",
       "    }\n",
       "</style>\n",
       "<table border=\"1\" class=\"dataframe\">\n",
       "  <thead>\n",
       "    <tr style=\"text-align: right;\">\n",
       "      <th></th>\n",
       "      <th>bid2val</th>\n",
       "      <th>episode</th>\n",
       "      <th>Y_std</th>\n",
       "      <th>N</th>\n",
       "      <th>alpha</th>\n",
       "      <th>gamma</th>\n",
       "      <th>egreedy</th>\n",
       "      <th>asynchronous</th>\n",
       "      <th>feedback</th>\n",
       "      <th>num_actions</th>\n",
       "    </tr>\n",
       "    <tr>\n",
       "      <th>design</th>\n",
       "      <th></th>\n",
       "      <th></th>\n",
       "      <th></th>\n",
       "      <th></th>\n",
       "      <th></th>\n",
       "      <th></th>\n",
       "      <th></th>\n",
       "      <th></th>\n",
       "      <th></th>\n",
       "      <th></th>\n",
       "    </tr>\n",
       "  </thead>\n",
       "  <tbody>\n",
       "    <tr>\n",
       "      <th>0.00</th>\n",
       "      <td>1.000000</td>\n",
       "      <td>492000.000000</td>\n",
       "      <td>0.102760</td>\n",
       "      <td>8.00</td>\n",
       "      <td>0.0500</td>\n",
       "      <td>0.9900</td>\n",
       "      <td>1.000000</td>\n",
       "      <td>1.0</td>\n",
       "      <td>0.000000</td>\n",
       "      <td>11.000000</td>\n",
       "    </tr>\n",
       "    <tr>\n",
       "      <th>0.25</th>\n",
       "      <td>0.950000</td>\n",
       "      <td>273000.000000</td>\n",
       "      <td>0.006386</td>\n",
       "      <td>7.00</td>\n",
       "      <td>0.0100</td>\n",
       "      <td>0.0000</td>\n",
       "      <td>0.000000</td>\n",
       "      <td>0.0</td>\n",
       "      <td>1.000000</td>\n",
       "      <td>21.000000</td>\n",
       "    </tr>\n",
       "    <tr>\n",
       "      <th>0.50</th>\n",
       "      <td>0.883333</td>\n",
       "      <td>429250.000000</td>\n",
       "      <td>0.057821</td>\n",
       "      <td>3.25</td>\n",
       "      <td>0.0400</td>\n",
       "      <td>0.3725</td>\n",
       "      <td>0.750000</td>\n",
       "      <td>0.0</td>\n",
       "      <td>0.500000</td>\n",
       "      <td>8.500000</td>\n",
       "    </tr>\n",
       "    <tr>\n",
       "      <th>0.75</th>\n",
       "      <td>0.894444</td>\n",
       "      <td>537333.333333</td>\n",
       "      <td>0.067745</td>\n",
       "      <td>5.50</td>\n",
       "      <td>0.0285</td>\n",
       "      <td>0.5650</td>\n",
       "      <td>0.333333</td>\n",
       "      <td>0.5</td>\n",
       "      <td>0.166667</td>\n",
       "      <td>12.666667</td>\n",
       "    </tr>\n",
       "    <tr>\n",
       "      <th>1.00</th>\n",
       "      <td>0.916667</td>\n",
       "      <td>636499.500000</td>\n",
       "      <td>0.064236</td>\n",
       "      <td>4.50</td>\n",
       "      <td>0.0030</td>\n",
       "      <td>0.8700</td>\n",
       "      <td>0.500000</td>\n",
       "      <td>0.5</td>\n",
       "      <td>0.500000</td>\n",
       "      <td>11.000000</td>\n",
       "    </tr>\n",
       "  </tbody>\n",
       "</table>\n",
       "</div>"
      ],
      "text/plain": [
       "         bid2val        episode     Y_std     N   alpha   gamma   egreedy  \\\n",
       "design                                                                      \n",
       "0.00    1.000000  492000.000000  0.102760  8.00  0.0500  0.9900  1.000000   \n",
       "0.25    0.950000  273000.000000  0.006386  7.00  0.0100  0.0000  0.000000   \n",
       "0.50    0.883333  429250.000000  0.057821  3.25  0.0400  0.3725  0.750000   \n",
       "0.75    0.894444  537333.333333  0.067745  5.50  0.0285  0.5650  0.333333   \n",
       "1.00    0.916667  636499.500000  0.064236  4.50  0.0030  0.8700  0.500000   \n",
       "\n",
       "        asynchronous  feedback  num_actions  \n",
       "design                                       \n",
       "0.00             1.0  0.000000    11.000000  \n",
       "0.25             0.0  1.000000    21.000000  \n",
       "0.50             0.0  0.500000     8.500000  \n",
       "0.75             0.5  0.166667    12.666667  \n",
       "1.00             0.5  0.500000    11.000000  "
      ]
     },
     "execution_count": 120,
     "metadata": {},
     "output_type": "execute_result"
    }
   ],
   "source": [
    "df3.groupby('design').mean()"
   ]
  },
  {
   "cell_type": "code",
   "execution_count": 121,
   "id": "40188dad",
   "metadata": {},
   "outputs": [
    {
     "data": {
      "text/html": [
       "<div>\n",
       "<style scoped>\n",
       "    .dataframe tbody tr th:only-of-type {\n",
       "        vertical-align: middle;\n",
       "    }\n",
       "\n",
       "    .dataframe tbody tr th {\n",
       "        vertical-align: top;\n",
       "    }\n",
       "\n",
       "    .dataframe thead th {\n",
       "        text-align: right;\n",
       "    }\n",
       "</style>\n",
       "<table border=\"1\" class=\"dataframe\">\n",
       "  <thead>\n",
       "    <tr style=\"text-align: right;\">\n",
       "      <th></th>\n",
       "      <th>bid2val</th>\n",
       "      <th>episode</th>\n",
       "      <th>Y_std</th>\n",
       "      <th>N</th>\n",
       "      <th>alpha</th>\n",
       "      <th>gamma</th>\n",
       "      <th>egreedy</th>\n",
       "      <th>design</th>\n",
       "      <th>feedback</th>\n",
       "      <th>num_actions</th>\n",
       "    </tr>\n",
       "    <tr>\n",
       "      <th>asynchronous</th>\n",
       "      <th></th>\n",
       "      <th></th>\n",
       "      <th></th>\n",
       "      <th></th>\n",
       "      <th></th>\n",
       "      <th></th>\n",
       "      <th></th>\n",
       "      <th></th>\n",
       "      <th></th>\n",
       "      <th></th>\n",
       "    </tr>\n",
       "  </thead>\n",
       "  <tbody>\n",
       "    <tr>\n",
       "      <th>0</th>\n",
       "      <td>0.898148</td>\n",
       "      <td>410777.777778</td>\n",
       "      <td>0.034880</td>\n",
       "      <td>4.777778</td>\n",
       "      <td>0.025667</td>\n",
       "      <td>0.442222</td>\n",
       "      <td>0.444444</td>\n",
       "      <td>0.611111</td>\n",
       "      <td>0.444444</td>\n",
       "      <td>12.111111</td>\n",
       "    </tr>\n",
       "    <tr>\n",
       "      <th>1</th>\n",
       "      <td>0.920000</td>\n",
       "      <td>656399.800000</td>\n",
       "      <td>0.112291</td>\n",
       "      <td>5.400000</td>\n",
       "      <td>0.033200</td>\n",
       "      <td>0.726000</td>\n",
       "      <td>0.600000</td>\n",
       "      <td>0.650000</td>\n",
       "      <td>0.200000</td>\n",
       "      <td>11.000000</td>\n",
       "    </tr>\n",
       "  </tbody>\n",
       "</table>\n",
       "</div>"
      ],
      "text/plain": [
       "               bid2val        episode     Y_std         N     alpha     gamma  \\\n",
       "asynchronous                                                                    \n",
       "0             0.898148  410777.777778  0.034880  4.777778  0.025667  0.442222   \n",
       "1             0.920000  656399.800000  0.112291  5.400000  0.033200  0.726000   \n",
       "\n",
       "               egreedy    design  feedback  num_actions  \n",
       "asynchronous                                             \n",
       "0             0.444444  0.611111  0.444444    12.111111  \n",
       "1             0.600000  0.650000  0.200000    11.000000  "
      ]
     },
     "execution_count": 121,
     "metadata": {},
     "output_type": "execute_result"
    }
   ],
   "source": [
    "df3.groupby('asynchronous').mean()"
   ]
  },
  {
   "cell_type": "code",
   "execution_count": 122,
   "id": "f1685a05",
   "metadata": {},
   "outputs": [
    {
     "data": {
      "text/html": [
       "<div>\n",
       "<style scoped>\n",
       "    .dataframe tbody tr th:only-of-type {\n",
       "        vertical-align: middle;\n",
       "    }\n",
       "\n",
       "    .dataframe tbody tr th {\n",
       "        vertical-align: top;\n",
       "    }\n",
       "\n",
       "    .dataframe thead th {\n",
       "        text-align: right;\n",
       "    }\n",
       "</style>\n",
       "<table border=\"1\" class=\"dataframe\">\n",
       "  <thead>\n",
       "    <tr style=\"text-align: right;\">\n",
       "      <th></th>\n",
       "      <th>bid2val</th>\n",
       "      <th>episode</th>\n",
       "      <th>Y_std</th>\n",
       "      <th>N</th>\n",
       "      <th>alpha</th>\n",
       "      <th>gamma</th>\n",
       "      <th>egreedy</th>\n",
       "      <th>asynchronous</th>\n",
       "      <th>design</th>\n",
       "      <th>num_actions</th>\n",
       "    </tr>\n",
       "    <tr>\n",
       "      <th>feedback</th>\n",
       "      <th></th>\n",
       "      <th></th>\n",
       "      <th></th>\n",
       "      <th></th>\n",
       "      <th></th>\n",
       "      <th></th>\n",
       "      <th></th>\n",
       "      <th></th>\n",
       "      <th></th>\n",
       "      <th></th>\n",
       "    </tr>\n",
       "  </thead>\n",
       "  <tbody>\n",
       "    <tr>\n",
       "      <th>0</th>\n",
       "      <td>0.900000</td>\n",
       "      <td>446666.666667</td>\n",
       "      <td>0.063405</td>\n",
       "      <td>4.555556</td>\n",
       "      <td>0.030222</td>\n",
       "      <td>0.624444</td>\n",
       "      <td>0.333333</td>\n",
       "      <td>0.444444</td>\n",
       "      <td>0.638889</td>\n",
       "      <td>12.111111</td>\n",
       "    </tr>\n",
       "    <tr>\n",
       "      <th>1</th>\n",
       "      <td>0.916667</td>\n",
       "      <td>591799.800000</td>\n",
       "      <td>0.060946</td>\n",
       "      <td>5.800000</td>\n",
       "      <td>0.025000</td>\n",
       "      <td>0.398000</td>\n",
       "      <td>0.800000</td>\n",
       "      <td>0.200000</td>\n",
       "      <td>0.600000</td>\n",
       "      <td>11.000000</td>\n",
       "    </tr>\n",
       "  </tbody>\n",
       "</table>\n",
       "</div>"
      ],
      "text/plain": [
       "           bid2val        episode     Y_std         N     alpha     gamma  \\\n",
       "feedback                                                                    \n",
       "0         0.900000  446666.666667  0.063405  4.555556  0.030222  0.624444   \n",
       "1         0.916667  591799.800000  0.060946  5.800000  0.025000  0.398000   \n",
       "\n",
       "           egreedy  asynchronous    design  num_actions  \n",
       "feedback                                                 \n",
       "0         0.333333      0.444444  0.638889    12.111111  \n",
       "1         0.800000      0.200000  0.600000    11.000000  "
      ]
     },
     "execution_count": 122,
     "metadata": {},
     "output_type": "execute_result"
    }
   ],
   "source": [
    "df3.groupby('feedback').mean()"
   ]
  },
  {
   "cell_type": "code",
   "execution_count": 123,
   "id": "42e2fa74",
   "metadata": {
    "scrolled": true
   },
   "outputs": [
    {
     "data": {
      "text/html": [
       "<div>\n",
       "<style scoped>\n",
       "    .dataframe tbody tr th:only-of-type {\n",
       "        vertical-align: middle;\n",
       "    }\n",
       "\n",
       "    .dataframe tbody tr th {\n",
       "        vertical-align: top;\n",
       "    }\n",
       "\n",
       "    .dataframe thead th {\n",
       "        text-align: right;\n",
       "    }\n",
       "</style>\n",
       "<table border=\"1\" class=\"dataframe\">\n",
       "  <thead>\n",
       "    <tr style=\"text-align: right;\">\n",
       "      <th></th>\n",
       "      <th>bid2val</th>\n",
       "      <th>episode</th>\n",
       "      <th>Y_std</th>\n",
       "      <th>N</th>\n",
       "      <th>alpha</th>\n",
       "      <th>gamma</th>\n",
       "      <th>egreedy</th>\n",
       "      <th>asynchronous</th>\n",
       "      <th>design</th>\n",
       "      <th>feedback</th>\n",
       "    </tr>\n",
       "    <tr>\n",
       "      <th>num_actions</th>\n",
       "      <th></th>\n",
       "      <th></th>\n",
       "      <th></th>\n",
       "      <th></th>\n",
       "      <th></th>\n",
       "      <th></th>\n",
       "      <th></th>\n",
       "      <th></th>\n",
       "      <th></th>\n",
       "      <th></th>\n",
       "    </tr>\n",
       "  </thead>\n",
       "  <tbody>\n",
       "    <tr>\n",
       "      <th>6</th>\n",
       "      <td>0.850000</td>\n",
       "      <td>557166.5</td>\n",
       "      <td>0.075525</td>\n",
       "      <td>5.00</td>\n",
       "      <td>0.021667</td>\n",
       "      <td>0.538333</td>\n",
       "      <td>0.666667</td>\n",
       "      <td>0.333333</td>\n",
       "      <td>0.666667</td>\n",
       "      <td>0.50</td>\n",
       "    </tr>\n",
       "    <tr>\n",
       "      <th>11</th>\n",
       "      <td>0.950000</td>\n",
       "      <td>607500.0</td>\n",
       "      <td>0.105688</td>\n",
       "      <td>7.00</td>\n",
       "      <td>0.075000</td>\n",
       "      <td>0.945000</td>\n",
       "      <td>1.000000</td>\n",
       "      <td>1.000000</td>\n",
       "      <td>0.375000</td>\n",
       "      <td>0.00</td>\n",
       "    </tr>\n",
       "    <tr>\n",
       "      <th>16</th>\n",
       "      <td>0.933333</td>\n",
       "      <td>402750.0</td>\n",
       "      <td>0.011586</td>\n",
       "      <td>4.25</td>\n",
       "      <td>0.026500</td>\n",
       "      <td>0.622500</td>\n",
       "      <td>0.250000</td>\n",
       "      <td>0.000000</td>\n",
       "      <td>0.750000</td>\n",
       "      <td>0.25</td>\n",
       "    </tr>\n",
       "    <tr>\n",
       "      <th>21</th>\n",
       "      <td>0.975000</td>\n",
       "      <td>405000.0</td>\n",
       "      <td>0.082253</td>\n",
       "      <td>4.50</td>\n",
       "      <td>0.005500</td>\n",
       "      <td>0.000000</td>\n",
       "      <td>0.000000</td>\n",
       "      <td>0.500000</td>\n",
       "      <td>0.500000</td>\n",
       "      <td>0.50</td>\n",
       "    </tr>\n",
       "  </tbody>\n",
       "</table>\n",
       "</div>"
      ],
      "text/plain": [
       "              bid2val   episode     Y_std     N     alpha     gamma   egreedy  \\\n",
       "num_actions                                                                     \n",
       "6            0.850000  557166.5  0.075525  5.00  0.021667  0.538333  0.666667   \n",
       "11           0.950000  607500.0  0.105688  7.00  0.075000  0.945000  1.000000   \n",
       "16           0.933333  402750.0  0.011586  4.25  0.026500  0.622500  0.250000   \n",
       "21           0.975000  405000.0  0.082253  4.50  0.005500  0.000000  0.000000   \n",
       "\n",
       "             asynchronous    design  feedback  \n",
       "num_actions                                    \n",
       "6                0.333333  0.666667      0.50  \n",
       "11               1.000000  0.375000      0.00  \n",
       "16               0.000000  0.750000      0.25  \n",
       "21               0.500000  0.500000      0.50  "
      ]
     },
     "execution_count": 123,
     "metadata": {},
     "output_type": "execute_result"
    }
   ],
   "source": [
    "df3.groupby('num_actions').mean()"
   ]
  },
  {
   "cell_type": "markdown",
   "id": "a50a406c",
   "metadata": {},
   "source": [
    "### t-tests"
   ]
  },
  {
   "cell_type": "code",
   "execution_count": 80,
   "id": "9b9a64d7",
   "metadata": {},
   "outputs": [],
   "source": [
    "import pandas as pd\n",
    "import researchpy as rp\n",
    "import scipy.stats as stats"
   ]
  },
  {
   "cell_type": "code",
   "execution_count": 81,
   "id": "5cbfa8b7",
   "metadata": {},
   "outputs": [
    {
     "name": "stdout",
     "output_type": "stream",
     "text": [
      "       Variable      N      Mean        SD        SE  95% Conf.  Interval\n",
      "0  Second Price  167.0  0.891417  0.075514  0.005843   0.879880  0.902954\n",
      "1   First Price  207.0  0.808052  0.240369  0.016707   0.775113  0.840990\n",
      "2      combined  374.0  0.845276  0.190182  0.009834   0.825939  0.864613\n"
     ]
    },
    {
     "name": "stderr",
     "output_type": "stream",
     "text": [
      "The series.append method is deprecated and will be removed from pandas in a future version. Use pandas.concat instead.\n"
     ]
    }
   ],
   "source": [
    "summary, results = rp.ttest(group1= df3['bid2val'][df3['design'] == 0], group1_name= \"Second Price\",\n",
    "         group2= df3['bid2val'][df3['design'] == 1], group2_name= \"First Price\")\n",
    "print(summary)"
   ]
  },
  {
   "cell_type": "code",
   "execution_count": 83,
   "id": "4fa08013",
   "metadata": {},
   "outputs": [
    {
     "name": "stdout",
     "output_type": "stream",
     "text": [
      "                           Independent t-test   results\n",
      "0  Difference (Second Price - First Price) =     0.0834\n",
      "1                       Degrees of freedom =   372.0000\n",
      "2                                        t =     4.3126\n",
      "3                    Two side test p value =     0.0000\n",
      "4                   Difference < 0 p value =     1.0000\n",
      "5                   Difference > 0 p value =     0.0000\n",
      "6                                Cohen's d =     0.4486\n",
      "7                                Hedge's g =     0.4477\n",
      "8                           Glass's delta1 =     1.1040\n",
      "9                         Point-Biserial r =     0.2182\n"
     ]
    }
   ],
   "source": [
    "print(results)"
   ]
  },
  {
   "cell_type": "code",
   "execution_count": 88,
   "id": "c3f91319",
   "metadata": {},
   "outputs": [
    {
     "data": {
      "text/plain": [
       "Ttest_indResult(statistic=4.312570008065045, pvalue=2.069754534801762e-05)"
      ]
     },
     "execution_count": 88,
     "metadata": {},
     "output_type": "execute_result"
    }
   ],
   "source": [
    "stats.ttest_ind(df3['bid2val'][df3['design'] == 0],df3['bid2val'][df3['design'] == 1])"
   ]
  },
  {
   "cell_type": "code",
   "execution_count": null,
   "id": "86ec7e92",
   "metadata": {},
   "outputs": [],
   "source": []
  }
 ],
 "metadata": {
  "kernelspec": {
   "display_name": "Python 3 (ipykernel)",
   "language": "python",
   "name": "python3"
  },
  "language_info": {
   "codemirror_mode": {
    "name": "ipython",
    "version": 3
   },
   "file_extension": ".py",
   "mimetype": "text/x-python",
   "name": "python",
   "nbconvert_exporter": "python",
   "pygments_lexer": "ipython3",
   "version": "3.10.9"
  }
 },
 "nbformat": 4,
 "nbformat_minor": 5
}
