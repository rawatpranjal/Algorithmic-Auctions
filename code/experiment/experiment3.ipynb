{
 "cells": [
  {
   "cell_type": "markdown",
   "id": "92f44f22",
   "metadata": {},
   "source": [
    "-->initialization-->exploration-->rewards-->updating-->transition--->"
   ]
  },
  {
   "cell_type": "markdown",
   "id": "15563c1a",
   "metadata": {},
   "source": [
    "### Functions and Packages"
   ]
  },
  {
   "cell_type": "code",
   "execution_count": 430,
   "id": "cf3efe9d",
   "metadata": {},
   "outputs": [],
   "source": [
    "import numpy as np\n",
    "np.set_printoptions(precision = 4, suppress = True)\n"
   ]
  },
  {
   "cell_type": "code",
   "execution_count": 431,
   "id": "14193f69",
   "metadata": {},
   "outputs": [],
   "source": [
    "def initialize_qtable(N, num_actions, feedback):\n",
    "    if feedback == 1:\n",
    "        Q = np.random.uniform(0,1,(N, num_actions,num_actions))\n",
    "    else:\n",
    "        Q = np.random.uniform(0,1,(N, num_actions))   \n",
    "        #Q = np.zeros((N, num_actions))   \n",
    "    return Q"
   ]
  },
  {
   "cell_type": "code",
   "execution_count": 482,
   "id": "382d63ba",
   "metadata": {},
   "outputs": [
    {
     "data": {
      "text/plain": [
       "array([[0.9348, 0.503 , 0.6817, 0.282 , 0.3424, 0.7317],\n",
       "       [0.8208, 0.6075, 0.7395, 0.9539, 0.3154, 0.3451]])"
      ]
     },
     "execution_count": 482,
     "metadata": {},
     "output_type": "execute_result"
    }
   ],
   "source": [
    "N = 2\n",
    "num_actions = 6\n",
    "feedback = 0\n",
    "Q = initialize_qtable(N, num_actions, feedback)\n",
    "Q"
   ]
  },
  {
   "cell_type": "code",
   "execution_count": 483,
   "id": "1131b235",
   "metadata": {},
   "outputs": [
    {
     "data": {
      "text/plain": [
       "array([[[0.7679, 0.64  , 0.6465, 0.821 , 0.2142, 0.4869],\n",
       "        [0.5975, 0.8433, 0.9499, 0.4093, 0.5207, 0.41  ],\n",
       "        [0.4908, 0.0298, 0.8206, 0.018 , 0.6622, 0.1183],\n",
       "        [0.2063, 0.9079, 0.3496, 0.3156, 0.253 , 0.2393],\n",
       "        [0.1516, 0.8022, 0.2728, 0.8981, 0.8532, 0.9926],\n",
       "        [0.9087, 0.776 , 0.6186, 0.0583, 0.214 , 0.8876]],\n",
       "\n",
       "       [[0.8369, 0.4538, 0.9912, 0.2542, 0.9388, 0.1636],\n",
       "        [0.2491, 0.8649, 0.2856, 0.6768, 0.8989, 0.4588],\n",
       "        [0.066 , 0.1417, 0.3883, 0.0727, 0.8751, 0.1181],\n",
       "        [0.8521, 0.214 , 0.3928, 0.4683, 0.2888, 0.5773],\n",
       "        [0.5593, 0.2711, 0.932 , 0.905 , 0.4555, 0.8659],\n",
       "        [0.5611, 0.9664, 0.5016, 0.1555, 0.9839, 0.8736]]])"
      ]
     },
     "execution_count": 483,
     "metadata": {},
     "output_type": "execute_result"
    }
   ],
   "source": [
    "N = 2\n",
    "num_actions = 6\n",
    "feedback = 1\n",
    "Q = initialize_qtable(N, num_actions, feedback)\n",
    "Q"
   ]
  },
  {
   "cell_type": "code",
   "execution_count": 466,
   "id": "f1ba0dcb",
   "metadata": {},
   "outputs": [],
   "source": [
    "def exploratory_strategy(Q, N, egreedy, num_actions,past_win,winning_bid,eps,beta):\n",
    "    # Input: Master Q table, agent index, past winning action\n",
    "    # Output: actions taken by all agents\n",
    "    actions = np.ones(N,dtype=int)\n",
    "    for agent_idx in range(N):\n",
    "        if egreedy == 1:\n",
    "            if past_win == 1:\n",
    "                if np.random.uniform()>eps:\n",
    "                    actions[agent_idx] = np.argmax(Q[agent_idx,winning_bid])\n",
    "                else:\n",
    "                    actions[agent_idx] = np.random.choice(range(num_actions))\n",
    "            else:\n",
    "                if np.random.uniform()>eps:\n",
    "                    actions[agent_idx] = np.argmax(Q[agent_idx])\n",
    "                else:\n",
    "                    actions[agent_idx] = np.random.choice(range(num_actions))\n",
    "        else: \n",
    "            if past_win == 1:\n",
    "                max_Q = np.max(Q[agent_idx,winning_bid])\n",
    "                logits = (Q[agent_idx,winning_bid] - max_Q) / beta\n",
    "                exp_logits = np.exp(logits)\n",
    "                probs = exp_logits / np.sum(exp_logits)\n",
    "                actions[agent_idx] = np.random.choice(range(len(probs)), p=probs)\n",
    "            else:\n",
    "                max_Q = np.max(Q[agent_idx])\n",
    "                logits = (Q[agent_idx] - max_Q) / beta\n",
    "                exp_logits = np.exp(logits)\n",
    "                probs = exp_logits / np.sum(exp_logits)\n",
    "                actions[agent_idx] = np.random.choice(range(len(probs)), p=probs)    \n",
    "    return actions"
   ]
  },
  {
   "cell_type": "code",
   "execution_count": 467,
   "id": "32dceb37",
   "metadata": {},
   "outputs": [
    {
     "data": {
      "text/plain": [
       "array([3, 1])"
      ]
     },
     "execution_count": 467,
     "metadata": {},
     "output_type": "execute_result"
    }
   ],
   "source": [
    "egreedy = 1\n",
    "past_win = 0\n",
    "winning_bid = 0\n",
    "eps = 0.99\n",
    "beta = 0.99\n",
    "actions = exploratory_strategy(Q, N, egreedy, num_actions,past_win,winning_bid,eps,beta)\n",
    "actions"
   ]
  },
  {
   "cell_type": "code",
   "execution_count": 468,
   "id": "51bd7ed3",
   "metadata": {},
   "outputs": [
    {
     "name": "stdout",
     "output_type": "stream",
     "text": [
      "[[0.1379 0.8257 0.6508 0.3534 0.6836 0.3371]\n",
      " [0.8323 0.1554 0.2224 0.7083 0.0006 0.3988]]\n"
     ]
    },
    {
     "data": {
      "text/plain": [
       "array([1, 0])"
      ]
     },
     "execution_count": 468,
     "metadata": {},
     "output_type": "execute_result"
    }
   ],
   "source": [
    "egreedy = 0\n",
    "beta = 4.0\n",
    "actions = exploratory_strategy(Q, N, egreedy, num_actions,past_win,winning_bid,eps,beta)\n",
    "print(Q)\n",
    "actions"
   ]
  },
  {
   "cell_type": "code",
   "execution_count": 469,
   "id": "b6e26429",
   "metadata": {},
   "outputs": [],
   "source": [
    "def actions2rewards(actions, valuations, design, action2bid, method=0):\n",
    "    # compute winners and winning payments\n",
    "    bids = action2bid[actions]\n",
    "    unique_values_sorted = np.sort(np.unique(bids))[::-1]\n",
    "    first_highest_value = unique_values_sorted[0]\n",
    "    if len(unique_values_sorted) > 1:\n",
    "        second_highest_value = unique_values_sorted[1]\n",
    "    else:\n",
    "        second_highest_value = first_highest_value\n",
    "    winners_payment = design * first_highest_value + (1-design) * second_highest_value\n",
    "    winners_idx = np.where(bids == first_highest_value)[0]\n",
    "    # compute reward vector\n",
    "    if method==0:\n",
    "        winner_idx = np.random.choice(winners_idx)\n",
    "        rewards = bids * 0.0\n",
    "        rewards[winner_idx] = valuations[winner_idx] - winners_payment\n",
    "    else:\n",
    "        winning_bid_idx = np.where(bids==first_highest_value,1,0)\n",
    "        no_of_winners = np.sum(winning_bid_idx)\n",
    "        rewards = (1/no_of_winners) * (valuations - winners_payment) * winning_bid_idx \n",
    "    return rewards"
   ]
  },
  {
   "cell_type": "code",
   "execution_count": 470,
   "id": "44338392",
   "metadata": {},
   "outputs": [
    {
     "name": "stdout",
     "output_type": "stream",
     "text": [
      "bids [0.2 0. ]\n",
      "rewards [0.8 0. ]\n"
     ]
    }
   ],
   "source": [
    "valuations = np.array([1,1])\n",
    "design = 1\n",
    "common_valuation = 1\n",
    "action2bid = np.linspace(0,common_valuation,num_actions)\n",
    "print('bids',action2bid[actions])\n",
    "rewards = actions2rewards(actions, valuations, design, action2bid, method=0)\n",
    "print('rewards',rewards)"
   ]
  },
  {
   "cell_type": "code",
   "execution_count": 471,
   "id": "e33bd0e5",
   "metadata": {},
   "outputs": [],
   "source": [
    "def counterfactual_reward(agent_idx,actions,valuations,design,num_actions,action2bid):\n",
    "    action_copy = actions.copy()\n",
    "    cf_rewards = np.zeros(num_actions)\n",
    "    for agent_action in range(num_actions):\n",
    "        action_copy[agent_idx] = agent_action\n",
    "        cf_rewards[agent_action] = actions2rewards(action_copy,valuations,design,action2bid,method=1)[agent_idx]\n",
    "    return np.array(cf_rewards)"
   ]
  },
  {
   "cell_type": "code",
   "execution_count": 472,
   "id": "1d859ab2",
   "metadata": {},
   "outputs": [
    {
     "data": {
      "text/plain": [
       "array([1, 0])"
      ]
     },
     "execution_count": 472,
     "metadata": {},
     "output_type": "execute_result"
    }
   ],
   "source": [
    "actions"
   ]
  },
  {
   "cell_type": "code",
   "execution_count": 473,
   "id": "409e2081",
   "metadata": {},
   "outputs": [
    {
     "data": {
      "text/plain": [
       "array([0.5, 0.8, 0.6, 0.4, 0.2, 0. ])"
      ]
     },
     "execution_count": 473,
     "metadata": {},
     "output_type": "execute_result"
    }
   ],
   "source": [
    "counterfactual_reward(0,actions,valuations,design,num_actions,action2bid)"
   ]
  },
  {
   "cell_type": "code",
   "execution_count": 474,
   "id": "03085b8d",
   "metadata": {
    "scrolled": true
   },
   "outputs": [
    {
     "data": {
      "text/plain": [
       "array([0. , 0. , 0.8, 0. ])"
      ]
     },
     "execution_count": 474,
     "metadata": {},
     "output_type": "execute_result"
    }
   ],
   "source": [
    "bids = np.array([0.2,0.2,0.2,0.2])\n",
    "bids2rewards(bids,np.array([1,1,1,1]),0)"
   ]
  },
  {
   "cell_type": "code",
   "execution_count": 475,
   "id": "aa8d27d1",
   "metadata": {},
   "outputs": [
    {
     "data": {
      "text/plain": [
       "0.2"
      ]
     },
     "execution_count": 475,
     "metadata": {},
     "output_type": "execute_result"
    }
   ],
   "source": [
    "np.partition(bids.flatten(), -2)[-2]"
   ]
  },
  {
   "cell_type": "code",
   "execution_count": 476,
   "id": "ae0d7556",
   "metadata": {},
   "outputs": [],
   "source": [
    "def update_qvalues(rewards, actions, Q, feedback, asynchronous, winning_bid, alpha, gamma, valuations,design,action2bid):\n",
    "    N = Q.shape[0]\n",
    "    num_actions = Q.shape[1]\n",
    "    for agent_idx in range(N):\n",
    "        action = actions[agent_idx]\n",
    "        reward = rewards[agent_idx]\n",
    "        if asynchronous == 1:\n",
    "            if feedback == 1:\n",
    "                Q[agent_idx,winning_bid,action] =  (1-alpha)*Q[agent_idx,winning_bid,action] + alpha * (reward + gamma * np.max(Q[agent_idx,winning_bid]))\n",
    "            else:\n",
    "                Q[agent_idx,action] =  (1-alpha)*Q[agent_idx,action] + alpha * (reward + gamma * np.max(Q[agent_idx]))\n",
    "        else: \n",
    "            reward_vec = counterfactual_reward(agent_idx,actions,valuations,design,num_actions,action2bid)\n",
    "            if feedback == 1:\n",
    "                Q[agent_idx,winning_bid,:] =  (1-alpha)*Q[agent_idx,winning_bid,:] + alpha * (reward_vec + gamma * np.max(Q[agent_idx,winning_bid]))\n",
    "            else:\n",
    "                Q[agent_idx] =  (1-alpha)*Q[agent_idx] + alpha * (reward_vec + gamma * np.max(Q[agent_idx]))\n",
    "    return Q"
   ]
  },
  {
   "cell_type": "code",
   "execution_count": 477,
   "id": "d63e080c",
   "metadata": {},
   "outputs": [
    {
     "name": "stdout",
     "output_type": "stream",
     "text": [
      "[[0.1379 0.8257 0.6508 0.3534 0.6836 0.3371]\n",
      " [0.8323 0.1554 0.2224 0.7083 0.0006 0.3988]]\n",
      "[0.5 0.8 0.6 0.4 0.2 0. ]\n",
      "[0.  0.4 0.6 0.4 0.2 0. ]\n",
      "[[0.1741 0.8231 0.6458 0.358  0.6352 0.3033]\n",
      " [0.749  0.1799 0.2602 0.6775 0.0206 0.3589]]\n"
     ]
    }
   ],
   "source": [
    "alpha = 0.1\n",
    "gamma = 0.0\n",
    "asynchronous = 0\n",
    "\n",
    "Q_old = Q.copy()\n",
    "Q_new = update_qvalues(rewards, actions, Q, feedback, asynchronous, winning_bid, alpha, gamma, valuations,design,action2bid)\n",
    "\n",
    "print(Q_old)\n",
    "print(counterfactual_reward(0,actions,valuations,design,num_actions,action2bid))\n",
    "print(counterfactual_reward(1,actions,valuations,design,num_actions,action2bid))\n",
    "print(Q_new)"
   ]
  },
  {
   "cell_type": "code",
   "execution_count": 526,
   "id": "51377e2d",
   "metadata": {},
   "outputs": [],
   "source": [
    "def experiment(N,alpha,gamma,egreedy,asynchronous,design,feedback,num_actions,decay,verbose=2):\n",
    "    Q = initialize_qtable(N, num_actions,feedback)\n",
    "    common_valuation = 1\n",
    "    valuations = np.ones(N)*common_valuation\n",
    "    action2bid = np.linspace(0,common_valuation,num_actions)\n",
    "    initial_eps = 1.0\n",
    "    eps_decay = decay\n",
    "    min_eps = 0.01\n",
    "    eps = initial_eps\n",
    "    initial_beta = 1.0\n",
    "    beta_decay = decay\n",
    "    min_beta = 0.01\n",
    "    beta = initial_beta\n",
    "    winning_bid_history = []\n",
    "    num_episodes = 200000\n",
    "    winning_action = 0\n",
    "    \n",
    "    print('Bidders:',N)\n",
    "    print('Learning rate:',alpha)\n",
    "    print('Discount factor:',gamma)\n",
    "    print('eGreedy',egreedy)\n",
    "    print('Asynchronous',asynchronous)\n",
    "    print('First price:',design)\n",
    "    print('Feedback:',feedback)\n",
    "    print('Bid space:',action2bid)\n",
    "    print('Q-table shape:',Q.shape)\n",
    "    print('Epsilon: initial, final and decay rate', initial_eps, min_eps, eps_decay)\n",
    "    print('Beta: initial, final and decay rate', initial_beta, min_beta, beta_decay)\n",
    "    print('Num episodes:', num_episodes)\n",
    "\n",
    "    # training loop\n",
    "    for episode in range(num_episodes):\n",
    "        \n",
    "        # act from exploratory strategy\n",
    "        actions = exploratory_strategy(Q, N, egreedy, num_actions,feedback,winning_action,eps,beta) \n",
    "\n",
    "        # collect rewards\n",
    "        rewards = actions2rewards(actions,valuations,design,action2bid)\n",
    "        \n",
    "        # update Q-values\n",
    "        Q = update_qvalues(rewards, actions, Q, feedback, asynchronous, winning_action, alpha, gamma, valuations,design,action2bid)\n",
    "\n",
    "        # update exploration params\n",
    "        eps = max(min_eps, eps * eps_decay)\n",
    "        beta = max(min_beta, beta * beta_decay)\n",
    "\n",
    "        # winning bid and action\n",
    "        bids = actions*common_valuation/(num_actions-1)\n",
    "        winning_bid = np.max(bids)\n",
    "        winning_action = np.max(actions)\n",
    "\n",
    "        # store history\n",
    "        winning_bid_history.append(winning_bid)\n",
    "        \n",
    "        if (verbose==1) & (episode%10000==0) & (episode>0):\n",
    "            print(episode,np.round(eps,2),np.round(beta,2),np.round(np.mean(winning_bid_history[-1000:]),2),np.round(np.std(winning_bid_history[-1000:]),2))\n",
    "\n",
    "        if (verbose==2) & (episode%10000==0) & (episode>0):\n",
    "            print('\\nEpisode:',episode,np.round(eps,3))\n",
    "            print('Bids:',action2bid[actions],', Rewards:',rewards)\n",
    "            #print(winning_bid_history[-20:])\n",
    "            print('Agent 0:',Q[0,:])\n",
    "            #print('Agent 0 Cf reward', counterfactual_reward(0,actions,valuations,design,num_actions,action2bid))\n",
    "            print('Agent 1:',Q[1,:])\n",
    "            #print('Agent 1 Cf reward', counterfactual_reward(1,actions,valuations,design,num_actions,action2bid))\n",
    "            print('Stdev of last 10000 bids:',np.std(winning_bid_history[-10000:]))\n",
    "            print('Avg of last 10000 bids:',np.mean(winning_bid_history[-10000:]))\n",
    "            \n",
    "        if (episode%10000==0) & (episode>0) & (np.std(winning_bid_history[-1000:])<0.01):\n",
    "            break\n",
    "\n",
    "    Y = np.mean(winning_bid_history[-1000:])\n",
    "    Y_std = np.std(winning_bid_history)\n",
    "    return (Y,episode,Y_std,N,alpha,gamma,egreedy,asynchronous,design,feedback,num_actions,decay,Q)\n"
   ]
  },
  {
   "cell_type": "markdown",
   "id": "94a5fa3b",
   "metadata": {},
   "source": [
    "### Test Cases"
   ]
  },
  {
   "cell_type": "code",
   "execution_count": 527,
   "id": "784547c4",
   "metadata": {
    "scrolled": true
   },
   "outputs": [
    {
     "name": "stdout",
     "output_type": "stream",
     "text": [
      "Bidders: 2\n",
      "Learning rate: 0.1\n",
      "Discount factor: 0.99\n",
      "eGreedy 0\n",
      "Asynchronous 1\n",
      "First price: 1\n",
      "Feedback: 1\n",
      "Bid space: [0.     0.3333 0.6667 1.    ]\n",
      "Q-table shape: (2, 4, 4)\n",
      "Epsilon: initial, final and decay rate 1.0 0.01 0.9999\n",
      "Beta: initial, final and decay rate 1.0 0.01 0.9999\n",
      "Num episodes: 200000\n",
      "10000 0.37 0.37 0.63 0.22\n",
      "20000 0.14 0.14 0.64 0.18\n",
      "30000 0.05 0.05 0.7 0.11\n",
      "40000 0.02 0.02 0.67 0.0\n"
     ]
    },
    {
     "data": {
      "text/plain": [
       "(0.6666666666666665,\n",
       " 40000,\n",
       " 0.18616470612845293,\n",
       " 2,\n",
       " 0.1,\n",
       " 0.99,\n",
       " 0,\n",
       " 1,\n",
       " 1,\n",
       " 1,\n",
       " 4,\n",
       " 0.9999,\n",
       " array([[[ 4.6217,  4.4036,  8.2399,  3.8388],\n",
       "         [ 9.1494, 20.6405, 21.2774, 20.6224],\n",
       "         [16.0449, 16.0535, 16.731 , 16.0556],\n",
       "         [14.8665, 12.4061, 19.3247,  9.0367]],\n",
       " \n",
       "        [[ 5.2271,  6.0521,  7.709 ,  4.1553],\n",
       "         [17.6309, 17.6195, 17.7534, 16.9907],\n",
       "         [15.8763, 15.8928, 16.7018,  8.4655],\n",
       "         [11.289 , 15.7859, 15.8115, 10.4805]]]))"
      ]
     },
     "execution_count": 527,
     "metadata": {},
     "output_type": "execute_result"
    }
   ],
   "source": [
    "params = {'N': 2, 'alpha': 0.1, 'gamma': 0.99, 'egreedy': 0, 'design': 1, \n",
    "          'asynchronous': 1, 'feedback': 1, 'num_actions': 4, 'decay':0.9999, 'verbose':1}\n",
    "experiment(**params)"
   ]
  },
  {
   "cell_type": "markdown",
   "id": "0cf26204",
   "metadata": {},
   "source": [
    "### Random Sampling"
   ]
  },
  {
   "cell_type": "code",
   "execution_count": 531,
   "id": "4a372377",
   "metadata": {
    "scrolled": false
   },
   "outputs": [
    {
     "name": "stdout",
     "output_type": "stream",
     "text": [
      "{'N': 2, 'alpha': 0.1, 'gamma': 0.0, 'egreedy': 0, 'design': 0.25, 'asynchronous': 0, 'feedback': 0, 'num_actions': 11, 'decay': 0.9999, 'verbose': 1}\n",
      "Bidders: 2\n",
      "Learning rate: 0.1\n",
      "Discount factor: 0.0\n",
      "eGreedy 0\n",
      "Asynchronous 0\n",
      "First price: 0.25\n",
      "Feedback: 0\n",
      "Bid space: [0.  0.1 0.2 0.3 0.4 0.5 0.6 0.7 0.8 0.9 1. ]\n",
      "Q-table shape: (2, 11)\n",
      "Epsilon: initial, final and decay rate 1.0 0.01 0.9999\n",
      "Beta: initial, final and decay rate 1.0 0.01 0.9999\n",
      "Num episodes: 200000\n",
      "10000 0.37 0.37 0.75 0.22\n",
      "20000 0.14 0.14 0.82 0.18\n",
      "30000 0.05 0.05 0.88 0.13\n",
      "40000 0.02 0.02 0.95 0.07\n",
      "50000 0.01 0.01 0.97 0.06\n",
      "60000 0.01 0.01 0.97 0.06\n",
      "70000 0.01 0.01 0.97 0.06\n",
      "80000 0.01 0.01 0.97 0.06\n",
      "90000 0.01 0.01 0.97 0.06\n",
      "100000 0.01 0.01 0.97 0.06\n",
      "110000 0.01 0.01 0.97 0.07\n",
      "120000 0.01 0.01 0.97 0.06\n",
      "130000 0.01 0.01 0.97 0.06\n",
      "140000 0.01 0.01 0.97 0.05\n",
      "150000 0.01 0.01 0.97 0.06\n",
      "160000 0.01 0.01 0.97 0.06\n",
      "170000 0.01 0.01 0.97 0.06\n",
      "180000 0.01 0.01 0.97 0.05\n",
      "190000 0.01 0.01 0.97 0.06\n",
      "(0, 0.9729000000000001, 199999, 0.11888871468625606)\n",
      "--------------------\n",
      "{'N': 4, 'alpha': 0.5, 'gamma': 0.0, 'egreedy': 0, 'design': 0.5, 'asynchronous': 1, 'feedback': 0, 'num_actions': 11, 'decay': 0.9999, 'verbose': 1}\n",
      "Bidders: 4\n",
      "Learning rate: 0.5\n",
      "Discount factor: 0.0\n",
      "eGreedy 0\n",
      "Asynchronous 1\n",
      "First price: 0.5\n",
      "Feedback: 0\n",
      "Bid space: [0.  0.1 0.2 0.3 0.4 0.5 0.6 0.7 0.8 0.9 1. ]\n",
      "Q-table shape: (4, 11)\n",
      "Epsilon: initial, final and decay rate 1.0 0.01 0.9999\n",
      "Beta: initial, final and decay rate 1.0 0.01 0.9999\n",
      "Num episodes: 200000\n",
      "10000 0.37 0.37 0.86 0.15\n",
      "20000 0.14 0.14 0.89 0.13\n",
      "30000 0.05 0.05 0.94 0.11\n",
      "40000 0.02 0.02 1.0 0.03\n",
      "50000 0.01 0.01 1.0 0.0\n",
      "(1, 1.0, 50000, 0.13350775436674542)\n",
      "--------------------\n",
      "{'N': 2, 'alpha': 0.5, 'gamma': 0.0, 'egreedy': 1, 'design': 1, 'asynchronous': 0, 'feedback': 0, 'num_actions': 11, 'decay': 0.9999, 'verbose': 1}\n",
      "Bidders: 2\n",
      "Learning rate: 0.5\n",
      "Discount factor: 0.0\n",
      "eGreedy 1\n",
      "Asynchronous 0\n",
      "First price: 1\n",
      "Feedback: 0\n",
      "Bid space: [0.  0.1 0.2 0.3 0.4 0.5 0.6 0.7 0.8 0.9 1. ]\n",
      "Q-table shape: (2, 11)\n",
      "Epsilon: initial, final and decay rate 1.0 0.01 0.9999\n",
      "Beta: initial, final and decay rate 1.0 0.01 0.9999\n",
      "Num episodes: 200000\n",
      "10000 0.37 0.37 0.67 0.19\n",
      "20000 0.14 0.14 0.72 0.16\n",
      "30000 0.05 0.05 0.78 0.11\n",
      "40000 0.02 0.02 0.79 0.09\n",
      "50000 0.01 0.01 0.79 0.05\n",
      "60000 0.01 0.01 0.79 0.06\n",
      "70000 0.01 0.01 0.8 0.08\n",
      "80000 0.01 0.01 0.8 0.07\n",
      "90000 0.01 0.01 0.82 0.05\n",
      "100000 0.01 0.01 0.8 0.03\n",
      "110000 0.01 0.01 0.78 0.09\n",
      "120000 0.01 0.01 0.79 0.06\n",
      "130000 0.01 0.01 0.8 0.06\n",
      "140000 0.01 0.01 0.81 0.08\n",
      "150000 0.01 0.01 0.85 0.07\n",
      "160000 0.01 0.01 0.81 0.08\n",
      "170000 0.01 0.01 0.79 0.06\n",
      "180000 0.01 0.01 0.8 0.05\n",
      "190000 0.01 0.01 0.82 0.08\n",
      "(2, 0.7959, 199999, 0.10484658840420133)\n",
      "--------------------\n",
      "{'N': 4, 'alpha': 0.5, 'gamma': 0.0, 'egreedy': 0, 'design': 1, 'asynchronous': 0, 'feedback': 0, 'num_actions': 11, 'decay': 0.999, 'verbose': 1}\n",
      "Bidders: 4\n",
      "Learning rate: 0.5\n",
      "Discount factor: 0.0\n",
      "eGreedy 0\n",
      "Asynchronous 0\n",
      "First price: 1\n",
      "Feedback: 0\n",
      "Bid space: [0.  0.1 0.2 0.3 0.4 0.5 0.6 0.7 0.8 0.9 1. ]\n",
      "Q-table shape: (4, 11)\n",
      "Epsilon: initial, final and decay rate 1.0 0.01 0.999\n",
      "Beta: initial, final and decay rate 1.0 0.01 0.999\n",
      "Num episodes: 200000\n",
      "10000 0.01 0.01 0.9 0.05\n",
      "20000 0.01 0.01 0.91 0.04\n",
      "30000 0.01 0.01 0.9 0.06\n",
      "40000 0.01 0.01 0.91 0.04\n",
      "50000 0.01 0.01 0.9 0.06\n",
      "60000 0.01 0.01 0.9 0.06\n",
      "70000 0.01 0.01 0.9 0.05\n",
      "80000 0.01 0.01 0.91 0.04\n",
      "90000 0.01 0.01 0.91 0.04\n",
      "100000 0.01 0.01 0.91 0.04\n",
      "110000 0.01 0.01 0.91 0.05\n",
      "120000 0.01 0.01 0.9 0.05\n",
      "130000 0.01 0.01 0.9 0.06\n",
      "140000 0.01 0.01 0.9 0.05\n",
      "150000 0.01 0.01 0.91 0.04\n",
      "160000 0.01 0.01 0.9 0.06\n",
      "170000 0.01 0.01 0.91 0.04\n",
      "180000 0.01 0.01 0.91 0.05\n",
      "190000 0.01 0.01 0.9 0.05\n",
      "(3, 0.9043000000000002, 199999, 0.055444903093070694)\n",
      "--------------------\n",
      "{'N': 4, 'alpha': 0.5, 'gamma': 0.0, 'egreedy': 0, 'design': 0.25, 'asynchronous': 1, 'feedback': 0, 'num_actions': 11, 'decay': 0.999, 'verbose': 1}\n",
      "Bidders: 4\n",
      "Learning rate: 0.5\n",
      "Discount factor: 0.0\n",
      "eGreedy 0\n",
      "Asynchronous 1\n",
      "First price: 0.25\n",
      "Feedback: 0\n",
      "Bid space: [0.  0.1 0.2 0.3 0.4 0.5 0.6 0.7 0.8 0.9 1. ]\n",
      "Q-table shape: (4, 11)\n",
      "Epsilon: initial, final and decay rate 1.0 0.01 0.999\n",
      "Beta: initial, final and decay rate 1.0 0.01 0.999\n",
      "Num episodes: 200000\n",
      "10000 0.01 0.01 1.0 0.0\n",
      "(4, 1.0, 10000, 0.09414118439266951)\n",
      "--------------------\n",
      "{'N': 2, 'alpha': 0.1, 'gamma': 0.9, 'egreedy': 0, 'design': 0.5, 'asynchronous': 0, 'feedback': 0, 'num_actions': 11, 'decay': 0.999, 'verbose': 1}\n",
      "Bidders: 2\n",
      "Learning rate: 0.1\n",
      "Discount factor: 0.9\n",
      "eGreedy 0\n",
      "Asynchronous 0\n",
      "First price: 0.5\n",
      "Feedback: 0\n",
      "Bid space: [0.  0.1 0.2 0.3 0.4 0.5 0.6 0.7 0.8 0.9 1. ]\n",
      "Q-table shape: (2, 11)\n",
      "Epsilon: initial, final and decay rate 1.0 0.01 0.999\n",
      "Beta: initial, final and decay rate 1.0 0.01 0.999\n",
      "Num episodes: 200000\n",
      "10000 0.01 0.01 0.93 0.08\n",
      "20000 0.01 0.01 0.94 0.07\n",
      "30000 0.01 0.01 0.94 0.08\n",
      "40000 0.01 0.01 0.93 0.08\n",
      "50000 0.01 0.01 0.93 0.08\n",
      "60000 0.01 0.01 0.93 0.07\n",
      "70000 0.01 0.01 0.94 0.07\n",
      "80000 0.01 0.01 0.94 0.07\n",
      "90000 0.01 0.01 0.93 0.09\n",
      "100000 0.01 0.01 0.93 0.08\n",
      "110000 0.01 0.01 0.94 0.07\n",
      "120000 0.01 0.01 0.93 0.09\n",
      "130000 0.01 0.01 0.94 0.08\n",
      "140000 0.01 0.01 0.93 0.08\n",
      "150000 0.01 0.01 0.94 0.07\n",
      "160000 0.01 0.01 0.93 0.08\n",
      "170000 0.01 0.01 0.94 0.07\n",
      "180000 0.01 0.01 0.93 0.08\n",
      "190000 0.01 0.01 0.93 0.08\n",
      "(5, 0.9402, 199999, 0.08519471100954565)\n",
      "--------------------\n",
      "{'N': 2, 'alpha': 0.5, 'gamma': 0.9, 'egreedy': 0, 'design': 0.75, 'asynchronous': 0, 'feedback': 0, 'num_actions': 11, 'decay': 0.9999, 'verbose': 1}\n",
      "Bidders: 2\n",
      "Learning rate: 0.5\n",
      "Discount factor: 0.9\n",
      "eGreedy 0\n",
      "Asynchronous 0\n",
      "First price: 0.75\n",
      "Feedback: 0\n",
      "Bid space: [0.  0.1 0.2 0.3 0.4 0.5 0.6 0.7 0.8 0.9 1. ]\n",
      "Q-table shape: (2, 11)\n",
      "Epsilon: initial, final and decay rate 1.0 0.01 0.9999\n",
      "Beta: initial, final and decay rate 1.0 0.01 0.9999\n",
      "Num episodes: 200000\n",
      "10000 0.37 0.37 0.68 0.24\n",
      "20000 0.14 0.14 0.71 0.2\n",
      "30000 0.05 0.05 0.77 0.16\n",
      "40000 0.02 0.02 0.8 0.16\n",
      "50000 0.01 0.01 0.83 0.16\n",
      "60000 0.01 0.01 0.82 0.16\n",
      "70000 0.01 0.01 0.84 0.15\n",
      "80000 0.01 0.01 0.83 0.16\n",
      "90000 0.01 0.01 0.83 0.16\n",
      "100000 0.01 0.01 0.84 0.15\n",
      "110000 0.01 0.01 0.83 0.15\n",
      "120000 0.01 0.01 0.83 0.15\n",
      "130000 0.01 0.01 0.84 0.14\n",
      "140000 0.01 0.01 0.83 0.15\n",
      "150000 0.01 0.01 0.83 0.15\n",
      "160000 0.01 0.01 0.85 0.14\n",
      "170000 0.01 0.01 0.83 0.15\n",
      "180000 0.01 0.01 0.84 0.15\n",
      "190000 0.01 0.01 0.83 0.15\n",
      "(6, 0.8407000000000001, 199999, 0.16922075949407037)\n",
      "--------------------\n",
      "{'N': 4, 'alpha': 0.5, 'gamma': 0.0, 'egreedy': 0, 'design': 0.25, 'asynchronous': 1, 'feedback': 0, 'num_actions': 11, 'decay': 0.999, 'verbose': 1}\n",
      "Bidders: 4\n",
      "Learning rate: 0.5\n",
      "Discount factor: 0.0\n",
      "eGreedy 0\n",
      "Asynchronous 1\n",
      "First price: 0.25\n",
      "Feedback: 0\n",
      "Bid space: [0.  0.1 0.2 0.3 0.4 0.5 0.6 0.7 0.8 0.9 1. ]\n",
      "Q-table shape: (4, 11)\n",
      "Epsilon: initial, final and decay rate 1.0 0.01 0.999\n",
      "Beta: initial, final and decay rate 1.0 0.01 0.999\n",
      "Num episodes: 200000\n",
      "10000 0.01 0.01 1.0 0.0\n",
      "(7, 1.0, 10000, 0.09580603085976488)\n",
      "--------------------\n",
      "{'N': 2, 'alpha': 0.1, 'gamma': 0.0, 'egreedy': 1, 'design': 0.75, 'asynchronous': 0, 'feedback': 0, 'num_actions': 11, 'decay': 0.9999, 'verbose': 1}\n",
      "Bidders: 2\n",
      "Learning rate: 0.1\n",
      "Discount factor: 0.0\n",
      "eGreedy 1\n",
      "Asynchronous 0\n",
      "First price: 0.75\n",
      "Feedback: 0\n",
      "Bid space: [0.  0.1 0.2 0.3 0.4 0.5 0.6 0.7 0.8 0.9 1. ]\n",
      "Q-table shape: (2, 11)\n",
      "Epsilon: initial, final and decay rate 1.0 0.01 0.9999\n",
      "Beta: initial, final and decay rate 1.0 0.01 0.9999\n",
      "Num episodes: 200000\n",
      "10000 0.37 0.37 0.77 0.15\n",
      "20000 0.14 0.14 0.83 0.13\n",
      "30000 0.05 0.05 0.86 0.1\n",
      "40000 0.02 0.02 0.89 0.07\n",
      "50000 0.01 0.01 0.89 0.04\n",
      "60000 0.01 0.01 0.88 0.08\n",
      "70000 0.01 0.01 0.89 0.06\n",
      "80000 0.01 0.01 0.89 0.04\n",
      "90000 0.01 0.01 0.87 0.09\n",
      "100000 0.01 0.01 0.89 0.07\n",
      "110000 0.01 0.01 0.89 0.05\n",
      "120000 0.01 0.01 0.89 0.07\n",
      "130000 0.01 0.01 0.88 0.08\n",
      "140000 0.01 0.01 0.89 0.07\n",
      "150000 0.01 0.01 0.89 0.05\n",
      "160000 0.01 0.01 0.89 0.05\n",
      "170000 0.01 0.01 0.89 0.07\n",
      "180000 0.01 0.01 0.89 0.07\n",
      "190000 0.01 0.01 0.88 0.07\n",
      "(8, 0.8846000000000003, 199999, 0.09430673769673087)\n",
      "--------------------\n",
      "{'N': 2, 'alpha': 0.5, 'gamma': 0.0, 'egreedy': 1, 'design': 0.5, 'asynchronous': 0, 'feedback': 1, 'num_actions': 11, 'decay': 0.999, 'verbose': 1}\n",
      "Bidders: 2\n",
      "Learning rate: 0.5\n",
      "Discount factor: 0.0\n",
      "eGreedy 1\n",
      "Asynchronous 0\n",
      "First price: 0.5\n",
      "Feedback: 1\n",
      "Bid space: [0.  0.1 0.2 0.3 0.4 0.5 0.6 0.7 0.8 0.9 1. ]\n",
      "Q-table shape: (2, 11, 11)\n",
      "Epsilon: initial, final and decay rate 1.0 0.01 0.999\n",
      "Beta: initial, final and decay rate 1.0 0.01 0.999\n",
      "Num episodes: 200000\n"
     ]
    },
    {
     "name": "stdout",
     "output_type": "stream",
     "text": [
      "10000 0.01 0.01 0.92 0.11\n",
      "20000 0.01 0.01 0.92 0.1\n",
      "30000 0.01 0.01 0.94 0.1\n",
      "40000 0.01 0.01 0.94 0.08\n",
      "50000 0.01 0.01 0.93 0.09\n",
      "60000 0.01 0.01 0.93 0.11\n",
      "70000 0.01 0.01 0.92 0.1\n",
      "80000 0.01 0.01 0.93 0.09\n",
      "90000 0.01 0.01 0.96 0.06\n",
      "100000 0.01 0.01 0.94 0.09\n",
      "110000 0.01 0.01 0.94 0.09\n",
      "120000 0.01 0.01 0.93 0.11\n",
      "130000 0.01 0.01 0.94 0.09\n",
      "140000 0.01 0.01 0.92 0.11\n",
      "150000 0.01 0.01 0.91 0.1\n",
      "160000 0.01 0.01 0.94 0.1\n",
      "170000 0.01 0.01 0.93 0.11\n",
      "180000 0.01 0.01 0.91 0.1\n",
      "190000 0.01 0.01 0.91 0.1\n",
      "(9, 0.9463, 199999, 0.10295607411780033)\n",
      "--------------------\n",
      "{'N': 2, 'alpha': 0.5, 'gamma': 0.9, 'egreedy': 1, 'design': 1, 'asynchronous': 1, 'feedback': 0, 'num_actions': 11, 'decay': 0.999, 'verbose': 1}\n",
      "Bidders: 2\n",
      "Learning rate: 0.5\n",
      "Discount factor: 0.9\n",
      "eGreedy 1\n",
      "Asynchronous 1\n",
      "First price: 1\n",
      "Feedback: 0\n",
      "Bid space: [0.  0.1 0.2 0.3 0.4 0.5 0.6 0.7 0.8 0.9 1. ]\n",
      "Q-table shape: (2, 11)\n",
      "Epsilon: initial, final and decay rate 1.0 0.01 0.999\n",
      "Beta: initial, final and decay rate 1.0 0.01 0.999\n",
      "Num episodes: 200000\n",
      "10000 0.01 0.01 0.9 0.01\n",
      "20000 0.01 0.01 0.9 0.02\n",
      "30000 0.01 0.01 0.9 0.01\n",
      "40000 0.01 0.01 0.9 0.01\n",
      "(10, 0.9008000000000002, 40000, 0.08901443298186996)\n",
      "--------------------\n",
      "{'N': 2, 'alpha': 0.5, 'gamma': 0.0, 'egreedy': 1, 'design': 0, 'asynchronous': 0, 'feedback': 0, 'num_actions': 11, 'decay': 0.9999, 'verbose': 1}\n",
      "Bidders: 2\n",
      "Learning rate: 0.5\n",
      "Discount factor: 0.0\n",
      "eGreedy 1\n",
      "Asynchronous 0\n",
      "First price: 0\n",
      "Feedback: 0\n",
      "Bid space: [0.  0.1 0.2 0.3 0.4 0.5 0.6 0.7 0.8 0.9 1. ]\n",
      "Q-table shape: (2, 11)\n",
      "Epsilon: initial, final and decay rate 1.0 0.01 0.9999\n",
      "Beta: initial, final and decay rate 1.0 0.01 0.9999\n",
      "Num episodes: 200000\n",
      "10000 0.37 0.37 0.94 0.16\n",
      "20000 0.14 0.14 0.98 0.07\n",
      "30000 0.05 0.05 0.99 0.07\n",
      "40000 0.02 0.02 1.0 0.04\n",
      "50000 0.01 0.01 0.99 0.05\n",
      "60000 0.01 0.01 0.99 0.06\n",
      "70000 0.01 0.01 0.99 0.05\n",
      "80000 0.01 0.01 1.0 0.01\n",
      "(11, 0.9993000000000001, 80000, 0.10704057494341869)\n",
      "--------------------\n",
      "{'N': 4, 'alpha': 0.5, 'gamma': 0.9, 'egreedy': 1, 'design': 0.5, 'asynchronous': 0, 'feedback': 0, 'num_actions': 11, 'decay': 0.9999, 'verbose': 1}\n",
      "Bidders: 4\n",
      "Learning rate: 0.5\n",
      "Discount factor: 0.9\n",
      "eGreedy 1\n",
      "Asynchronous 0\n",
      "First price: 0.5\n",
      "Feedback: 0\n",
      "Bid space: [0.  0.1 0.2 0.3 0.4 0.5 0.6 0.7 0.8 0.9 1. ]\n",
      "Q-table shape: (4, 11)\n",
      "Epsilon: initial, final and decay rate 1.0 0.01 0.9999\n",
      "Beta: initial, final and decay rate 1.0 0.01 0.9999\n",
      "Num episodes: 200000\n",
      "10000 0.37 0.37 0.99 0.05\n",
      "20000 0.14 0.14 1.0 0.0\n",
      "(12, 1.0, 20000, 0.09502883840924743)\n",
      "--------------------\n",
      "{'N': 2, 'alpha': 0.1, 'gamma': 0.0, 'egreedy': 0, 'design': 0.25, 'asynchronous': 1, 'feedback': 1, 'num_actions': 11, 'decay': 0.999, 'verbose': 1}\n",
      "Bidders: 2\n",
      "Learning rate: 0.1\n",
      "Discount factor: 0.0\n",
      "eGreedy 0\n",
      "Asynchronous 1\n",
      "First price: 0.25\n",
      "Feedback: 1\n",
      "Bid space: [0.  0.1 0.2 0.3 0.4 0.5 0.6 0.7 0.8 0.9 1. ]\n",
      "Q-table shape: (2, 11, 11)\n",
      "Epsilon: initial, final and decay rate 1.0 0.01 0.999\n",
      "Beta: initial, final and decay rate 1.0 0.01 0.999\n",
      "Num episodes: 200000\n",
      "10000 0.01 0.01 1.0 0.0\n",
      "(13, 1.0, 10000, 0.16781712785259428)\n",
      "--------------------\n",
      "{'N': 4, 'alpha': 0.5, 'gamma': 0.9, 'egreedy': 1, 'design': 1, 'asynchronous': 1, 'feedback': 1, 'num_actions': 11, 'decay': 0.9999, 'verbose': 1}\n",
      "Bidders: 4\n",
      "Learning rate: 0.5\n",
      "Discount factor: 0.9\n",
      "eGreedy 1\n",
      "Asynchronous 1\n",
      "First price: 1\n",
      "Feedback: 1\n",
      "Bid space: [0.  0.1 0.2 0.3 0.4 0.5 0.6 0.7 0.8 0.9 1. ]\n",
      "Q-table shape: (4, 11, 11)\n",
      "Epsilon: initial, final and decay rate 1.0 0.01 0.9999\n",
      "Beta: initial, final and decay rate 1.0 0.01 0.9999\n",
      "Num episodes: 200000\n",
      "10000 0.37 0.37 0.9 0.09\n",
      "20000 0.14 0.14 0.92 0.05\n",
      "30000 0.05 0.05 0.91 0.03\n",
      "40000 0.02 0.02 0.9 0.02\n",
      "50000 0.01 0.01 0.9 0.01\n",
      "(14, 0.9007000000000003, 50000, 0.0728660243705934)\n",
      "--------------------\n",
      "{'N': 4, 'alpha': 0.1, 'gamma': 0.0, 'egreedy': 1, 'design': 1, 'asynchronous': 0, 'feedback': 1, 'num_actions': 11, 'decay': 0.9999, 'verbose': 1}\n",
      "Bidders: 4\n",
      "Learning rate: 0.1\n",
      "Discount factor: 0.0\n",
      "eGreedy 1\n",
      "Asynchronous 0\n",
      "First price: 1\n",
      "Feedback: 1\n",
      "Bid space: [0.  0.1 0.2 0.3 0.4 0.5 0.6 0.7 0.8 0.9 1. ]\n",
      "Q-table shape: (4, 11, 11)\n",
      "Epsilon: initial, final and decay rate 1.0 0.01 0.9999\n",
      "Beta: initial, final and decay rate 1.0 0.01 0.9999\n",
      "Num episodes: 200000\n",
      "10000 0.37 0.37 0.91 0.05\n",
      "20000 0.14 0.14 0.9 0.02\n",
      "30000 0.05 0.05 0.9 0.01\n",
      "40000 0.02 0.02 0.9 0.0\n",
      "(15, 0.9002000000000002, 40000, 0.05966252837343254)\n",
      "--------------------\n",
      "{'N': 2, 'alpha': 0.5, 'gamma': 0.9, 'egreedy': 0, 'design': 0.25, 'asynchronous': 1, 'feedback': 0, 'num_actions': 11, 'decay': 0.999, 'verbose': 1}\n",
      "Bidders: 2\n",
      "Learning rate: 0.5\n",
      "Discount factor: 0.9\n",
      "eGreedy 0\n",
      "Asynchronous 1\n",
      "First price: 0.25\n",
      "Feedback: 0\n",
      "Bid space: [0.  0.1 0.2 0.3 0.4 0.5 0.6 0.7 0.8 0.9 1. ]\n",
      "Q-table shape: (2, 11)\n",
      "Epsilon: initial, final and decay rate 1.0 0.01 0.999\n",
      "Beta: initial, final and decay rate 1.0 0.01 0.999\n",
      "Num episodes: 200000\n",
      "10000 0.01 0.01 1.0 0.0\n",
      "(16, 1.0, 10000, 0.14033208038261305)\n",
      "--------------------\n",
      "{'N': 2, 'alpha': 0.5, 'gamma': 0.9, 'egreedy': 1, 'design': 0, 'asynchronous': 0, 'feedback': 0, 'num_actions': 11, 'decay': 0.999, 'verbose': 1}\n",
      "Bidders: 2\n",
      "Learning rate: 0.5\n",
      "Discount factor: 0.9\n",
      "eGreedy 1\n",
      "Asynchronous 0\n",
      "First price: 0\n",
      "Feedback: 0\n",
      "Bid space: [0.  0.1 0.2 0.3 0.4 0.5 0.6 0.7 0.8 0.9 1. ]\n",
      "Q-table shape: (2, 11)\n",
      "Epsilon: initial, final and decay rate 1.0 0.01 0.999\n",
      "Beta: initial, final and decay rate 1.0 0.01 0.999\n",
      "Num episodes: 200000\n",
      "10000 0.01 0.01 0.99 0.07\n",
      "20000 0.01 0.01 0.99 0.07\n",
      "30000 0.01 0.01 0.99 0.07\n",
      "40000 0.01 0.01 0.98 0.09\n",
      "50000 0.01 0.01 0.99 0.07\n",
      "60000 0.01 0.01 0.99 0.06\n",
      "70000 0.01 0.01 0.99 0.08\n",
      "80000 0.01 0.01 0.99 0.07\n",
      "90000 0.01 0.01 0.98 0.09\n",
      "100000 0.01 0.01 0.99 0.06\n",
      "110000 0.01 0.01 0.99 0.06\n",
      "120000 0.01 0.01 0.99 0.05\n",
      "130000 0.01 0.01 0.99 0.07\n",
      "140000 0.01 0.01 0.99 0.08\n",
      "150000 0.01 0.01 0.99 0.08\n",
      "160000 0.01 0.01 0.99 0.06\n",
      "170000 0.01 0.01 0.99 0.07\n",
      "180000 0.01 0.01 1.0 0.04\n",
      "190000 0.01 0.01 0.98 0.1\n",
      "(17, 0.9900999999999999, 199999, 0.07254981908833405)\n",
      "--------------------\n",
      "{'N': 4, 'alpha': 0.5, 'gamma': 0.0, 'egreedy': 0, 'design': 0.5, 'asynchronous': 0, 'feedback': 1, 'num_actions': 11, 'decay': 0.999, 'verbose': 1}\n",
      "Bidders: 4\n",
      "Learning rate: 0.5\n",
      "Discount factor: 0.0\n",
      "eGreedy 0\n",
      "Asynchronous 0\n",
      "First price: 0.5\n",
      "Feedback: 1\n",
      "Bid space: [0.  0.1 0.2 0.3 0.4 0.5 0.6 0.7 0.8 0.9 1. ]\n",
      "Q-table shape: (4, 11, 11)\n",
      "Epsilon: initial, final and decay rate 1.0 0.01 0.999\n",
      "Beta: initial, final and decay rate 1.0 0.01 0.999\n",
      "Num episodes: 200000\n",
      "10000 0.01 0.01 1.0 0.03\n"
     ]
    },
    {
     "ename": "KeyboardInterrupt",
     "evalue": "",
     "output_type": "error",
     "traceback": [
      "\u001b[0;31m---------------------------------------------------------------------------\u001b[0m",
      "\u001b[0;31mKeyboardInterrupt\u001b[0m                         Traceback (most recent call last)",
      "Cell \u001b[0;32mIn [531], line 26\u001b[0m\n\u001b[1;32m     23\u001b[0m         sampled_params[key] \u001b[38;5;241m=\u001b[39m value\n\u001b[1;32m     25\u001b[0m \u001b[38;5;28mprint\u001b[39m(sampled_params)\n\u001b[0;32m---> 26\u001b[0m (Y,episode,Y_std,N,alpha,gamma,egreedy,asynchronous,design,feedback,num_actions,decay,Q) \u001b[38;5;241m=\u001b[39m \u001b[43mexperiment\u001b[49m\u001b[43m(\u001b[49m\u001b[38;5;241;43m*\u001b[39;49m\u001b[38;5;241;43m*\u001b[39;49m\u001b[43msampled_params\u001b[49m\u001b[43m)\u001b[49m\n\u001b[1;32m     27\u001b[0m data\u001b[38;5;241m.\u001b[39mappend((Y,episode,Y_std,N,alpha,gamma,egreedy,asynchronous,design,feedback,num_actions,decay))\n\u001b[1;32m     28\u001b[0m \u001b[38;5;28mprint\u001b[39m((_,Y,episode,Y_std))\n",
      "Cell \u001b[0;32mIn [526], line 41\u001b[0m, in \u001b[0;36mexperiment\u001b[0;34m(N, alpha, gamma, egreedy, asynchronous, design, feedback, num_actions, decay, verbose)\u001b[0m\n\u001b[1;32m     38\u001b[0m rewards \u001b[38;5;241m=\u001b[39m actions2rewards(actions,valuations,design,action2bid)\n\u001b[1;32m     40\u001b[0m \u001b[38;5;66;03m# update Q-values\u001b[39;00m\n\u001b[0;32m---> 41\u001b[0m Q \u001b[38;5;241m=\u001b[39m \u001b[43mupdate_qvalues\u001b[49m\u001b[43m(\u001b[49m\u001b[43mrewards\u001b[49m\u001b[43m,\u001b[49m\u001b[43m \u001b[49m\u001b[43mactions\u001b[49m\u001b[43m,\u001b[49m\u001b[43m \u001b[49m\u001b[43mQ\u001b[49m\u001b[43m,\u001b[49m\u001b[43m \u001b[49m\u001b[43mfeedback\u001b[49m\u001b[43m,\u001b[49m\u001b[43m \u001b[49m\u001b[43masynchronous\u001b[49m\u001b[43m,\u001b[49m\u001b[43m \u001b[49m\u001b[43mwinning_action\u001b[49m\u001b[43m,\u001b[49m\u001b[43m \u001b[49m\u001b[43malpha\u001b[49m\u001b[43m,\u001b[49m\u001b[43m \u001b[49m\u001b[43mgamma\u001b[49m\u001b[43m,\u001b[49m\u001b[43m \u001b[49m\u001b[43mvaluations\u001b[49m\u001b[43m,\u001b[49m\u001b[43mdesign\u001b[49m\u001b[43m,\u001b[49m\u001b[43maction2bid\u001b[49m\u001b[43m)\u001b[49m\n\u001b[1;32m     43\u001b[0m \u001b[38;5;66;03m# update exploration params\u001b[39;00m\n\u001b[1;32m     44\u001b[0m eps \u001b[38;5;241m=\u001b[39m \u001b[38;5;28mmax\u001b[39m(min_eps, eps \u001b[38;5;241m*\u001b[39m eps_decay)\n",
      "Cell \u001b[0;32mIn [476], line 13\u001b[0m, in \u001b[0;36mupdate_qvalues\u001b[0;34m(rewards, actions, Q, feedback, asynchronous, winning_bid, alpha, gamma, valuations, design, action2bid)\u001b[0m\n\u001b[1;32m     11\u001b[0m         Q[agent_idx,action] \u001b[38;5;241m=\u001b[39m  (\u001b[38;5;241m1\u001b[39m\u001b[38;5;241m-\u001b[39malpha)\u001b[38;5;241m*\u001b[39mQ[agent_idx,action] \u001b[38;5;241m+\u001b[39m alpha \u001b[38;5;241m*\u001b[39m (reward \u001b[38;5;241m+\u001b[39m gamma \u001b[38;5;241m*\u001b[39m np\u001b[38;5;241m.\u001b[39mmax(Q[agent_idx]))\n\u001b[1;32m     12\u001b[0m \u001b[38;5;28;01melse\u001b[39;00m: \n\u001b[0;32m---> 13\u001b[0m     reward_vec \u001b[38;5;241m=\u001b[39m \u001b[43mcounterfactual_reward\u001b[49m\u001b[43m(\u001b[49m\u001b[43magent_idx\u001b[49m\u001b[43m,\u001b[49m\u001b[43mactions\u001b[49m\u001b[43m,\u001b[49m\u001b[43mvaluations\u001b[49m\u001b[43m,\u001b[49m\u001b[43mdesign\u001b[49m\u001b[43m,\u001b[49m\u001b[43mnum_actions\u001b[49m\u001b[43m,\u001b[49m\u001b[43maction2bid\u001b[49m\u001b[43m)\u001b[49m\n\u001b[1;32m     14\u001b[0m     \u001b[38;5;28;01mif\u001b[39;00m feedback \u001b[38;5;241m==\u001b[39m \u001b[38;5;241m1\u001b[39m:\n\u001b[1;32m     15\u001b[0m         Q[agent_idx,winning_bid,:] \u001b[38;5;241m=\u001b[39m  (\u001b[38;5;241m1\u001b[39m\u001b[38;5;241m-\u001b[39malpha)\u001b[38;5;241m*\u001b[39mQ[agent_idx,winning_bid,:] \u001b[38;5;241m+\u001b[39m alpha \u001b[38;5;241m*\u001b[39m (reward_vec \u001b[38;5;241m+\u001b[39m gamma \u001b[38;5;241m*\u001b[39m np\u001b[38;5;241m.\u001b[39mmax(Q[agent_idx,winning_bid]))\n",
      "Cell \u001b[0;32mIn [471], line 6\u001b[0m, in \u001b[0;36mcounterfactual_reward\u001b[0;34m(agent_idx, actions, valuations, design, num_actions, action2bid)\u001b[0m\n\u001b[1;32m      4\u001b[0m \u001b[38;5;28;01mfor\u001b[39;00m agent_action \u001b[38;5;129;01min\u001b[39;00m \u001b[38;5;28mrange\u001b[39m(num_actions):\n\u001b[1;32m      5\u001b[0m     action_copy[agent_idx] \u001b[38;5;241m=\u001b[39m agent_action\n\u001b[0;32m----> 6\u001b[0m     cf_rewards[agent_action] \u001b[38;5;241m=\u001b[39m \u001b[43mactions2rewards\u001b[49m\u001b[43m(\u001b[49m\u001b[43maction_copy\u001b[49m\u001b[43m,\u001b[49m\u001b[43mvaluations\u001b[49m\u001b[43m,\u001b[49m\u001b[43mdesign\u001b[49m\u001b[43m,\u001b[49m\u001b[43maction2bid\u001b[49m\u001b[43m,\u001b[49m\u001b[43mmethod\u001b[49m\u001b[38;5;241;43m=\u001b[39;49m\u001b[38;5;241;43m1\u001b[39;49m\u001b[43m)\u001b[49m[agent_idx]\n\u001b[1;32m      7\u001b[0m \u001b[38;5;28;01mreturn\u001b[39;00m np\u001b[38;5;241m.\u001b[39marray(cf_rewards)\n",
      "Cell \u001b[0;32mIn [469], line 19\u001b[0m, in \u001b[0;36mactions2rewards\u001b[0;34m(actions, valuations, design, action2bid, method)\u001b[0m\n\u001b[1;32m     17\u001b[0m \u001b[38;5;28;01melse\u001b[39;00m:\n\u001b[1;32m     18\u001b[0m     winning_bid_idx \u001b[38;5;241m=\u001b[39m np\u001b[38;5;241m.\u001b[39mwhere(bids\u001b[38;5;241m==\u001b[39mfirst_highest_value,\u001b[38;5;241m1\u001b[39m,\u001b[38;5;241m0\u001b[39m)\n\u001b[0;32m---> 19\u001b[0m     no_of_winners \u001b[38;5;241m=\u001b[39m \u001b[43mnp\u001b[49m\u001b[38;5;241;43m.\u001b[39;49m\u001b[43msum\u001b[49m\u001b[43m(\u001b[49m\u001b[43mwinning_bid_idx\u001b[49m\u001b[43m)\u001b[49m\n\u001b[1;32m     20\u001b[0m     rewards \u001b[38;5;241m=\u001b[39m (\u001b[38;5;241m1\u001b[39m\u001b[38;5;241m/\u001b[39mno_of_winners) \u001b[38;5;241m*\u001b[39m (valuations \u001b[38;5;241m-\u001b[39m winners_payment) \u001b[38;5;241m*\u001b[39m winning_bid_idx \n\u001b[1;32m     21\u001b[0m \u001b[38;5;28;01mreturn\u001b[39;00m rewards\n",
      "File \u001b[0;32m<__array_function__ internals>:180\u001b[0m, in \u001b[0;36msum\u001b[0;34m(*args, **kwargs)\u001b[0m\n",
      "File \u001b[0;32m/usr/local/lib/python3.10/site-packages/numpy/core/fromnumeric.py:2296\u001b[0m, in \u001b[0;36msum\u001b[0;34m(a, axis, dtype, out, keepdims, initial, where)\u001b[0m\n\u001b[1;32m   2293\u001b[0m         \u001b[38;5;28;01mreturn\u001b[39;00m out\n\u001b[1;32m   2294\u001b[0m     \u001b[38;5;28;01mreturn\u001b[39;00m res\n\u001b[0;32m-> 2296\u001b[0m \u001b[38;5;28;01mreturn\u001b[39;00m \u001b[43m_wrapreduction\u001b[49m\u001b[43m(\u001b[49m\u001b[43ma\u001b[49m\u001b[43m,\u001b[49m\u001b[43m \u001b[49m\u001b[43mnp\u001b[49m\u001b[38;5;241;43m.\u001b[39;49m\u001b[43madd\u001b[49m\u001b[43m,\u001b[49m\u001b[43m \u001b[49m\u001b[38;5;124;43m'\u001b[39;49m\u001b[38;5;124;43msum\u001b[39;49m\u001b[38;5;124;43m'\u001b[39;49m\u001b[43m,\u001b[49m\u001b[43m \u001b[49m\u001b[43maxis\u001b[49m\u001b[43m,\u001b[49m\u001b[43m \u001b[49m\u001b[43mdtype\u001b[49m\u001b[43m,\u001b[49m\u001b[43m \u001b[49m\u001b[43mout\u001b[49m\u001b[43m,\u001b[49m\u001b[43m \u001b[49m\u001b[43mkeepdims\u001b[49m\u001b[38;5;241;43m=\u001b[39;49m\u001b[43mkeepdims\u001b[49m\u001b[43m,\u001b[49m\n\u001b[1;32m   2297\u001b[0m \u001b[43m                      \u001b[49m\u001b[43minitial\u001b[49m\u001b[38;5;241;43m=\u001b[39;49m\u001b[43minitial\u001b[49m\u001b[43m,\u001b[49m\u001b[43m \u001b[49m\u001b[43mwhere\u001b[49m\u001b[38;5;241;43m=\u001b[39;49m\u001b[43mwhere\u001b[49m\u001b[43m)\u001b[49m\n",
      "File \u001b[0;32m/usr/local/lib/python3.10/site-packages/numpy/core/fromnumeric.py:86\u001b[0m, in \u001b[0;36m_wrapreduction\u001b[0;34m(obj, ufunc, method, axis, dtype, out, **kwargs)\u001b[0m\n\u001b[1;32m     83\u001b[0m         \u001b[38;5;28;01melse\u001b[39;00m:\n\u001b[1;32m     84\u001b[0m             \u001b[38;5;28;01mreturn\u001b[39;00m reduction(axis\u001b[38;5;241m=\u001b[39maxis, out\u001b[38;5;241m=\u001b[39mout, \u001b[38;5;241m*\u001b[39m\u001b[38;5;241m*\u001b[39mpasskwargs)\n\u001b[0;32m---> 86\u001b[0m \u001b[38;5;28;01mreturn\u001b[39;00m \u001b[43mufunc\u001b[49m\u001b[38;5;241;43m.\u001b[39;49m\u001b[43mreduce\u001b[49m\u001b[43m(\u001b[49m\u001b[43mobj\u001b[49m\u001b[43m,\u001b[49m\u001b[43m \u001b[49m\u001b[43maxis\u001b[49m\u001b[43m,\u001b[49m\u001b[43m \u001b[49m\u001b[43mdtype\u001b[49m\u001b[43m,\u001b[49m\u001b[43m \u001b[49m\u001b[43mout\u001b[49m\u001b[43m,\u001b[49m\u001b[43m \u001b[49m\u001b[38;5;241;43m*\u001b[39;49m\u001b[38;5;241;43m*\u001b[39;49m\u001b[43mpasskwargs\u001b[49m\u001b[43m)\u001b[49m\n",
      "\u001b[0;31mKeyboardInterrupt\u001b[0m: "
     ]
    }
   ],
   "source": [
    "import random\n",
    "\n",
    "parameters = {'N':[2,4],\n",
    "              'alpha':[0.1,0.5],\n",
    "              'gamma':[0.0,0.9],\n",
    "              'egreedy':[0,1],\n",
    "              'design':[0,0.25,0.5,0.75,1],\n",
    "              'asynchronous':[0,1],\n",
    "              'feedback':[0,1],\n",
    "              'num_actions':[11],\n",
    "              'decay':[0.999,0.9999],\n",
    "              'verbose':[1]\n",
    "             }\n",
    "\n",
    "K = 100  # Number of times to sample\n",
    "data = []\n",
    "for _ in range(K):\n",
    "    sampled_params = {}\n",
    "    for key, value in parameters.items():\n",
    "        if isinstance(value, list):\n",
    "            sampled_params[key] = random.choice(value)\n",
    "        else:\n",
    "            sampled_params[key] = value\n",
    "    \n",
    "    print(sampled_params)\n",
    "    (Y,episode,Y_std,N,alpha,gamma,egreedy,asynchronous,design,feedback,num_actions,decay,Q) = experiment(**sampled_params)\n",
    "    data.append((Y,episode,Y_std,N,alpha,gamma,egreedy,asynchronous,design,feedback,num_actions,decay))\n",
    "    print((_,Y,episode,Y_std))\n",
    "    print(\"-\" * 20)"
   ]
  },
  {
   "cell_type": "markdown",
   "id": "f475a0b3",
   "metadata": {},
   "source": [
    "### Data Collection"
   ]
  },
  {
   "cell_type": "code",
   "execution_count": 532,
   "id": "061e4553",
   "metadata": {},
   "outputs": [],
   "source": [
    "import pandas as pd\n",
    "df = pd.DataFrame(data, columns = ['bid2val','episode','Y_std','N','alpha','gamma','egreedy','asynchronous','design','feedback','num_actions','decay'])\n",
    "df.to_pickle('data_experiment1.pkl')"
   ]
  },
  {
   "cell_type": "code",
   "execution_count": 31,
   "id": "4293ee5d",
   "metadata": {},
   "outputs": [],
   "source": [
    "import pandas as pd\n",
    "df = pd.read_pickle('data_experiment2.pkl')"
   ]
  },
  {
   "cell_type": "code",
   "execution_count": 34,
   "id": "19895751",
   "metadata": {},
   "outputs": [
    {
     "data": {
      "text/html": [
       "<div>\n",
       "<style scoped>\n",
       "    .dataframe tbody tr th:only-of-type {\n",
       "        vertical-align: middle;\n",
       "    }\n",
       "\n",
       "    .dataframe tbody tr th {\n",
       "        vertical-align: top;\n",
       "    }\n",
       "\n",
       "    .dataframe thead th {\n",
       "        text-align: right;\n",
       "    }\n",
       "</style>\n",
       "<table border=\"1\" class=\"dataframe\">\n",
       "  <thead>\n",
       "    <tr style=\"text-align: right;\">\n",
       "      <th></th>\n",
       "      <th>bid2val</th>\n",
       "      <th>episode</th>\n",
       "      <th>Y_std</th>\n",
       "      <th>Y_min</th>\n",
       "      <th>Y_max</th>\n",
       "      <th>N</th>\n",
       "      <th>alpha</th>\n",
       "      <th>gamma</th>\n",
       "      <th>egreedy</th>\n",
       "      <th>asynchronous</th>\n",
       "      <th>design</th>\n",
       "      <th>feedback</th>\n",
       "      <th>num_actions</th>\n",
       "      <th>decay</th>\n",
       "    </tr>\n",
       "  </thead>\n",
       "  <tbody>\n",
       "    <tr>\n",
       "      <th>0</th>\n",
       "      <td>1.0000</td>\n",
       "      <td>50000</td>\n",
       "      <td>0.000000</td>\n",
       "      <td>1.0</td>\n",
       "      <td>1.0</td>\n",
       "      <td>4</td>\n",
       "      <td>0.01</td>\n",
       "      <td>0.00</td>\n",
       "      <td>0</td>\n",
       "      <td>1</td>\n",
       "      <td>0</td>\n",
       "      <td>1</td>\n",
       "      <td>11</td>\n",
       "      <td>0.99990</td>\n",
       "    </tr>\n",
       "    <tr>\n",
       "      <th>1</th>\n",
       "      <td>1.0000</td>\n",
       "      <td>100000</td>\n",
       "      <td>0.000000</td>\n",
       "      <td>1.0</td>\n",
       "      <td>1.0</td>\n",
       "      <td>2</td>\n",
       "      <td>0.01</td>\n",
       "      <td>0.95</td>\n",
       "      <td>1</td>\n",
       "      <td>0</td>\n",
       "      <td>0</td>\n",
       "      <td>0</td>\n",
       "      <td>6</td>\n",
       "      <td>0.99995</td>\n",
       "    </tr>\n",
       "    <tr>\n",
       "      <th>2</th>\n",
       "      <td>0.9902</td>\n",
       "      <td>249999</td>\n",
       "      <td>0.046733</td>\n",
       "      <td>0.4</td>\n",
       "      <td>1.0</td>\n",
       "      <td>2</td>\n",
       "      <td>0.01</td>\n",
       "      <td>0.00</td>\n",
       "      <td>0</td>\n",
       "      <td>0</td>\n",
       "      <td>0</td>\n",
       "      <td>1</td>\n",
       "      <td>6</td>\n",
       "      <td>0.99990</td>\n",
       "    </tr>\n",
       "    <tr>\n",
       "      <th>3</th>\n",
       "      <td>0.9864</td>\n",
       "      <td>249999</td>\n",
       "      <td>0.037617</td>\n",
       "      <td>0.7</td>\n",
       "      <td>1.0</td>\n",
       "      <td>2</td>\n",
       "      <td>0.01</td>\n",
       "      <td>0.95</td>\n",
       "      <td>0</td>\n",
       "      <td>0</td>\n",
       "      <td>0</td>\n",
       "      <td>1</td>\n",
       "      <td>11</td>\n",
       "      <td>0.99995</td>\n",
       "    </tr>\n",
       "    <tr>\n",
       "      <th>4</th>\n",
       "      <td>0.8006</td>\n",
       "      <td>249999</td>\n",
       "      <td>0.010938</td>\n",
       "      <td>0.8</td>\n",
       "      <td>1.0</td>\n",
       "      <td>2</td>\n",
       "      <td>0.10</td>\n",
       "      <td>0.00</td>\n",
       "      <td>1</td>\n",
       "      <td>1</td>\n",
       "      <td>1</td>\n",
       "      <td>0</td>\n",
       "      <td>6</td>\n",
       "      <td>0.99990</td>\n",
       "    </tr>\n",
       "  </tbody>\n",
       "</table>\n",
       "</div>"
      ],
      "text/plain": [
       "   bid2val  episode     Y_std  Y_min  Y_max  N  alpha  gamma  egreedy  \\\n",
       "0   1.0000    50000  0.000000    1.0    1.0  4   0.01   0.00        0   \n",
       "1   1.0000   100000  0.000000    1.0    1.0  2   0.01   0.95        1   \n",
       "2   0.9902   249999  0.046733    0.4    1.0  2   0.01   0.00        0   \n",
       "3   0.9864   249999  0.037617    0.7    1.0  2   0.01   0.95        0   \n",
       "4   0.8006   249999  0.010938    0.8    1.0  2   0.10   0.00        1   \n",
       "\n",
       "   asynchronous  design  feedback  num_actions    decay  \n",
       "0             1       0         1           11  0.99990  \n",
       "1             0       0         0            6  0.99995  \n",
       "2             0       0         1            6  0.99990  \n",
       "3             0       0         1           11  0.99995  \n",
       "4             1       1         0            6  0.99990  "
      ]
     },
     "execution_count": 34,
     "metadata": {},
     "output_type": "execute_result"
    }
   ],
   "source": [
    "df.head()"
   ]
  },
  {
   "cell_type": "code",
   "execution_count": 70,
   "id": "9e8e35f7",
   "metadata": {},
   "outputs": [],
   "source": [
    "df3 = df['bid2val','N','alpha','gamma','egreedy','asynchronous','design','feedback','num_actions']"
   ]
  },
  {
   "cell_type": "code",
   "execution_count": 1,
   "id": "fc7c6376",
   "metadata": {},
   "outputs": [],
   "source": [
    "import pandas as pd\n",
    "df3 = pd.read_pickle('data_main.pkl')"
   ]
  },
  {
   "cell_type": "code",
   "execution_count": 2,
   "id": "076aa8bc",
   "metadata": {},
   "outputs": [
    {
     "data": {
      "text/plain": [
       "((374, 10), (374, 10))"
      ]
     },
     "execution_count": 2,
     "metadata": {},
     "output_type": "execute_result"
    }
   ],
   "source": [
    "df3.shape,  df3.shape"
   ]
  },
  {
   "cell_type": "code",
   "execution_count": 3,
   "id": "338dc0e4",
   "metadata": {},
   "outputs": [],
   "source": [
    "df3.to_csv('null_exp.csv')"
   ]
  },
  {
   "cell_type": "code",
   "execution_count": 103,
   "id": "6576be5d",
   "metadata": {},
   "outputs": [],
   "source": [
    "df3 = pd.concat([df3,df],axis=0)"
   ]
  },
  {
   "cell_type": "code",
   "execution_count": 108,
   "id": "14ed7cfc",
   "metadata": {},
   "outputs": [],
   "source": [
    "df3=df"
   ]
  },
  {
   "cell_type": "code",
   "execution_count": 109,
   "id": "5e0e5fbc",
   "metadata": {},
   "outputs": [],
   "source": [
    "df3.to_pickle('data_main3.pkl')"
   ]
  },
  {
   "cell_type": "code",
   "execution_count": 36,
   "id": "acec898f",
   "metadata": {},
   "outputs": [],
   "source": [
    "df3 = df[['bid2val','N','alpha','gamma','egreedy','asynchronous','design','feedback','num_actions','decay']]"
   ]
  },
  {
   "cell_type": "markdown",
   "id": "fb0b2b9a",
   "metadata": {},
   "source": [
    "### Analysis"
   ]
  },
  {
   "cell_type": "code",
   "execution_count": 37,
   "id": "0b04bd1b",
   "metadata": {},
   "outputs": [
    {
     "data": {
      "text/plain": [
       "<AxesSubplot: >"
      ]
     },
     "execution_count": 37,
     "metadata": {},
     "output_type": "execute_result"
    },
    {
     "data": {
      "image/png": "[encoded data removed]",
      "text/plain": [
       "<Figure size 640x480 with 1 Axes>"
      ]
     },
     "metadata": {},
     "output_type": "display_data"
    }
   ],
   "source": [
    "df3.bid2val.hist(bins=30)"
   ]
  },
  {
   "cell_type": "code",
   "execution_count": 38,
   "id": "20a4fdea",
   "metadata": {},
   "outputs": [
    {
     "data": {
      "text/plain": [
       "<AxesSubplot: >"
      ]
     },
     "execution_count": 38,
     "metadata": {},
     "output_type": "execute_result"
    },
    {
     "data": {
      "image/png": "[encoded data removed]",
      "text/plain": [
       "<Figure size 640x480 with 1 Axes>"
      ]
     },
     "metadata": {},
     "output_type": "display_data"
    }
   ],
   "source": [
    "df3.asynchronous.hist(bins=30)"
   ]
  },
  {
   "cell_type": "code",
   "execution_count": 39,
   "id": "aefc8f8e",
   "metadata": {},
   "outputs": [
    {
     "data": {
      "text/plain": [
       "<AxesSubplot: >"
      ]
     },
     "execution_count": 39,
     "metadata": {},
     "output_type": "execute_result"
    },
    {
     "data": {
      "image/png": "[encoded data removed]",
      "text/plain": [
       "<Figure size 640x480 with 1 Axes>"
      ]
     },
     "metadata": {},
     "output_type": "display_data"
    }
   ],
   "source": [
    "df3.design.hist(bins=30)"
   ]
  },
  {
   "cell_type": "code",
   "execution_count": 40,
   "id": "1423be54",
   "metadata": {},
   "outputs": [
    {
     "data": {
      "text/plain": [
       "<AxesSubplot: >"
      ]
     },
     "execution_count": 40,
     "metadata": {},
     "output_type": "execute_result"
    },
    {
     "data": {
      "image/png": "[encoded data removed]",
      "text/plain": [
       "<Figure size 640x480 with 1 Axes>"
      ]
     },
     "metadata": {},
     "output_type": "display_data"
    }
   ],
   "source": [
    "df3.asynchronous.hist(bins=30)"
   ]
  },
  {
   "cell_type": "code",
   "execution_count": 41,
   "id": "cad73860",
   "metadata": {},
   "outputs": [
    {
     "data": {
      "text/html": [
       "<div>\n",
       "<style scoped>\n",
       "    .dataframe tbody tr th:only-of-type {\n",
       "        vertical-align: middle;\n",
       "    }\n",
       "\n",
       "    .dataframe tbody tr th {\n",
       "        vertical-align: top;\n",
       "    }\n",
       "\n",
       "    .dataframe thead th {\n",
       "        text-align: right;\n",
       "    }\n",
       "</style>\n",
       "<table border=\"1\" class=\"dataframe\">\n",
       "  <thead>\n",
       "    <tr style=\"text-align: right;\">\n",
       "      <th></th>\n",
       "      <th>bid2val</th>\n",
       "      <th>N</th>\n",
       "      <th>alpha</th>\n",
       "      <th>gamma</th>\n",
       "      <th>egreedy</th>\n",
       "      <th>asynchronous</th>\n",
       "      <th>design</th>\n",
       "      <th>feedback</th>\n",
       "      <th>num_actions</th>\n",
       "      <th>decay</th>\n",
       "    </tr>\n",
       "  </thead>\n",
       "  <tbody>\n",
       "    <tr>\n",
       "      <th>0</th>\n",
       "      <td>1.0000</td>\n",
       "      <td>4</td>\n",
       "      <td>0.01</td>\n",
       "      <td>0.00</td>\n",
       "      <td>0</td>\n",
       "      <td>1</td>\n",
       "      <td>0</td>\n",
       "      <td>1</td>\n",
       "      <td>11</td>\n",
       "      <td>0.99990</td>\n",
       "    </tr>\n",
       "    <tr>\n",
       "      <th>1</th>\n",
       "      <td>1.0000</td>\n",
       "      <td>2</td>\n",
       "      <td>0.01</td>\n",
       "      <td>0.95</td>\n",
       "      <td>1</td>\n",
       "      <td>0</td>\n",
       "      <td>0</td>\n",
       "      <td>0</td>\n",
       "      <td>6</td>\n",
       "      <td>0.99995</td>\n",
       "    </tr>\n",
       "    <tr>\n",
       "      <th>2</th>\n",
       "      <td>0.9902</td>\n",
       "      <td>2</td>\n",
       "      <td>0.01</td>\n",
       "      <td>0.00</td>\n",
       "      <td>0</td>\n",
       "      <td>0</td>\n",
       "      <td>0</td>\n",
       "      <td>1</td>\n",
       "      <td>6</td>\n",
       "      <td>0.99990</td>\n",
       "    </tr>\n",
       "    <tr>\n",
       "      <th>3</th>\n",
       "      <td>0.9864</td>\n",
       "      <td>2</td>\n",
       "      <td>0.01</td>\n",
       "      <td>0.95</td>\n",
       "      <td>0</td>\n",
       "      <td>0</td>\n",
       "      <td>0</td>\n",
       "      <td>1</td>\n",
       "      <td>11</td>\n",
       "      <td>0.99995</td>\n",
       "    </tr>\n",
       "    <tr>\n",
       "      <th>4</th>\n",
       "      <td>0.8006</td>\n",
       "      <td>2</td>\n",
       "      <td>0.10</td>\n",
       "      <td>0.00</td>\n",
       "      <td>1</td>\n",
       "      <td>1</td>\n",
       "      <td>1</td>\n",
       "      <td>0</td>\n",
       "      <td>6</td>\n",
       "      <td>0.99990</td>\n",
       "    </tr>\n",
       "    <tr>\n",
       "      <th>5</th>\n",
       "      <td>0.4728</td>\n",
       "      <td>2</td>\n",
       "      <td>0.10</td>\n",
       "      <td>0.95</td>\n",
       "      <td>1</td>\n",
       "      <td>1</td>\n",
       "      <td>1</td>\n",
       "      <td>1</td>\n",
       "      <td>6</td>\n",
       "      <td>0.99995</td>\n",
       "    </tr>\n",
       "    <tr>\n",
       "      <th>6</th>\n",
       "      <td>1.0000</td>\n",
       "      <td>4</td>\n",
       "      <td>0.10</td>\n",
       "      <td>0.00</td>\n",
       "      <td>1</td>\n",
       "      <td>0</td>\n",
       "      <td>0</td>\n",
       "      <td>0</td>\n",
       "      <td>11</td>\n",
       "      <td>0.99995</td>\n",
       "    </tr>\n",
       "    <tr>\n",
       "      <th>7</th>\n",
       "      <td>0.9900</td>\n",
       "      <td>2</td>\n",
       "      <td>0.01</td>\n",
       "      <td>0.95</td>\n",
       "      <td>0</td>\n",
       "      <td>0</td>\n",
       "      <td>0</td>\n",
       "      <td>0</td>\n",
       "      <td>6</td>\n",
       "      <td>0.99990</td>\n",
       "    </tr>\n",
       "    <tr>\n",
       "      <th>8</th>\n",
       "      <td>1.0000</td>\n",
       "      <td>2</td>\n",
       "      <td>0.10</td>\n",
       "      <td>0.95</td>\n",
       "      <td>0</td>\n",
       "      <td>1</td>\n",
       "      <td>0</td>\n",
       "      <td>0</td>\n",
       "      <td>11</td>\n",
       "      <td>0.99990</td>\n",
       "    </tr>\n",
       "    <tr>\n",
       "      <th>9</th>\n",
       "      <td>1.0000</td>\n",
       "      <td>4</td>\n",
       "      <td>0.10</td>\n",
       "      <td>0.95</td>\n",
       "      <td>1</td>\n",
       "      <td>1</td>\n",
       "      <td>0</td>\n",
       "      <td>0</td>\n",
       "      <td>6</td>\n",
       "      <td>0.99990</td>\n",
       "    </tr>\n",
       "    <tr>\n",
       "      <th>10</th>\n",
       "      <td>0.9031</td>\n",
       "      <td>4</td>\n",
       "      <td>0.10</td>\n",
       "      <td>0.95</td>\n",
       "      <td>0</td>\n",
       "      <td>1</td>\n",
       "      <td>1</td>\n",
       "      <td>0</td>\n",
       "      <td>11</td>\n",
       "      <td>0.99995</td>\n",
       "    </tr>\n",
       "    <tr>\n",
       "      <th>11</th>\n",
       "      <td>0.9960</td>\n",
       "      <td>2</td>\n",
       "      <td>0.10</td>\n",
       "      <td>0.00</td>\n",
       "      <td>1</td>\n",
       "      <td>1</td>\n",
       "      <td>0</td>\n",
       "      <td>0</td>\n",
       "      <td>11</td>\n",
       "      <td>0.99995</td>\n",
       "    </tr>\n",
       "    <tr>\n",
       "      <th>12</th>\n",
       "      <td>0.8042</td>\n",
       "      <td>4</td>\n",
       "      <td>0.10</td>\n",
       "      <td>0.00</td>\n",
       "      <td>0</td>\n",
       "      <td>0</td>\n",
       "      <td>1</td>\n",
       "      <td>1</td>\n",
       "      <td>6</td>\n",
       "      <td>0.99995</td>\n",
       "    </tr>\n",
       "    <tr>\n",
       "      <th>13</th>\n",
       "      <td>0.9001</td>\n",
       "      <td>4</td>\n",
       "      <td>0.01</td>\n",
       "      <td>0.00</td>\n",
       "      <td>1</td>\n",
       "      <td>1</td>\n",
       "      <td>1</td>\n",
       "      <td>1</td>\n",
       "      <td>11</td>\n",
       "      <td>0.99995</td>\n",
       "    </tr>\n",
       "    <tr>\n",
       "      <th>14</th>\n",
       "      <td>0.8048</td>\n",
       "      <td>4</td>\n",
       "      <td>0.10</td>\n",
       "      <td>0.00</td>\n",
       "      <td>0</td>\n",
       "      <td>0</td>\n",
       "      <td>1</td>\n",
       "      <td>0</td>\n",
       "      <td>6</td>\n",
       "      <td>0.99990</td>\n",
       "    </tr>\n",
       "    <tr>\n",
       "      <th>15</th>\n",
       "      <td>1.0000</td>\n",
       "      <td>2</td>\n",
       "      <td>0.10</td>\n",
       "      <td>0.00</td>\n",
       "      <td>0</td>\n",
       "      <td>1</td>\n",
       "      <td>0</td>\n",
       "      <td>0</td>\n",
       "      <td>11</td>\n",
       "      <td>0.99995</td>\n",
       "    </tr>\n",
       "    <tr>\n",
       "      <th>16</th>\n",
       "      <td>1.0000</td>\n",
       "      <td>4</td>\n",
       "      <td>0.10</td>\n",
       "      <td>0.00</td>\n",
       "      <td>1</td>\n",
       "      <td>1</td>\n",
       "      <td>0</td>\n",
       "      <td>1</td>\n",
       "      <td>11</td>\n",
       "      <td>0.99995</td>\n",
       "    </tr>\n",
       "    <tr>\n",
       "      <th>17</th>\n",
       "      <td>0.8014</td>\n",
       "      <td>4</td>\n",
       "      <td>0.10</td>\n",
       "      <td>0.00</td>\n",
       "      <td>1</td>\n",
       "      <td>0</td>\n",
       "      <td>1</td>\n",
       "      <td>0</td>\n",
       "      <td>6</td>\n",
       "      <td>0.99995</td>\n",
       "    </tr>\n",
       "    <tr>\n",
       "      <th>18</th>\n",
       "      <td>0.8038</td>\n",
       "      <td>4</td>\n",
       "      <td>0.01</td>\n",
       "      <td>0.00</td>\n",
       "      <td>0</td>\n",
       "      <td>1</td>\n",
       "      <td>1</td>\n",
       "      <td>1</td>\n",
       "      <td>6</td>\n",
       "      <td>0.99990</td>\n",
       "    </tr>\n",
       "    <tr>\n",
       "      <th>19</th>\n",
       "      <td>1.0000</td>\n",
       "      <td>2</td>\n",
       "      <td>0.10</td>\n",
       "      <td>0.95</td>\n",
       "      <td>0</td>\n",
       "      <td>1</td>\n",
       "      <td>0</td>\n",
       "      <td>0</td>\n",
       "      <td>11</td>\n",
       "      <td>0.99990</td>\n",
       "    </tr>\n",
       "  </tbody>\n",
       "</table>\n",
       "</div>"
      ],
      "text/plain": [
       "    bid2val  N  alpha  gamma  egreedy  asynchronous  design  feedback  \\\n",
       "0    1.0000  4   0.01   0.00        0             1       0         1   \n",
       "1    1.0000  2   0.01   0.95        1             0       0         0   \n",
       "2    0.9902  2   0.01   0.00        0             0       0         1   \n",
       "3    0.9864  2   0.01   0.95        0             0       0         1   \n",
       "4    0.8006  2   0.10   0.00        1             1       1         0   \n",
       "5    0.4728  2   0.10   0.95        1             1       1         1   \n",
       "6    1.0000  4   0.10   0.00        1             0       0         0   \n",
       "7    0.9900  2   0.01   0.95        0             0       0         0   \n",
       "8    1.0000  2   0.10   0.95        0             1       0         0   \n",
       "9    1.0000  4   0.10   0.95        1             1       0         0   \n",
       "10   0.9031  4   0.10   0.95        0             1       1         0   \n",
       "11   0.9960  2   0.10   0.00        1             1       0         0   \n",
       "12   0.8042  4   0.10   0.00        0             0       1         1   \n",
       "13   0.9001  4   0.01   0.00        1             1       1         1   \n",
       "14   0.8048  4   0.10   0.00        0             0       1         0   \n",
       "15   1.0000  2   0.10   0.00        0             1       0         0   \n",
       "16   1.0000  4   0.10   0.00        1             1       0         1   \n",
       "17   0.8014  4   0.10   0.00        1             0       1         0   \n",
       "18   0.8038  4   0.01   0.00        0             1       1         1   \n",
       "19   1.0000  2   0.10   0.95        0             1       0         0   \n",
       "\n",
       "    num_actions    decay  \n",
       "0            11  0.99990  \n",
       "1             6  0.99995  \n",
       "2             6  0.99990  \n",
       "3            11  0.99995  \n",
       "4             6  0.99990  \n",
       "5             6  0.99995  \n",
       "6            11  0.99995  \n",
       "7             6  0.99990  \n",
       "8            11  0.99990  \n",
       "9             6  0.99990  \n",
       "10           11  0.99995  \n",
       "11           11  0.99995  \n",
       "12            6  0.99995  \n",
       "13           11  0.99995  \n",
       "14            6  0.99990  \n",
       "15           11  0.99995  \n",
       "16           11  0.99995  \n",
       "17            6  0.99995  \n",
       "18            6  0.99990  \n",
       "19           11  0.99990  "
      ]
     },
     "execution_count": 41,
     "metadata": {},
     "output_type": "execute_result"
    }
   ],
   "source": [
    "df3.head(20)"
   ]
  },
  {
   "cell_type": "markdown",
   "id": "9efadfde",
   "metadata": {},
   "source": [
    "### Box plots"
   ]
  },
  {
   "cell_type": "code",
   "execution_count": 42,
   "id": "0e497120",
   "metadata": {},
   "outputs": [
    {
     "data": {
      "text/plain": [
       "<AxesSubplot: xlabel='asynchronous', ylabel='bid2val'>"
      ]
     },
     "execution_count": 42,
     "metadata": {},
     "output_type": "execute_result"
    },
    {
     "data": {
      "image/png": "[encoded data removed]",
      "text/plain": [
       "<Figure size 640x480 with 1 Axes>"
      ]
     },
     "metadata": {},
     "output_type": "display_data"
    }
   ],
   "source": [
    "import seaborn as sns\n",
    "sns.boxplot(data=df3, x=\"asynchronous\", y=\"bid2val\")"
   ]
  },
  {
   "cell_type": "code",
   "execution_count": 43,
   "id": "e268e78a",
   "metadata": {},
   "outputs": [
    {
     "data": {
      "text/plain": [
       "<AxesSubplot: xlabel='design', ylabel='bid2val'>"
      ]
     },
     "execution_count": 43,
     "metadata": {},
     "output_type": "execute_result"
    },
    {
     "data": {
      "image/png": "[encoded data removed]",
      "text/plain": [
       "<Figure size 640x480 with 1 Axes>"
      ]
     },
     "metadata": {},
     "output_type": "display_data"
    }
   ],
   "source": [
    "import seaborn as sns\n",
    "sns.boxplot(data=df3, x=\"design\", y=\"bid2val\")"
   ]
  },
  {
   "cell_type": "code",
   "execution_count": 44,
   "id": "993a20f2",
   "metadata": {},
   "outputs": [
    {
     "data": {
      "text/plain": [
       "<AxesSubplot: xlabel='feedback', ylabel='bid2val'>"
      ]
     },
     "execution_count": 44,
     "metadata": {},
     "output_type": "execute_result"
    },
    {
     "data": {
      "image/png": "[encoded data removed]",
      "text/plain": [
       "<Figure size 640x480 with 1 Axes>"
      ]
     },
     "metadata": {},
     "output_type": "display_data"
    }
   ],
   "source": [
    "import seaborn as sns\n",
    "sns.boxplot(data=df3, x=\"feedback\", y=\"bid2val\")"
   ]
  },
  {
   "cell_type": "markdown",
   "id": "c003f07f",
   "metadata": {},
   "source": [
    "### Regression"
   ]
  },
  {
   "cell_type": "code",
   "execution_count": 45,
   "id": "d4dddfd8",
   "metadata": {
    "scrolled": false
   },
   "outputs": [
    {
     "name": "stdout",
     "output_type": "stream",
     "text": [
      "                            OLS Regression Results                            \n",
      "==============================================================================\n",
      "Dep. Variable:                bid2val   R-squared:                       0.591\n",
      "Model:                            OLS   Adj. R-squared:                  0.501\n",
      "Method:                 Least Squares   F-statistic:                     6.589\n",
      "Date:                Thu, 08 Jun 2023   Prob (F-statistic):           9.31e-06\n",
      "Time:                        02:58:29   Log-Likelihood:                 46.964\n",
      "No. Observations:                  51   AIC:                            -73.93\n",
      "Df Residuals:                      41   BIC:                            -54.61\n",
      "Df Model:                           9                                         \n",
      "Covariance Type:            nonrobust                                         \n",
      "================================================================================\n",
      "                   coef    std err          t      P>|t|      [0.025      0.975]\n",
      "--------------------------------------------------------------------------------\n",
      "Intercept      570.2548    650.798      0.876      0.386    -744.059    1884.568\n",
      "N                0.0358      0.016      2.300      0.027       0.004       0.067\n",
      "alpha           -0.4608      0.357     -1.289      0.205      -1.183       0.261\n",
      "gamma           -0.0173      0.035     -0.500      0.620      -0.087       0.053\n",
      "egreedy         -0.0063      0.031     -0.201      0.842      -0.070       0.057\n",
      "design          -0.2133      0.032     -6.761      0.000      -0.277      -0.150\n",
      "asynchronous    -0.0371      0.035     -1.074      0.289      -0.107       0.033\n",
      "feedback        -0.0246      0.034     -0.716      0.478      -0.094       0.045\n",
      "num_actions      0.0062      0.007      0.895      0.376      -0.008       0.020\n",
      "decay         -569.3905    650.861     -0.875      0.387   -1883.831     745.050\n",
      "==============================================================================\n",
      "Omnibus:                       66.867   Durbin-Watson:                   1.995\n",
      "Prob(Omnibus):                  0.000   Jarque-Bera (JB):              669.031\n",
      "Skew:                          -3.353   Prob(JB):                    5.27e-146\n",
      "Kurtosis:                      19.427   Cond. No.                     5.66e+05\n",
      "==============================================================================\n",
      "\n",
      "Notes:\n",
      "[1] Standard Errors assume that the covariance matrix of the errors is correctly specified.\n",
      "[2] The condition number is large, 5.66e+05. This might indicate that there are\n",
      "strong multicollinearity or other numerical problems.\n"
     ]
    }
   ],
   "source": [
    "import numpy as np\n",
    "import statsmodels.api as sm\n",
    "import statsmodels.formula.api as smf\n",
    "results = smf.ols('bid2val ~ N + alpha + gamma + egreedy + design + asynchronous + feedback + num_actions + decay', data =df3).fit()\n",
    "print(results.summary())"
   ]
  },
  {
   "cell_type": "markdown",
   "id": "c9a7b67c",
   "metadata": {},
   "source": [
    "### Predictive performance"
   ]
  },
  {
   "cell_type": "code",
   "execution_count": 52,
   "id": "cad10468",
   "metadata": {},
   "outputs": [
    {
     "name": "stdout",
     "output_type": "stream",
     "text": [
      "Cross-validation scores: [0.59570677 0.35056523 0.66883258]\n",
      "Average R-squared: 0.5383681937079458\n"
     ]
    }
   ],
   "source": [
    "y = df3['bid2val']\n",
    "X = df3.drop(['bid2val'],axis=1)\n",
    "from sklearn.ensemble import RandomForestRegressor\n",
    "from sklearn.ensemble import RandomForestRegressor\n",
    "from sklearn.model_selection import cross_val_score, KFold\n",
    "# Create a Random Forest regressor\n",
    "rf_regressor = RandomForestRegressor(n_estimators=100,max_depth=6)\n",
    "# Define the number of folds for cross-validation\n",
    "k_folds = 3\n",
    "# Perform cross-validation\n",
    "kf = KFold(n_splits=k_folds, shuffle=True)\n",
    "cross_val_scores = cross_val_score(rf_regressor, X, y, cv=kf, scoring='r2')\n",
    "# Print the performance metrics\n",
    "print(\"Cross-validation scores:\", cross_val_scores)\n",
    "print(\"Average R-squared:\", cross_val_scores.mean())"
   ]
  },
  {
   "cell_type": "markdown",
   "id": "08b59b8c",
   "metadata": {},
   "source": [
    "### feature importance"
   ]
  },
  {
   "cell_type": "code",
   "execution_count": 53,
   "id": "bc036947",
   "metadata": {},
   "outputs": [
    {
     "name": "stdout",
     "output_type": "stream",
     "text": [
      "Feature Importance Ranking:\n",
      "1. Feature 6: 0.6152535118888801\n",
      "2. Feature 1: 0.11394416181249142\n",
      "3. Feature 8: 0.09181007317447744\n",
      "4. Feature 9: 0.05592857567903205\n",
      "5. Feature 5: 0.04193251273913815\n",
      "6. Feature 3: 0.034620300298662844\n",
      "7. Feature 7: 0.022658734814279387\n",
      "8. Feature 4: 0.012920889297323422\n",
      "9. Feature 2: 0.010931240295715227\n"
     ]
    }
   ],
   "source": [
    "rf_regressor.fit(X, y)\n",
    "# Get feature importances\n",
    "importances = rf_regressor.feature_importances_\n",
    "\n",
    "# Get the indices that would sort the importances in descending order\n",
    "indices = np.argsort(importances)[::-1]\n",
    "\n",
    "# Print feature importance ranking\n",
    "print(\"Feature Importance Ranking:\")\n",
    "for i, idx in enumerate(indices):\n",
    "    print(f\"{i + 1}. Feature {idx + 1}: {importances[idx]}\")"
   ]
  },
  {
   "cell_type": "code",
   "execution_count": 55,
   "id": "4fa928e1",
   "metadata": {},
   "outputs": [
    {
     "data": {
      "text/html": [
       "\n",
       "    <style>\n",
       "    table.eli5-weights tr:hover {\n",
       "        filter: brightness(85%);\n",
       "    }\n",
       "</style>\n",
       "\n",
       "\n",
       "\n",
       "    \n",
       "\n",
       "    \n",
       "\n",
       "    \n",
       "\n",
       "    \n",
       "\n",
       "    \n",
       "\n",
       "    \n",
       "\n",
       "\n",
       "    \n",
       "\n",
       "    \n",
       "\n",
       "    \n",
       "\n",
       "    \n",
       "\n",
       "    \n",
       "\n",
       "    \n",
       "\n",
       "\n",
       "    \n",
       "\n",
       "    \n",
       "\n",
       "    \n",
       "\n",
       "    \n",
       "\n",
       "    \n",
       "        <table class=\"eli5-weights eli5-feature-importances\" style=\"border-collapse: collapse; border: none; margin-top: 0em; table-layout: auto;\">\n",
       "    <thead>\n",
       "    <tr style=\"border: none;\">\n",
       "        <th style=\"padding: 0 1em 0 0.5em; text-align: right; border: none;\">Weight</th>\n",
       "        <th style=\"padding: 0 0.5em 0 0.5em; text-align: left; border: none;\">Feature</th>\n",
       "    </tr>\n",
       "    </thead>\n",
       "    <tbody>\n",
       "    \n",
       "        <tr style=\"background-color: hsl(120, 100.00%, 80.00%); border: none;\">\n",
       "            <td style=\"padding: 0 1em 0 0.5em; text-align: right; border: none;\">\n",
       "                1.3300\n",
       "                \n",
       "                    &plusmn; 0.3673\n",
       "                \n",
       "            </td>\n",
       "            <td style=\"padding: 0 0.5em 0 0.5em; text-align: left; border: none;\">\n",
       "                x5\n",
       "            </td>\n",
       "        </tr>\n",
       "    \n",
       "        <tr style=\"background-color: hsl(120, 100.00%, 91.52%); border: none;\">\n",
       "            <td style=\"padding: 0 1em 0 0.5em; text-align: right; border: none;\">\n",
       "                0.3906\n",
       "                \n",
       "                    &plusmn; 0.4281\n",
       "                \n",
       "            </td>\n",
       "            <td style=\"padding: 0 0.5em 0 0.5em; text-align: left; border: none;\">\n",
       "                x0\n",
       "            </td>\n",
       "        </tr>\n",
       "    \n",
       "        <tr style=\"background-color: hsl(120, 100.00%, 97.69%); border: none;\">\n",
       "            <td style=\"padding: 0 1em 0 0.5em; text-align: right; border: none;\">\n",
       "                0.0608\n",
       "                \n",
       "                    &plusmn; 0.0404\n",
       "                \n",
       "            </td>\n",
       "            <td style=\"padding: 0 0.5em 0 0.5em; text-align: left; border: none;\">\n",
       "                x7\n",
       "            </td>\n",
       "        </tr>\n",
       "    \n",
       "        <tr style=\"background-color: hsl(120, 100.00%, 98.31%); border: none;\">\n",
       "            <td style=\"padding: 0 1em 0 0.5em; text-align: right; border: none;\">\n",
       "                0.0391\n",
       "                \n",
       "                    &plusmn; 0.0579\n",
       "                \n",
       "            </td>\n",
       "            <td style=\"padding: 0 0.5em 0 0.5em; text-align: left; border: none;\">\n",
       "                x4\n",
       "            </td>\n",
       "        </tr>\n",
       "    \n",
       "        <tr style=\"background-color: hsl(120, 100.00%, 98.54%); border: none;\">\n",
       "            <td style=\"padding: 0 1em 0 0.5em; text-align: right; border: none;\">\n",
       "                0.0317\n",
       "                \n",
       "                    &plusmn; 0.0366\n",
       "                \n",
       "            </td>\n",
       "            <td style=\"padding: 0 0.5em 0 0.5em; text-align: left; border: none;\">\n",
       "                x2\n",
       "            </td>\n",
       "        </tr>\n",
       "    \n",
       "        <tr style=\"background-color: hsl(120, 100.00%, 99.35%); border: none;\">\n",
       "            <td style=\"padding: 0 1em 0 0.5em; text-align: right; border: none;\">\n",
       "                0.0100\n",
       "                \n",
       "                    &plusmn; 0.0712\n",
       "                \n",
       "            </td>\n",
       "            <td style=\"padding: 0 0.5em 0 0.5em; text-align: left; border: none;\">\n",
       "                x8\n",
       "            </td>\n",
       "        </tr>\n",
       "    \n",
       "        <tr style=\"background-color: hsl(120, 100.00%, 99.65%); border: none;\">\n",
       "            <td style=\"padding: 0 1em 0 0.5em; text-align: right; border: none;\">\n",
       "                0.0041\n",
       "                \n",
       "                    &plusmn; 0.0270\n",
       "                \n",
       "            </td>\n",
       "            <td style=\"padding: 0 0.5em 0 0.5em; text-align: left; border: none;\">\n",
       "                x3\n",
       "            </td>\n",
       "        </tr>\n",
       "    \n",
       "        <tr style=\"background-color: hsl(120, 100.00%, 99.68%); border: none;\">\n",
       "            <td style=\"padding: 0 1em 0 0.5em; text-align: right; border: none;\">\n",
       "                0.0035\n",
       "                \n",
       "                    &plusmn; 0.0206\n",
       "                \n",
       "            </td>\n",
       "            <td style=\"padding: 0 0.5em 0 0.5em; text-align: left; border: none;\">\n",
       "                x6\n",
       "            </td>\n",
       "        </tr>\n",
       "    \n",
       "        <tr style=\"background-color: hsl(0, 100.00%, 99.86%); border: none;\">\n",
       "            <td style=\"padding: 0 1em 0 0.5em; text-align: right; border: none;\">\n",
       "                -0.0011\n",
       "                \n",
       "                    &plusmn; 0.0255\n",
       "                \n",
       "            </td>\n",
       "            <td style=\"padding: 0 0.5em 0 0.5em; text-align: left; border: none;\">\n",
       "                x1\n",
       "            </td>\n",
       "        </tr>\n",
       "    \n",
       "    \n",
       "    </tbody>\n",
       "</table>\n",
       "    \n",
       "\n",
       "    \n",
       "\n",
       "\n",
       "    \n",
       "\n",
       "    \n",
       "\n",
       "    \n",
       "\n",
       "    \n",
       "\n",
       "    \n",
       "\n",
       "    \n",
       "\n",
       "\n",
       "\n"
      ],
      "text/plain": [
       "<IPython.core.display.HTML object>"
      ]
     },
     "execution_count": 55,
     "metadata": {},
     "output_type": "execute_result"
    }
   ],
   "source": [
    "from sklearn.ensemble import RandomForestRegressor\n",
    "import eli5\n",
    "from eli5.sklearn import PermutationImportance\n",
    "rf_regressor = RandomForestRegressor(n_estimators=100)\n",
    "rf_regressor.fit(X, y)\n",
    "perm_importance = PermutationImportance(rf_regressor).fit(X, y)\n",
    "eli5.show_weights(perm_importance)"
   ]
  },
  {
   "cell_type": "markdown",
   "id": "e3836d6a",
   "metadata": {},
   "source": [
    "### Propensity Score Treatment Effect"
   ]
  },
  {
   "cell_type": "code",
   "execution_count": 56,
   "id": "bb9376ee",
   "metadata": {},
   "outputs": [
    {
     "name": "stdout",
     "output_type": "stream",
     "text": [
      "Optimization terminated successfully.\n",
      "         Current function value: 0.658452\n",
      "         Iterations 5\n",
      "Average Treatment Effect (ATE): -0.21212784615384606\n"
     ]
    }
   ],
   "source": [
    "import numpy as np\n",
    "import pandas as pd\n",
    "import statsmodels.api as sm\n",
    "\n",
    "X = df3.drop(['bid2val','design'],axis=1)\n",
    "T  = df3['design']\n",
    "# Concatenate the treatment indicator and covariates\n",
    "data = pd.concat([T, X], axis=1)\n",
    "\n",
    "# Fit a logistic regression model to estimate propensity scores\n",
    "logit_model = sm.Logit(T, X)\n",
    "propensity_scores = logit_model.fit().predict(X)\n",
    "\n",
    "# Estimate the treatment effect using propensity scores\n",
    "treated_outcomes = y[T == 1]\n",
    "untreated_outcomes = y[T == 0]\n",
    "\n",
    "ATE = np.mean(treated_outcomes) - np.mean(untreated_outcomes)\n",
    "\n",
    "# Print the estimated treatment effect\n",
    "print(\"Average Treatment Effect (ATE):\", ATE)"
   ]
  },
  {
   "cell_type": "code",
   "execution_count": 73,
   "id": "08c03af5",
   "metadata": {},
   "outputs": [
    {
     "name": "stderr",
     "output_type": "stream",
     "text": [
      "Objective did not converge. You might want to increase the number of iterations, check the scale of the features or consider increasing regularisation. Duality gap: 1.205e-04, tolerance: 6.637e-05\n",
      "Objective did not converge. You might want to increase the number of iterations, check the scale of the features or consider increasing regularisation. Duality gap: 1.201e-04, tolerance: 6.637e-05\n",
      "Objective did not converge. You might want to increase the number of iterations, check the scale of the features or consider increasing regularisation. Duality gap: 1.142e-04, tolerance: 6.637e-05\n",
      "Objective did not converge. You might want to increase the number of iterations, check the scale of the features or consider increasing regularisation. Duality gap: 1.097e-04, tolerance: 6.637e-05\n",
      "Objective did not converge. You might want to increase the number of iterations, check the scale of the features or consider increasing regularisation. Duality gap: 1.040e-04, tolerance: 6.637e-05\n",
      "Objective did not converge. You might want to increase the number of iterations, check the scale of the features or consider increasing regularisation. Duality gap: 9.999e-05, tolerance: 6.637e-05\n",
      "Objective did not converge. You might want to increase the number of iterations, check the scale of the features or consider increasing regularisation. Duality gap: 3.103e-03, tolerance: 6.637e-05\n",
      "Objective did not converge. You might want to increase the number of iterations, check the scale of the features or consider increasing regularisation. Duality gap: 6.569e-04, tolerance: 6.637e-05\n",
      "Objective did not converge. You might want to increase the number of iterations, check the scale of the features or consider increasing regularisation. Duality gap: 7.098e-05, tolerance: 6.637e-05\n",
      "Objective did not converge. You might want to increase the number of iterations, check the scale of the features or consider increasing regularisation. Duality gap: 3.751e-03, tolerance: 6.637e-05\n",
      "Objective did not converge. You might want to increase the number of iterations, check the scale of the features or consider increasing regularisation. Duality gap: 2.227e-04, tolerance: 6.637e-05\n",
      "Objective did not converge. You might want to increase the number of iterations, check the scale of the features or consider increasing regularisation. Duality gap: 3.523e-04, tolerance: 6.637e-05\n",
      "Objective did not converge. You might want to increase the number of iterations, check the scale of the features or consider increasing regularisation. Duality gap: 6.694e-05, tolerance: 6.637e-05\n",
      "Objective did not converge. You might want to increase the number of iterations, check the scale of the features or consider increasing regularisation. Duality gap: 5.262e-05, tolerance: 1.592e-05\n",
      "Objective did not converge. You might want to increase the number of iterations, check the scale of the features or consider increasing regularisation. Duality gap: 6.111e-05, tolerance: 1.592e-05\n",
      "Objective did not converge. You might want to increase the number of iterations, check the scale of the features or consider increasing regularisation. Duality gap: 6.643e-05, tolerance: 1.592e-05\n",
      "Objective did not converge. You might want to increase the number of iterations, check the scale of the features or consider increasing regularisation. Duality gap: 7.049e-05, tolerance: 1.592e-05\n",
      "Objective did not converge. You might want to increase the number of iterations, check the scale of the features or consider increasing regularisation. Duality gap: 7.391e-05, tolerance: 1.592e-05\n",
      "Objective did not converge. You might want to increase the number of iterations, check the scale of the features or consider increasing regularisation. Duality gap: 7.640e-05, tolerance: 1.592e-05\n",
      "Objective did not converge. You might want to increase the number of iterations, check the scale of the features or consider increasing regularisation. Duality gap: 7.816e-05, tolerance: 1.592e-05\n",
      "Objective did not converge. You might want to increase the number of iterations, check the scale of the features or consider increasing regularisation. Duality gap: 8.003e-05, tolerance: 1.592e-05\n",
      "Objective did not converge. You might want to increase the number of iterations, check the scale of the features or consider increasing regularisation. Duality gap: 8.079e-05, tolerance: 1.592e-05\n",
      "Objective did not converge. You might want to increase the number of iterations, check the scale of the features or consider increasing regularisation. Duality gap: 7.992e-05, tolerance: 1.592e-05\n",
      "Objective did not converge. You might want to increase the number of iterations, check the scale of the features or consider increasing regularisation. Duality gap: 8.042e-05, tolerance: 1.592e-05\n",
      "Objective did not converge. You might want to increase the number of iterations, check the scale of the features or consider increasing regularisation. Duality gap: 7.975e-05, tolerance: 1.592e-05\n",
      "Objective did not converge. You might want to increase the number of iterations, check the scale of the features or consider increasing regularisation. Duality gap: 7.883e-05, tolerance: 1.592e-05\n",
      "Objective did not converge. You might want to increase the number of iterations, check the scale of the features or consider increasing regularisation. Duality gap: 7.781e-05, tolerance: 1.592e-05\n",
      "Objective did not converge. You might want to increase the number of iterations, check the scale of the features or consider increasing regularisation. Duality gap: 7.861e-05, tolerance: 1.592e-05\n",
      "Objective did not converge. You might want to increase the number of iterations, check the scale of the features or consider increasing regularisation. Duality gap: 1.961e-05, tolerance: 1.592e-05\n",
      "Objective did not converge. You might want to increase the number of iterations, check the scale of the features or consider increasing regularisation. Duality gap: 1.934e-05, tolerance: 1.592e-05\n",
      "Objective did not converge. You might want to increase the number of iterations, check the scale of the features or consider increasing regularisation. Duality gap: 1.899e-05, tolerance: 1.592e-05\n",
      "Objective did not converge. You might want to increase the number of iterations, check the scale of the features or consider increasing regularisation. Duality gap: 1.438e-04, tolerance: 6.552e-05\n",
      "Objective did not converge. You might want to increase the number of iterations, check the scale of the features or consider increasing regularisation. Duality gap: 1.708e-04, tolerance: 6.552e-05\n",
      "Objective did not converge. You might want to increase the number of iterations, check the scale of the features or consider increasing regularisation. Duality gap: 1.446e-04, tolerance: 6.552e-05\n",
      "Objective did not converge. You might want to increase the number of iterations, check the scale of the features or consider increasing regularisation. Duality gap: 2.879e-04, tolerance: 6.552e-05\n",
      "Objective did not converge. You might want to increase the number of iterations, check the scale of the features or consider increasing regularisation. Duality gap: 1.468e-04, tolerance: 6.552e-05\n",
      "Objective did not converge. You might want to increase the number of iterations, check the scale of the features or consider increasing regularisation. Duality gap: 6.045e-04, tolerance: 6.552e-05\n",
      "Objective did not converge. You might want to increase the number of iterations, check the scale of the features or consider increasing regularisation. Duality gap: 6.661e-05, tolerance: 6.552e-05\n",
      "Objective did not converge. You might want to increase the number of iterations, check the scale of the features or consider increasing regularisation. Duality gap: 1.342e-04, tolerance: 6.552e-05\n",
      "Objective did not converge. You might want to increase the number of iterations, check the scale of the features or consider increasing regularisation. Duality gap: 3.029e-04, tolerance: 6.552e-05\n",
      "Objective did not converge. You might want to increase the number of iterations, check the scale of the features or consider increasing regularisation. Duality gap: 7.620e-05, tolerance: 6.552e-05\n",
      "Objective did not converge. You might want to increase the number of iterations, check the scale of the features or consider increasing regularisation. Duality gap: 1.877e-04, tolerance: 6.552e-05\n",
      "Objective did not converge. You might want to increase the number of iterations, check the scale of the features or consider increasing regularisation. Duality gap: 2.099e-04, tolerance: 6.552e-05\n",
      "Objective did not converge. You might want to increase the number of iterations, check the scale of the features or consider increasing regularisation. Duality gap: 2.475e-04, tolerance: 6.552e-05\n"
     ]
    },
    {
     "name": "stderr",
     "output_type": "stream",
     "text": [
      "Objective did not converge. You might want to increase the number of iterations, check the scale of the features or consider increasing regularisation. Duality gap: 1.669e-04, tolerance: 6.538e-05\n",
      "Objective did not converge. You might want to increase the number of iterations, check the scale of the features or consider increasing regularisation. Duality gap: 1.651e-04, tolerance: 6.538e-05\n",
      "Objective did not converge. You might want to increase the number of iterations, check the scale of the features or consider increasing regularisation. Duality gap: 1.627e-04, tolerance: 6.538e-05\n",
      "Objective did not converge. You might want to increase the number of iterations, check the scale of the features or consider increasing regularisation. Duality gap: 1.593e-04, tolerance: 6.538e-05\n",
      "Objective did not converge. You might want to increase the number of iterations, check the scale of the features or consider increasing regularisation. Duality gap: 2.245e-04, tolerance: 6.538e-05\n",
      "Objective did not converge. You might want to increase the number of iterations, check the scale of the features or consider increasing regularisation. Duality gap: 1.451e-04, tolerance: 6.538e-05\n",
      "Objective did not converge. You might want to increase the number of iterations, check the scale of the features or consider increasing regularisation. Duality gap: 1.300e-04, tolerance: 6.538e-05\n"
     ]
    },
    {
     "data": {
      "text/plain": [
       "array([-0.01233474, -0.28328196, -0.10794054, -0.19388483, -0.25825829,\n",
       "       -0.38895508, -0.18240353, -0.18406617, -0.24498679, -0.22815755,\n",
       "       -0.30722059, -0.30603996, -0.2584374 , -0.11155054, -0.16590323,\n",
       "       -0.33732133, -0.19981359, -0.26511903, -0.09505024, -0.24498679,\n",
       "       -0.36486339, -0.14283191, -0.33732133, -0.057179  , -0.1770556 ,\n",
       "       -0.01394337, -0.02522504, -0.20406586, -0.1757219 , -0.1770556 ,\n",
       "       -0.28953966, -0.18767616, -0.20715634, -0.33732133, -0.17117586,\n",
       "       -0.27640071, -0.00839581, -0.1962036 , -0.24629997, -0.23843771,\n",
       "       -0.35197308, -0.25825829, -0.1633136 , -0.30623958, -0.13889297,\n",
       "       -0.25593953, -0.17017434, -0.12794023, -0.2872209 , -0.1385608 ,\n",
       "       -0.15833235])"
      ]
     },
     "execution_count": 73,
     "metadata": {},
     "output_type": "execute_result"
    }
   ],
   "source": [
    "y = df3['bid2val']\n",
    "X = W = df3.drop(['bid2val','design'],axis=1)\n",
    "T = df3['design']\n",
    "from econml.dml import LinearDML\n",
    "est = LinearDML()\n",
    "est.fit(y, T, X=X, W=W)\n",
    "est.const_marginal_effect(X)"
   ]
  },
  {
   "cell_type": "code",
   "execution_count": 75,
   "id": "ba53ccc4",
   "metadata": {},
   "outputs": [
    {
     "name": "stderr",
     "output_type": "stream",
     "text": [
      "[Parallel(n_jobs=-1)]: Using backend LokyBackend with 4 concurrent workers.\n",
      "RuntimeError: module compiled against API version 0x10 but this version of numpy is 0xf\n",
      "[Parallel(n_jobs=-1)]: Done   1 out of   1 | elapsed:    4.9s finished\n",
      "[Parallel(n_jobs=-1)]: Using backend LokyBackend with 4 concurrent workers.\n",
      "RuntimeError: module compiled against API version 0x10 but this version of numpy is 0xf\n",
      "[Parallel(n_jobs=-1)]: Done   1 out of   1 | elapsed:    2.2s finished\n"
     ]
    },
    {
     "data": {
      "text/plain": [
       "<econml.orf._ortho_forest.DMLOrthoForest at 0x138a0a650>"
      ]
     },
     "execution_count": 75,
     "metadata": {},
     "output_type": "execute_result"
    }
   ],
   "source": [
    "import numpy as np\n",
    "import sklearn\n",
    "from econml.orf import DMLOrthoForest, DROrthoForest\n",
    "np.random.seed(123)\n",
    "est = DMLOrthoForest(n_trees=1, max_depth=1, subsample_ratio=1,\n",
    "                      model_T=sklearn.linear_model.LinearRegression(),\n",
    "                    model_Y=sklearn.linear_model.LinearRegression())\n",
    "est.fit(y, T, X=W, W=W)"
   ]
  },
  {
   "cell_type": "code",
   "execution_count": 77,
   "id": "c5d88d75",
   "metadata": {},
   "outputs": [
    {
     "name": "stderr",
     "output_type": "stream",
     "text": [
      "[Parallel(n_jobs=-1)]: Using backend LokyBackend with 4 concurrent workers.\n",
      "RuntimeError: module compiled against API version 0x10 but this version of numpy is 0xf\n",
      "RuntimeError: module compiled against API version 0x10 but this version of numpy is 0xf\n"
     ]
    },
    {
     "name": "stdout",
     "output_type": "stream",
     "text": [
      "[-0.17871361 -0.11271337]\n"
     ]
    },
    {
     "name": "stderr",
     "output_type": "stream",
     "text": [
      "[Parallel(n_jobs=-1)]: Done   2 out of   2 | elapsed:    4.8s remaining:    0.0s\n",
      "[Parallel(n_jobs=-1)]: Done   2 out of   2 | elapsed:    4.8s finished\n"
     ]
    }
   ],
   "source": [
    "print(est.effect(W[:2]))"
   ]
  },
  {
   "cell_type": "code",
   "execution_count": 79,
   "id": "6169798b",
   "metadata": {},
   "outputs": [
    {
     "name": "stderr",
     "output_type": "stream",
     "text": [
      "[Parallel(n_jobs=-1)]: Using backend LokyBackend with 4 concurrent workers.\n",
      "RuntimeError: module compiled against API version 0x10 but this version of numpy is 0xf\n",
      "RuntimeError: module compiled against API version 0x10 but this version of numpy is 0xf\n"
     ]
    },
    {
     "name": "stdout",
     "output_type": "stream",
     "text": [
      "[-0.17871361 -0.11271337 -0.16005008 -0.13402474 -0.08890413 -0.04435438\n",
      " -0.18621826 -0.17882395 -0.12898937 -0.14714243 -0.20011561 -0.07576672\n",
      " -0.23380445 -0.11260302 -0.26546626 -0.14187731 -0.11523115 -0.19935567\n",
      " -0.19185101 -0.12898937 -0.14979027 -0.17871361 -0.14187731 -0.13137689\n",
      " -0.15217779 -0.15455645 -0.14691267 -0.25257832 -0.22066704 -0.15217779\n",
      " -0.15501472 -0.1313769  -0.09393949 -0.14187731 -0.21062489 -0.19171189\n",
      " -0.16506573 -0.16267821 -0.2499502  -0.16005008]\n"
     ]
    },
    {
     "name": "stderr",
     "output_type": "stream",
     "text": [
      "[Parallel(n_jobs=-1)]: Done  40 out of  40 | elapsed:    4.5s finished\n"
     ]
    }
   ],
   "source": [
    "print(est.effect(W[:40]))"
   ]
  },
  {
   "cell_type": "code",
   "execution_count": null,
   "id": "a9ab1619",
   "metadata": {},
   "outputs": [],
   "source": [
    "from econml.dml import NonParamDML\n",
    "from sklearn.ensemble import GradientBoostingRegressor\n",
    "est = NonParamDML(model_y=GradientBoostingRegressor(),\n",
    "                  model_t=GradientBoostingRegressor(),\n",
    "                  model_final=GradientBoostingRegressor())\n",
    "est.fit(y, t, X=X, W=W)\n",
    "point = est.effect(X, T0=t0, T1=t1)"
   ]
  },
  {
   "cell_type": "markdown",
   "id": "5e3d80cc",
   "metadata": {},
   "source": [
    "### Mean comparision"
   ]
  },
  {
   "cell_type": "code",
   "execution_count": 59,
   "id": "52a9642e",
   "metadata": {
    "scrolled": true
   },
   "outputs": [
    {
     "data": {
      "text/html": [
       "<div>\n",
       "<style scoped>\n",
       "    .dataframe tbody tr th:only-of-type {\n",
       "        vertical-align: middle;\n",
       "    }\n",
       "\n",
       "    .dataframe tbody tr th {\n",
       "        vertical-align: top;\n",
       "    }\n",
       "\n",
       "    .dataframe thead th {\n",
       "        text-align: right;\n",
       "    }\n",
       "</style>\n",
       "<table border=\"1\" class=\"dataframe\">\n",
       "  <thead>\n",
       "    <tr style=\"text-align: right;\">\n",
       "      <th></th>\n",
       "      <th>bid2val</th>\n",
       "      <th>alpha</th>\n",
       "      <th>gamma</th>\n",
       "      <th>egreedy</th>\n",
       "      <th>asynchronous</th>\n",
       "      <th>design</th>\n",
       "      <th>feedback</th>\n",
       "      <th>num_actions</th>\n",
       "      <th>decay</th>\n",
       "    </tr>\n",
       "    <tr>\n",
       "      <th>N</th>\n",
       "      <th></th>\n",
       "      <th></th>\n",
       "      <th></th>\n",
       "      <th></th>\n",
       "      <th></th>\n",
       "      <th></th>\n",
       "      <th></th>\n",
       "      <th></th>\n",
       "      <th></th>\n",
       "    </tr>\n",
       "  </thead>\n",
       "  <tbody>\n",
       "    <tr>\n",
       "      <th>2</th>\n",
       "      <td>0.867368</td>\n",
       "      <td>0.0604</td>\n",
       "      <td>0.418000</td>\n",
       "      <td>0.360000</td>\n",
       "      <td>0.560000</td>\n",
       "      <td>0.440000</td>\n",
       "      <td>0.400000</td>\n",
       "      <td>8.400000</td>\n",
       "      <td>0.999928</td>\n",
       "    </tr>\n",
       "    <tr>\n",
       "      <th>4</th>\n",
       "      <td>0.909565</td>\n",
       "      <td>0.0550</td>\n",
       "      <td>0.365385</td>\n",
       "      <td>0.461538</td>\n",
       "      <td>0.461538</td>\n",
       "      <td>0.576923</td>\n",
       "      <td>0.576923</td>\n",
       "      <td>8.115385</td>\n",
       "      <td>0.999929</td>\n",
       "    </tr>\n",
       "  </tbody>\n",
       "</table>\n",
       "</div>"
      ],
      "text/plain": [
       "    bid2val   alpha     gamma   egreedy  asynchronous    design  feedback  \\\n",
       "N                                                                           \n",
       "2  0.867368  0.0604  0.418000  0.360000      0.560000  0.440000  0.400000   \n",
       "4  0.909565  0.0550  0.365385  0.461538      0.461538  0.576923  0.576923   \n",
       "\n",
       "   num_actions     decay  \n",
       "N                         \n",
       "2     8.400000  0.999928  \n",
       "4     8.115385  0.999929  "
      ]
     },
     "execution_count": 59,
     "metadata": {},
     "output_type": "execute_result"
    }
   ],
   "source": [
    "df3.groupby('N').mean()"
   ]
  },
  {
   "cell_type": "code",
   "execution_count": 60,
   "id": "a488d6fb",
   "metadata": {},
   "outputs": [
    {
     "data": {
      "text/html": [
       "<div>\n",
       "<style scoped>\n",
       "    .dataframe tbody tr th:only-of-type {\n",
       "        vertical-align: middle;\n",
       "    }\n",
       "\n",
       "    .dataframe tbody tr th {\n",
       "        vertical-align: top;\n",
       "    }\n",
       "\n",
       "    .dataframe thead th {\n",
       "        text-align: right;\n",
       "    }\n",
       "</style>\n",
       "<table border=\"1\" class=\"dataframe\">\n",
       "  <thead>\n",
       "    <tr style=\"text-align: right;\">\n",
       "      <th></th>\n",
       "      <th>bid2val</th>\n",
       "      <th>N</th>\n",
       "      <th>gamma</th>\n",
       "      <th>egreedy</th>\n",
       "      <th>asynchronous</th>\n",
       "      <th>design</th>\n",
       "      <th>feedback</th>\n",
       "      <th>num_actions</th>\n",
       "      <th>decay</th>\n",
       "    </tr>\n",
       "    <tr>\n",
       "      <th>alpha</th>\n",
       "      <th></th>\n",
       "      <th></th>\n",
       "      <th></th>\n",
       "      <th></th>\n",
       "      <th></th>\n",
       "      <th></th>\n",
       "      <th></th>\n",
       "      <th></th>\n",
       "      <th></th>\n",
       "    </tr>\n",
       "  </thead>\n",
       "  <tbody>\n",
       "    <tr>\n",
       "      <th>0.01</th>\n",
       "      <td>0.919467</td>\n",
       "      <td>3.083333</td>\n",
       "      <td>0.435417</td>\n",
       "      <td>0.416667</td>\n",
       "      <td>0.416667</td>\n",
       "      <td>0.458333</td>\n",
       "      <td>0.62500</td>\n",
       "      <td>7.875000</td>\n",
       "      <td>0.999931</td>\n",
       "    </tr>\n",
       "    <tr>\n",
       "      <th>0.10</th>\n",
       "      <td>0.861693</td>\n",
       "      <td>2.962963</td>\n",
       "      <td>0.351852</td>\n",
       "      <td>0.407407</td>\n",
       "      <td>0.592593</td>\n",
       "      <td>0.555556</td>\n",
       "      <td>0.37037</td>\n",
       "      <td>8.592593</td>\n",
       "      <td>0.999926</td>\n",
       "    </tr>\n",
       "  </tbody>\n",
       "</table>\n",
       "</div>"
      ],
      "text/plain": [
       "        bid2val         N     gamma   egreedy  asynchronous    design  \\\n",
       "alpha                                                                   \n",
       "0.01   0.919467  3.083333  0.435417  0.416667      0.416667  0.458333   \n",
       "0.10   0.861693  2.962963  0.351852  0.407407      0.592593  0.555556   \n",
       "\n",
       "       feedback  num_actions     decay  \n",
       "alpha                                   \n",
       "0.01    0.62500     7.875000  0.999931  \n",
       "0.10    0.37037     8.592593  0.999926  "
      ]
     },
     "execution_count": 60,
     "metadata": {},
     "output_type": "execute_result"
    }
   ],
   "source": [
    "df3.groupby('alpha').mean()"
   ]
  },
  {
   "cell_type": "code",
   "execution_count": 61,
   "id": "b0a21186",
   "metadata": {
    "scrolled": false
   },
   "outputs": [
    {
     "data": {
      "text/html": [
       "<div>\n",
       "<style scoped>\n",
       "    .dataframe tbody tr th:only-of-type {\n",
       "        vertical-align: middle;\n",
       "    }\n",
       "\n",
       "    .dataframe tbody tr th {\n",
       "        vertical-align: top;\n",
       "    }\n",
       "\n",
       "    .dataframe thead th {\n",
       "        text-align: right;\n",
       "    }\n",
       "</style>\n",
       "<table border=\"1\" class=\"dataframe\">\n",
       "  <thead>\n",
       "    <tr style=\"text-align: right;\">\n",
       "      <th></th>\n",
       "      <th>bid2val</th>\n",
       "      <th>N</th>\n",
       "      <th>alpha</th>\n",
       "      <th>egreedy</th>\n",
       "      <th>asynchronous</th>\n",
       "      <th>design</th>\n",
       "      <th>feedback</th>\n",
       "      <th>num_actions</th>\n",
       "      <th>decay</th>\n",
       "    </tr>\n",
       "    <tr>\n",
       "      <th>gamma</th>\n",
       "      <th></th>\n",
       "      <th></th>\n",
       "      <th></th>\n",
       "      <th></th>\n",
       "      <th></th>\n",
       "      <th></th>\n",
       "      <th></th>\n",
       "      <th></th>\n",
       "      <th></th>\n",
       "    </tr>\n",
       "  </thead>\n",
       "  <tbody>\n",
       "    <tr>\n",
       "      <th>0.00</th>\n",
       "      <td>0.883293</td>\n",
       "      <td>3.066667</td>\n",
       "      <td>0.061000</td>\n",
       "      <td>0.366667</td>\n",
       "      <td>0.466667</td>\n",
       "      <td>0.566667</td>\n",
       "      <td>0.600000</td>\n",
       "      <td>8.166667</td>\n",
       "      <td>0.999927</td>\n",
       "    </tr>\n",
       "    <tr>\n",
       "      <th>0.95</th>\n",
       "      <td>0.896862</td>\n",
       "      <td>2.952381</td>\n",
       "      <td>0.052857</td>\n",
       "      <td>0.476190</td>\n",
       "      <td>0.571429</td>\n",
       "      <td>0.428571</td>\n",
       "      <td>0.333333</td>\n",
       "      <td>8.380952</td>\n",
       "      <td>0.999931</td>\n",
       "    </tr>\n",
       "  </tbody>\n",
       "</table>\n",
       "</div>"
      ],
      "text/plain": [
       "        bid2val         N     alpha   egreedy  asynchronous    design  \\\n",
       "gamma                                                                   \n",
       "0.00   0.883293  3.066667  0.061000  0.366667      0.466667  0.566667   \n",
       "0.95   0.896862  2.952381  0.052857  0.476190      0.571429  0.428571   \n",
       "\n",
       "       feedback  num_actions     decay  \n",
       "gamma                                   \n",
       "0.00   0.600000     8.166667  0.999927  \n",
       "0.95   0.333333     8.380952  0.999931  "
      ]
     },
     "execution_count": 61,
     "metadata": {},
     "output_type": "execute_result"
    }
   ],
   "source": [
    "df3.groupby('gamma').mean()"
   ]
  },
  {
   "cell_type": "code",
   "execution_count": 62,
   "id": "e1fe7e64",
   "metadata": {},
   "outputs": [
    {
     "data": {
      "text/html": [
       "<div>\n",
       "<style scoped>\n",
       "    .dataframe tbody tr th:only-of-type {\n",
       "        vertical-align: middle;\n",
       "    }\n",
       "\n",
       "    .dataframe tbody tr th {\n",
       "        vertical-align: top;\n",
       "    }\n",
       "\n",
       "    .dataframe thead th {\n",
       "        text-align: right;\n",
       "    }\n",
       "</style>\n",
       "<table border=\"1\" class=\"dataframe\">\n",
       "  <thead>\n",
       "    <tr style=\"text-align: right;\">\n",
       "      <th></th>\n",
       "      <th>bid2val</th>\n",
       "      <th>N</th>\n",
       "      <th>alpha</th>\n",
       "      <th>gamma</th>\n",
       "      <th>asynchronous</th>\n",
       "      <th>design</th>\n",
       "      <th>feedback</th>\n",
       "      <th>num_actions</th>\n",
       "      <th>decay</th>\n",
       "    </tr>\n",
       "    <tr>\n",
       "      <th>egreedy</th>\n",
       "      <th></th>\n",
       "      <th></th>\n",
       "      <th></th>\n",
       "      <th></th>\n",
       "      <th></th>\n",
       "      <th></th>\n",
       "      <th></th>\n",
       "      <th></th>\n",
       "      <th></th>\n",
       "    </tr>\n",
       "  </thead>\n",
       "  <tbody>\n",
       "    <tr>\n",
       "      <th>0</th>\n",
       "      <td>0.892587</td>\n",
       "      <td>2.933333</td>\n",
       "      <td>0.058000</td>\n",
       "      <td>0.348333</td>\n",
       "      <td>0.50000</td>\n",
       "      <td>0.50000</td>\n",
       "      <td>0.50000</td>\n",
       "      <td>8.166667</td>\n",
       "      <td>0.999925</td>\n",
       "    </tr>\n",
       "    <tr>\n",
       "      <th>1</th>\n",
       "      <td>0.883586</td>\n",
       "      <td>3.142857</td>\n",
       "      <td>0.057143</td>\n",
       "      <td>0.452381</td>\n",
       "      <td>0.52381</td>\n",
       "      <td>0.52381</td>\n",
       "      <td>0.47619</td>\n",
       "      <td>8.380952</td>\n",
       "      <td>0.999933</td>\n",
       "    </tr>\n",
       "  </tbody>\n",
       "</table>\n",
       "</div>"
      ],
      "text/plain": [
       "          bid2val         N     alpha     gamma  asynchronous   design  \\\n",
       "egreedy                                                                  \n",
       "0        0.892587  2.933333  0.058000  0.348333       0.50000  0.50000   \n",
       "1        0.883586  3.142857  0.057143  0.452381       0.52381  0.52381   \n",
       "\n",
       "         feedback  num_actions     decay  \n",
       "egreedy                                   \n",
       "0         0.50000     8.166667  0.999925  \n",
       "1         0.47619     8.380952  0.999933  "
      ]
     },
     "execution_count": 62,
     "metadata": {},
     "output_type": "execute_result"
    }
   ],
   "source": [
    "df3.groupby('egreedy').mean()"
   ]
  },
  {
   "cell_type": "code",
   "execution_count": 63,
   "id": "9fec586e",
   "metadata": {},
   "outputs": [
    {
     "data": {
      "text/html": [
       "<div>\n",
       "<style scoped>\n",
       "    .dataframe tbody tr th:only-of-type {\n",
       "        vertical-align: middle;\n",
       "    }\n",
       "\n",
       "    .dataframe tbody tr th {\n",
       "        vertical-align: top;\n",
       "    }\n",
       "\n",
       "    .dataframe thead th {\n",
       "        text-align: right;\n",
       "    }\n",
       "</style>\n",
       "<table border=\"1\" class=\"dataframe\">\n",
       "  <thead>\n",
       "    <tr style=\"text-align: right;\">\n",
       "      <th></th>\n",
       "      <th>bid2val</th>\n",
       "      <th>N</th>\n",
       "      <th>alpha</th>\n",
       "      <th>gamma</th>\n",
       "      <th>egreedy</th>\n",
       "      <th>asynchronous</th>\n",
       "      <th>feedback</th>\n",
       "      <th>num_actions</th>\n",
       "      <th>decay</th>\n",
       "    </tr>\n",
       "    <tr>\n",
       "      <th>design</th>\n",
       "      <th></th>\n",
       "      <th></th>\n",
       "      <th></th>\n",
       "      <th></th>\n",
       "      <th></th>\n",
       "      <th></th>\n",
       "      <th></th>\n",
       "      <th></th>\n",
       "      <th></th>\n",
       "    </tr>\n",
       "  </thead>\n",
       "  <tbody>\n",
       "    <tr>\n",
       "      <th>0</th>\n",
       "      <td>0.997024</td>\n",
       "      <td>2.880000</td>\n",
       "      <td>0.053200</td>\n",
       "      <td>0.456000</td>\n",
       "      <td>0.400000</td>\n",
       "      <td>0.52</td>\n",
       "      <td>0.48</td>\n",
       "      <td>8.600000</td>\n",
       "      <td>0.999926</td>\n",
       "    </tr>\n",
       "    <tr>\n",
       "      <th>1</th>\n",
       "      <td>0.784896</td>\n",
       "      <td>3.153846</td>\n",
       "      <td>0.061923</td>\n",
       "      <td>0.328846</td>\n",
       "      <td>0.423077</td>\n",
       "      <td>0.50</td>\n",
       "      <td>0.50</td>\n",
       "      <td>7.923077</td>\n",
       "      <td>0.999931</td>\n",
       "    </tr>\n",
       "  </tbody>\n",
       "</table>\n",
       "</div>"
      ],
      "text/plain": [
       "         bid2val         N     alpha     gamma   egreedy  asynchronous  \\\n",
       "design                                                                   \n",
       "0       0.997024  2.880000  0.053200  0.456000  0.400000          0.52   \n",
       "1       0.784896  3.153846  0.061923  0.328846  0.423077          0.50   \n",
       "\n",
       "        feedback  num_actions     decay  \n",
       "design                                   \n",
       "0           0.48     8.600000  0.999926  \n",
       "1           0.50     7.923077  0.999931  "
      ]
     },
     "execution_count": 63,
     "metadata": {},
     "output_type": "execute_result"
    }
   ],
   "source": [
    "df3.groupby('design').mean()"
   ]
  },
  {
   "cell_type": "code",
   "execution_count": 64,
   "id": "40188dad",
   "metadata": {},
   "outputs": [
    {
     "data": {
      "text/html": [
       "<div>\n",
       "<style scoped>\n",
       "    .dataframe tbody tr th:only-of-type {\n",
       "        vertical-align: middle;\n",
       "    }\n",
       "\n",
       "    .dataframe tbody tr th {\n",
       "        vertical-align: top;\n",
       "    }\n",
       "\n",
       "    .dataframe thead th {\n",
       "        text-align: right;\n",
       "    }\n",
       "</style>\n",
       "<table border=\"1\" class=\"dataframe\">\n",
       "  <thead>\n",
       "    <tr style=\"text-align: right;\">\n",
       "      <th></th>\n",
       "      <th>bid2val</th>\n",
       "      <th>N</th>\n",
       "      <th>alpha</th>\n",
       "      <th>gamma</th>\n",
       "      <th>egreedy</th>\n",
       "      <th>design</th>\n",
       "      <th>feedback</th>\n",
       "      <th>num_actions</th>\n",
       "      <th>decay</th>\n",
       "    </tr>\n",
       "    <tr>\n",
       "      <th>asynchronous</th>\n",
       "      <th></th>\n",
       "      <th></th>\n",
       "      <th></th>\n",
       "      <th></th>\n",
       "      <th></th>\n",
       "      <th></th>\n",
       "      <th></th>\n",
       "      <th></th>\n",
       "      <th></th>\n",
       "    </tr>\n",
       "  </thead>\n",
       "  <tbody>\n",
       "    <tr>\n",
       "      <th>0</th>\n",
       "      <td>0.902708</td>\n",
       "      <td>3.120000</td>\n",
       "      <td>0.049600</td>\n",
       "      <td>0.342000</td>\n",
       "      <td>0.400000</td>\n",
       "      <td>0.52</td>\n",
       "      <td>0.640000</td>\n",
       "      <td>7.200000</td>\n",
       "      <td>0.999930</td>\n",
       "    </tr>\n",
       "    <tr>\n",
       "      <th>1</th>\n",
       "      <td>0.875585</td>\n",
       "      <td>2.923077</td>\n",
       "      <td>0.065385</td>\n",
       "      <td>0.438462</td>\n",
       "      <td>0.423077</td>\n",
       "      <td>0.50</td>\n",
       "      <td>0.346154</td>\n",
       "      <td>9.269231</td>\n",
       "      <td>0.999927</td>\n",
       "    </tr>\n",
       "  </tbody>\n",
       "</table>\n",
       "</div>"
      ],
      "text/plain": [
       "               bid2val         N     alpha     gamma   egreedy  design  \\\n",
       "asynchronous                                                             \n",
       "0             0.902708  3.120000  0.049600  0.342000  0.400000    0.52   \n",
       "1             0.875585  2.923077  0.065385  0.438462  0.423077    0.50   \n",
       "\n",
       "              feedback  num_actions     decay  \n",
       "asynchronous                                   \n",
       "0             0.640000     7.200000  0.999930  \n",
       "1             0.346154     9.269231  0.999927  "
      ]
     },
     "execution_count": 64,
     "metadata": {},
     "output_type": "execute_result"
    }
   ],
   "source": [
    "df3.groupby('asynchronous').mean()"
   ]
  },
  {
   "cell_type": "code",
   "execution_count": 65,
   "id": "f1685a05",
   "metadata": {},
   "outputs": [
    {
     "data": {
      "text/html": [
       "<div>\n",
       "<style scoped>\n",
       "    .dataframe tbody tr th:only-of-type {\n",
       "        vertical-align: middle;\n",
       "    }\n",
       "\n",
       "    .dataframe tbody tr th {\n",
       "        vertical-align: top;\n",
       "    }\n",
       "\n",
       "    .dataframe thead th {\n",
       "        text-align: right;\n",
       "    }\n",
       "</style>\n",
       "<table border=\"1\" class=\"dataframe\">\n",
       "  <thead>\n",
       "    <tr style=\"text-align: right;\">\n",
       "      <th></th>\n",
       "      <th>bid2val</th>\n",
       "      <th>N</th>\n",
       "      <th>alpha</th>\n",
       "      <th>gamma</th>\n",
       "      <th>egreedy</th>\n",
       "      <th>asynchronous</th>\n",
       "      <th>design</th>\n",
       "      <th>num_actions</th>\n",
       "      <th>decay</th>\n",
       "    </tr>\n",
       "    <tr>\n",
       "      <th>feedback</th>\n",
       "      <th></th>\n",
       "      <th></th>\n",
       "      <th></th>\n",
       "      <th></th>\n",
       "      <th></th>\n",
       "      <th></th>\n",
       "      <th></th>\n",
       "      <th></th>\n",
       "      <th></th>\n",
       "    </tr>\n",
       "  </thead>\n",
       "  <tbody>\n",
       "    <tr>\n",
       "      <th>0</th>\n",
       "      <td>0.888854</td>\n",
       "      <td>2.846154</td>\n",
       "      <td>0.068846</td>\n",
       "      <td>0.511538</td>\n",
       "      <td>0.423077</td>\n",
       "      <td>0.653846</td>\n",
       "      <td>0.50</td>\n",
       "      <td>8.692308</td>\n",
       "      <td>0.999925</td>\n",
       "    </tr>\n",
       "    <tr>\n",
       "      <th>1</th>\n",
       "      <td>0.888908</td>\n",
       "      <td>3.200000</td>\n",
       "      <td>0.046000</td>\n",
       "      <td>0.266000</td>\n",
       "      <td>0.400000</td>\n",
       "      <td>0.360000</td>\n",
       "      <td>0.52</td>\n",
       "      <td>7.800000</td>\n",
       "      <td>0.999932</td>\n",
       "    </tr>\n",
       "  </tbody>\n",
       "</table>\n",
       "</div>"
      ],
      "text/plain": [
       "           bid2val         N     alpha     gamma   egreedy  asynchronous  \\\n",
       "feedback                                                                   \n",
       "0         0.888854  2.846154  0.068846  0.511538  0.423077      0.653846   \n",
       "1         0.888908  3.200000  0.046000  0.266000  0.400000      0.360000   \n",
       "\n",
       "          design  num_actions     decay  \n",
       "feedback                                 \n",
       "0           0.50     8.692308  0.999925  \n",
       "1           0.52     7.800000  0.999932  "
      ]
     },
     "execution_count": 65,
     "metadata": {},
     "output_type": "execute_result"
    }
   ],
   "source": [
    "df3.groupby('feedback').mean()"
   ]
  },
  {
   "cell_type": "code",
   "execution_count": 66,
   "id": "42e2fa74",
   "metadata": {
    "scrolled": true
   },
   "outputs": [
    {
     "data": {
      "text/html": [
       "<div>\n",
       "<style scoped>\n",
       "    .dataframe tbody tr th:only-of-type {\n",
       "        vertical-align: middle;\n",
       "    }\n",
       "\n",
       "    .dataframe tbody tr th {\n",
       "        vertical-align: top;\n",
       "    }\n",
       "\n",
       "    .dataframe thead th {\n",
       "        text-align: right;\n",
       "    }\n",
       "</style>\n",
       "<table border=\"1\" class=\"dataframe\">\n",
       "  <thead>\n",
       "    <tr style=\"text-align: right;\">\n",
       "      <th></th>\n",
       "      <th>bid2val</th>\n",
       "      <th>N</th>\n",
       "      <th>alpha</th>\n",
       "      <th>gamma</th>\n",
       "      <th>egreedy</th>\n",
       "      <th>asynchronous</th>\n",
       "      <th>design</th>\n",
       "      <th>feedback</th>\n",
       "      <th>decay</th>\n",
       "    </tr>\n",
       "    <tr>\n",
       "      <th>num_actions</th>\n",
       "      <th></th>\n",
       "      <th></th>\n",
       "      <th></th>\n",
       "      <th></th>\n",
       "      <th></th>\n",
       "      <th></th>\n",
       "      <th></th>\n",
       "      <th></th>\n",
       "      <th></th>\n",
       "    </tr>\n",
       "  </thead>\n",
       "  <tbody>\n",
       "    <tr>\n",
       "      <th>6</th>\n",
       "      <td>0.873636</td>\n",
       "      <td>3.071429</td>\n",
       "      <td>0.051786</td>\n",
       "      <td>0.373214</td>\n",
       "      <td>0.392857</td>\n",
       "      <td>0.321429</td>\n",
       "      <td>0.571429</td>\n",
       "      <td>0.571429</td>\n",
       "      <td>0.999925</td>\n",
       "    </tr>\n",
       "    <tr>\n",
       "      <th>11</th>\n",
       "      <td>0.907439</td>\n",
       "      <td>2.956522</td>\n",
       "      <td>0.064783</td>\n",
       "      <td>0.413043</td>\n",
       "      <td>0.434783</td>\n",
       "      <td>0.739130</td>\n",
       "      <td>0.434783</td>\n",
       "      <td>0.391304</td>\n",
       "      <td>0.999933</td>\n",
       "    </tr>\n",
       "  </tbody>\n",
       "</table>\n",
       "</div>"
      ],
      "text/plain": [
       "              bid2val         N     alpha     gamma   egreedy  asynchronous  \\\n",
       "num_actions                                                                   \n",
       "6            0.873636  3.071429  0.051786  0.373214  0.392857      0.321429   \n",
       "11           0.907439  2.956522  0.064783  0.413043  0.434783      0.739130   \n",
       "\n",
       "               design  feedback     decay  \n",
       "num_actions                                \n",
       "6            0.571429  0.571429  0.999925  \n",
       "11           0.434783  0.391304  0.999933  "
      ]
     },
     "execution_count": 66,
     "metadata": {},
     "output_type": "execute_result"
    }
   ],
   "source": [
    "df3.groupby('num_actions').mean()"
   ]
  },
  {
   "cell_type": "markdown",
   "id": "a50a406c",
   "metadata": {},
   "source": [
    "### t-tests"
   ]
  },
  {
   "cell_type": "code",
   "execution_count": 67,
   "id": "9b9a64d7",
   "metadata": {},
   "outputs": [],
   "source": [
    "import pandas as pd\n",
    "import researchpy as rp\n",
    "import scipy.stats as stats"
   ]
  },
  {
   "cell_type": "code",
   "execution_count": 68,
   "id": "5cbfa8b7",
   "metadata": {},
   "outputs": [
    {
     "name": "stdout",
     "output_type": "stream",
     "text": [
      "       Variable     N      Mean        SD        SE  95% Conf.  Interval\n",
      "0  Second Price  25.0  0.997024  0.005036  0.001007   0.994945  0.999103\n",
      "1   First Price  26.0  0.784896  0.152841  0.029975   0.723162  0.846630\n",
      "2      combined  51.0  0.888880  0.152192  0.021311   0.846076  0.931685\n"
     ]
    },
    {
     "name": "stderr",
     "output_type": "stream",
     "text": [
      "The series.append method is deprecated and will be removed from pandas in a future version. Use pandas.concat instead.\n"
     ]
    }
   ],
   "source": [
    "summary, results = rp.ttest(group1= df3['bid2val'][df3['design'] == 0], group1_name= \"Second Price\",\n",
    "         group2= df3['bid2val'][df3['design'] == 1], group2_name= \"First Price\")\n",
    "print(summary)"
   ]
  },
  {
   "cell_type": "code",
   "execution_count": 69,
   "id": "4fa08013",
   "metadata": {
    "scrolled": true
   },
   "outputs": [
    {
     "name": "stdout",
     "output_type": "stream",
     "text": [
      "                           Independent t-test  results\n",
      "0  Difference (Second Price - First Price) =    0.2121\n",
      "1                       Degrees of freedom =   49.0000\n",
      "2                                        t =    6.9332\n",
      "3                    Two side test p value =    0.0000\n",
      "4                   Difference < 0 p value =    1.0000\n",
      "5                   Difference > 0 p value =    0.0000\n",
      "6                                Cohen's d =    1.9420\n",
      "7                                Hedge's g =    1.9122\n",
      "8                           Glass's delta1 =   42.1252\n",
      "9                         Point-Biserial r =    0.7037\n"
     ]
    }
   ],
   "source": [
    "print(results)"
   ]
  },
  {
   "cell_type": "code",
   "execution_count": 70,
   "id": "c3f91319",
   "metadata": {},
   "outputs": [
    {
     "data": {
      "text/plain": [
       "Ttest_indResult(statistic=6.933150753758319, pvalue=8.419991411600938e-09)"
      ]
     },
     "execution_count": 70,
     "metadata": {},
     "output_type": "execute_result"
    }
   ],
   "source": [
    "stats.ttest_ind(df3['bid2val'][df3['design'] == 0],df3['bid2val'][df3['design'] == 1])"
   ]
  },
  {
   "cell_type": "code",
   "execution_count": null,
   "id": "86ec7e92",
   "metadata": {},
   "outputs": [],
   "source": []
  }
 ],
 "metadata": {
  "kernelspec": {
   "display_name": "Python 3 (ipykernel)",
   "language": "python",
   "name": "python3"
  },
  "language_info": {
   "codemirror_mode": {
    "name": "ipython",
    "version": 3
   },
   "file_extension": ".py",
   "mimetype": "text/x-python",
   "name": "python",
   "nbconvert_exporter": "python",
   "pygments_lexer": "ipython3",
   "version": "3.10.9"
  }
 },
 "nbformat": 4,
 "nbformat_minor": 5
}
